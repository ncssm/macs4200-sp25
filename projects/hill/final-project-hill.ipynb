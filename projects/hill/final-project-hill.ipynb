{
 "cells": [
  {
   "cell_type": "code",
   "execution_count": null,
   "id": "7d3d192b",
   "metadata": {
    "deletable": false,
    "editable": false
   },
   "outputs": [],
   "source": [
    "# Initialize Otter\n",
    "import otter\n",
    "grader = otter.Notebook(\"final-project-hill.ipynb\")"
   ]
  },
  {
   "cell_type": "markdown",
   "id": "59942f50-e654-4c22-97c1-2fcc3bce2731",
   "metadata": {
    "id": "59942f50-e654-4c22-97c1-2fcc3bce2731"
   },
   "source": [
    "# Final Project: Hill cipher\n",
    "\n",
    "This choice for the final project will focus on the [Hill cipher](https://en.wikipedia.org/wiki/Hill_cipher).\n",
    "\n",
    "From Wikipedia:\n",
    ">In classical cryptography, the Hill cipher is a polygraphic substitution cipher based on linear algebra. Invented by Lester S. Hill in 1929, it was the first polygraphic cipher in which it was practical (though barely) to operate on more than three symbols at once.\n",
    "\n",
    "You will investigate how to create the key and implement the encryption / decryption algorithms in Python."
   ]
  },
  {
   "cell_type": "markdown",
   "id": "6a061529-fac8-4af4-a8ac-50c0c8c1e14c",
   "metadata": {
    "id": "6a061529-fac8-4af4-a8ac-50c0c8c1e14c"
   },
   "source": [
    "## Import your toolkit\n",
    "\n",
    "You are provided the following functions to help complete this assignment:\n",
    "* `text_clean(<string>, <LETTERS>)`\n",
    "* `text_block(<string>, <blocksize>)`\n",
    "* `multiplicative_inverse(<integer>, <modulus>)` which returns `False` if no inverse exists\n",
    "\n",
    "Run the cell below to import these assignments"
   ]
  },
  {
   "cell_type": "code",
   "execution_count": null,
   "id": "0ac13037-2609-4788-9c29-ee64f7383ee7",
   "metadata": {
    "execution": {
     "iopub.execute_input": "2025-05-05T17:04:34.901493Z",
     "iopub.status.busy": "2025-05-05T17:04:34.901190Z",
     "iopub.status.idle": "2025-05-05T17:04:34.905883Z",
     "shell.execute_reply": "2025-05-05T17:04:34.905276Z"
    },
    "id": "0ac13037-2609-4788-9c29-ee64f7383ee7"
   },
   "outputs": [],
   "source": [
    "from finaltoolkit import text_clean, text_block, multiplicative_inverse"
   ]
  },
  {
   "cell_type": "markdown",
   "id": "2f4c8394-1784-4de3-bf29-85ea6cce4da2",
   "metadata": {
    "id": "2f4c8394-1784-4de3-bf29-85ea6cce4da2"
   },
   "source": [
    "## The Encryption key\n",
    "\n",
    "The Hill cipher uses a square [matrix](https://en.wikipedia.org/wiki/Matrix_(mathematics)) as the key, typically with dimensions of either 2x2 or 3x3, but the process can be generalized to an $n$x$n$ matrix.\n",
    "\n",
    "There is a package, `numpy` which allows you to use Python to perform many common matrix operations. Run the cell below to load `numpy`. You will soon learn how to use this package to perform matrix operations."
   ]
  },
  {
   "cell_type": "code",
   "execution_count": null,
   "id": "9e37ac92-b3cd-4452-9a04-2cdf68bc41c3",
   "metadata": {
    "execution": {
     "iopub.execute_input": "2025-05-05T17:04:34.908291Z",
     "iopub.status.busy": "2025-05-05T17:04:34.908029Z",
     "iopub.status.idle": "2025-05-05T17:04:35.117101Z",
     "shell.execute_reply": "2025-05-05T17:04:35.116398Z"
    },
    "id": "9e37ac92-b3cd-4452-9a04-2cdf68bc41c3"
   },
   "outputs": [],
   "source": [
    "import numpy as np"
   ]
  },
  {
   "cell_type": "markdown",
   "id": "1999bfb2-16eb-4ce7-88e3-8508ac59b1b3",
   "metadata": {
    "deletable": false,
    "editable": false,
    "id": "1999bfb2-16eb-4ce7-88e3-8508ac59b1b3"
   },
   "source": [
    "### Question 1: Creating a square matrix using `numpy`\n",
    "\n",
    "`numpy` uses a new data type called an `array` to work with matrices. There are a few different ways you can create an array object.\n",
    "\n",
    "Each of the following code examples will create the array that represents the matrix $A$ shown below:\n",
    "\n",
    "$$A = \\begin{bmatrix}\n",
    "   1 & 2 & 3 \\\\\n",
    "   4 & 5 & 6 \\\\\n",
    "   7 & 8 & 9\n",
    "\\end{bmatrix}\n",
    "$$\n",
    "\n",
    "The first way is to pass a list of lists to `np.array()` where each of the sublists represents a row of the matrix."
   ]
  },
  {
   "cell_type": "code",
   "execution_count": null,
   "id": "b82c8938-0534-411a-a950-f488571fca84",
   "metadata": {
    "deletable": false,
    "editable": false,
    "execution": {
     "iopub.execute_input": "2025-05-05T17:04:35.119931Z",
     "iopub.status.busy": "2025-05-05T17:04:35.119658Z",
     "iopub.status.idle": "2025-05-05T17:04:35.127292Z",
     "shell.execute_reply": "2025-05-05T17:04:35.126599Z"
    },
    "id": "b82c8938-0534-411a-a950-f488571fca84",
    "outputId": "243d1fe0-63f9-4ab7-fda6-bb01f777ac70"
   },
   "outputs": [],
   "source": [
    "np.array([[1,2,3],[4,5,6],[7,8,9]])"
   ]
  },
  {
   "cell_type": "markdown",
   "id": "6bf8529c-278b-47f2-b3a8-cf4802e809da",
   "metadata": {
    "deletable": false,
    "editable": false,
    "id": "6bf8529c-278b-47f2-b3a8-cf4802e809da"
   },
   "source": [
    "The second way is to create a single row of the values in order you want the values to appear from left to right, top to bottom. Then, use the `reshape(<row>, <column>)` method to resize those values into the correct dimensions."
   ]
  },
  {
   "cell_type": "code",
   "execution_count": null,
   "id": "17f60bd1-3e6a-4528-84ab-e7dee1169013",
   "metadata": {
    "deletable": false,
    "editable": false,
    "execution": {
     "iopub.execute_input": "2025-05-05T17:04:35.129834Z",
     "iopub.status.busy": "2025-05-05T17:04:35.129594Z",
     "iopub.status.idle": "2025-05-05T17:04:35.134862Z",
     "shell.execute_reply": "2025-05-05T17:04:35.134215Z"
    },
    "id": "17f60bd1-3e6a-4528-84ab-e7dee1169013",
    "outputId": "b6ddadf2-415e-4ba9-8018-a229a9826219"
   },
   "outputs": [],
   "source": [
    "np.array([1,2,3,4,5,6,7,8,9]).reshape((3,3))"
   ]
  },
  {
   "cell_type": "markdown",
   "id": "1362774b-32c9-429e-9b81-e311dad96509",
   "metadata": {
    "deletable": false,
    "editable": false,
    "id": "1362774b-32c9-429e-9b81-e311dad96509"
   },
   "source": [
    "Assign the following variables as `numpy` arrays that match their mathematical definitions:\n",
    "\n",
    "$$A = \\begin{bmatrix}\n",
    "   6 & 0 \\\\\n",
    "   14 & 22 \n",
    "\\end{bmatrix}\n",
    "$$\n",
    "\n",
    "$$B = \\begin{bmatrix}\n",
    "   2 & 5 & 7 & 1 & 2 \\\\\n",
    "   4 & 2 & 8 & 6 & 3 \n",
    "\\end{bmatrix}\n",
    "$$"
   ]
  },
  {
   "cell_type": "code",
   "execution_count": null,
   "id": "588dd326-da2e-4f3a-817f-3a285ac9e9b2",
   "metadata": {
    "execution": {
     "iopub.execute_input": "2025-05-05T17:04:35.137264Z",
     "iopub.status.busy": "2025-05-05T17:04:35.137014Z",
     "iopub.status.idle": "2025-05-05T17:04:35.142075Z",
     "shell.execute_reply": "2025-05-05T17:04:35.141282Z"
    },
    "id": "588dd326-da2e-4f3a-817f-3a285ac9e9b2",
    "outputId": "f10799e3-6123-4827-edf3-a984f4c41c46",
    "tags": [
     "otter_answer_cell"
    ]
   },
   "outputs": [],
   "source": [
    "A = ...\n",
    "A"
   ]
  },
  {
   "cell_type": "code",
   "execution_count": null,
   "id": "c5da8b31-6f10-45eb-b01b-5ee70b01d680",
   "metadata": {
    "execution": {
     "iopub.execute_input": "2025-05-05T17:04:35.144679Z",
     "iopub.status.busy": "2025-05-05T17:04:35.144432Z",
     "iopub.status.idle": "2025-05-05T17:04:35.149327Z",
     "shell.execute_reply": "2025-05-05T17:04:35.148672Z"
    },
    "id": "c5da8b31-6f10-45eb-b01b-5ee70b01d680",
    "outputId": "63e50a7b-0536-4890-a44f-d017c6fa34d0",
    "tags": [
     "otter_answer_cell"
    ]
   },
   "outputs": [],
   "source": [
    "B = ...\n",
    "B"
   ]
  },
  {
   "cell_type": "code",
   "execution_count": null,
   "id": "4b2218e0",
   "metadata": {
    "deletable": false,
    "editable": false
   },
   "outputs": [],
   "source": [
    "grader.check(\"q1\")"
   ]
  },
  {
   "cell_type": "markdown",
   "id": "db50461e-744a-4350-b6a1-219dc8db4cd9",
   "metadata": {
    "deletable": false,
    "editable": false,
    "id": "db50461e-744a-4350-b6a1-219dc8db4cd9"
   },
   "source": [
    "### Question 2: Validating keys\n",
    "\n",
    "Matrices are only valid for use as a key in the Hill cipher if that matrix has an inverse in a given modulus. Not all matrices will!\n",
    "\n",
    "Those matrices with an inverse in a given modulus meet the following criteria:\n",
    "* They are square (they have the same number of rows and columns)\n",
    "  * You can ask `numpy` to tell you the shape of a matrix by calling `A.shape`. It will return a tuple/list that contains the row and column size. You can access them seperately by using an index (e.g. `A.shape[0]` is the row size, `A.shape[1]` is the column size.)\n",
    "* They have a [determinant](https://en.wikipedia.org/wiki/Determinant) that is non-zero \n",
    "  * The determinant can be found using `numpy` with the `np.linalg.det(A)` function\n",
    "* They have a determinant that has a multiplicative inverse in the given modulus (length of alphabet)\n",
    "  * The multiplicative inverse can be found using the `multiplicative_inverse` function provided in the toolkit\n",
    "\n",
    "**Note:** Determinants of matrices that only contain integers will always be an integer value. However, sometimes `numpy` will have strange calculation errors that result in a float that is very close to an integer. For example"
   ]
  },
  {
   "cell_type": "code",
   "execution_count": null,
   "id": "f2098632-e347-4a49-a28c-2edb3f5d49ca",
   "metadata": {
    "deletable": false,
    "editable": false,
    "execution": {
     "iopub.execute_input": "2025-05-05T17:04:35.212622Z",
     "iopub.status.busy": "2025-05-05T17:04:35.212367Z",
     "iopub.status.idle": "2025-05-05T17:04:35.218081Z",
     "shell.execute_reply": "2025-05-05T17:04:35.217288Z"
    },
    "id": "f2098632-e347-4a49-a28c-2edb3f5d49ca",
    "outputId": "254e360a-6334-4757-ac91-430acaae58d6"
   },
   "outputs": [],
   "source": [
    "np.linalg.det(A)"
   ]
  },
  {
   "cell_type": "markdown",
   "id": "d490492d-6f64-4291-94ac-b2d159bc84b7",
   "metadata": {
    "deletable": false,
    "editable": false,
    "id": "d490492d-6f64-4291-94ac-b2d159bc84b7"
   },
   "source": [
    "Use the `round` function to ensure that any weird computation artifacts are handled by rounding the float to an integer."
   ]
  },
  {
   "cell_type": "code",
   "execution_count": null,
   "id": "be2b847a-8b89-4de5-a6f8-e18cc3d719a3",
   "metadata": {
    "deletable": false,
    "editable": false,
    "execution": {
     "iopub.execute_input": "2025-05-05T17:04:35.220569Z",
     "iopub.status.busy": "2025-05-05T17:04:35.220291Z",
     "iopub.status.idle": "2025-05-05T17:04:35.224949Z",
     "shell.execute_reply": "2025-05-05T17:04:35.224313Z"
    },
    "id": "be2b847a-8b89-4de5-a6f8-e18cc3d719a3",
    "outputId": "3c3504c8-ae3d-4634-97a1-70b2d32fa5fd"
   },
   "outputs": [],
   "source": [
    "round(np.linalg.det(A))"
   ]
  },
  {
   "cell_type": "markdown",
   "id": "7a9ad97f-38df-4bef-a69f-3620575015c8",
   "metadata": {
    "deletable": false,
    "editable": false
   },
   "source": [
    "Write a function `valid_key` that accepts a matrix (numpy array) and returns a boolean value `True` if the key is value and `False` if the key is invalid.\n",
    "\n",
    "Examples\n",
    "```python\n",
    ">>> valid_key(np.array([[3,6],[1,3]]))\n",
    "True\n",
    "\n",
    ">>> valid_key(np.array([[3,6,1],[1,3,2]]))\n",
    "False\n",
    "\n",
    ">>> valid_key(np.array([[6, 24, 1],[13, 16, 10], [20, 17, 15]]))\n",
    "True"
   ]
  },
  {
   "cell_type": "code",
   "execution_count": null,
   "id": "b2d37bfb-c77e-4b3b-bb40-6398303b1581",
   "metadata": {
    "execution": {
     "iopub.execute_input": "2025-05-05T17:04:35.227423Z",
     "iopub.status.busy": "2025-05-05T17:04:35.227175Z",
     "iopub.status.idle": "2025-05-05T17:04:35.231616Z",
     "shell.execute_reply": "2025-05-05T17:04:35.230817Z"
    },
    "id": "b2d37bfb-c77e-4b3b-bb40-6398303b1581",
    "tags": [
     "otter_answer_cell"
    ]
   },
   "outputs": [],
   "source": [
    "def valid_key(A, LETTERS='ABCDEFGHIJKLMNOPQRSTUVWXYZ'):\n",
    "    \n",
    "    ..."
   ]
  },
  {
   "cell_type": "code",
   "execution_count": null,
   "id": "4049d891",
   "metadata": {
    "deletable": false,
    "editable": false
   },
   "outputs": [],
   "source": [
    "grader.check(\"q2\")"
   ]
  },
  {
   "cell_type": "markdown",
   "id": "8cbf08e7-5a7b-40a4-ba7e-ccf3c0575fae",
   "metadata": {
    "deletable": false,
    "editable": false,
    "id": "8cbf08e7-5a7b-40a4-ba7e-ccf3c0575fae"
   },
   "source": [
    "### Question 3: Creating a key\n",
    "\n",
    "Typically a key is created by first choosing a keyword or phrase that is turned into numerical values and stored into the matrix. For example, the keyword `PLAY` becomes the array:\n",
    "\n",
    "$$\\begin{bmatrix}\n",
    "   P & L \\\\\n",
    "   A & Y \n",
    "\\end{bmatrix}=\\begin{bmatrix}\n",
    "   15 & 11 \\\\\n",
    "   0 & 24 \n",
    "\\end{bmatrix}$$\n",
    "\n",
    "Write the function `keygen` which:\n",
    "* takes in a keyword with a length that's a peffect square (e.g 4, 9, 16, 25, ...) and cleans it using the alphabet defined in `LETTERS`\n",
    "* uses keyword length to determine the size of the square matrix that should be created to be used with the Hill cipher\n",
    "\n",
    "You can assume that all cleaned keywords will be perfect squares in length, and therefore correctly fill a square matrix. You will check if the generated key is valid later on in your encryption program and should not test for key validity in this function.\n",
    "\n",
    "**Hint**: Try creating a \"flat\" version of the key (essentially a single row array with all the correct numbers in order) and then use the `reshape` method to turn it into the correctly sized square array.\n",
    "\n",
    "Examples:\n",
    "\n",
    "```python\n",
    ">>> keygen('HELPABCD', LETTERS='ABCD')\n",
    "array([[0, 1],\n",
    "       [2, 3]])\n",
    "\n",
    ">>> keygen('HELP')\n",
    "array([[ 7,  4],\n",
    "       [11, 15]])\n",
    "\n",
    ">>> keygen('GYBNQKURP')\n",
    "array([[ 6, 24,  1],\n",
    "       [13, 16, 10],\n",
    "       [20, 17, 15]])\n",
    "```"
   ]
  },
  {
   "cell_type": "code",
   "execution_count": null,
   "id": "da349ed5-a8f8-4b65-87fd-d16f940ebef4",
   "metadata": {
    "execution": {
     "iopub.execute_input": "2025-05-05T17:04:35.304721Z",
     "iopub.status.busy": "2025-05-05T17:04:35.304488Z",
     "iopub.status.idle": "2025-05-05T17:04:35.308464Z",
     "shell.execute_reply": "2025-05-05T17:04:35.307757Z"
    },
    "id": "da349ed5-a8f8-4b65-87fd-d16f940ebef4",
    "tags": [
     "otter_answer_cell"
    ]
   },
   "outputs": [],
   "source": [
    "def keygen(keyword, LETTERS='ABCDEFGHIJKLMNOPQRSTUVWXYZ'):\n",
    "    \n",
    "    ..."
   ]
  },
  {
   "cell_type": "code",
   "execution_count": null,
   "id": "a82966e5",
   "metadata": {
    "deletable": false,
    "editable": false
   },
   "outputs": [],
   "source": [
    "grader.check(\"q3\")"
   ]
  },
  {
   "cell_type": "markdown",
   "id": "4cc54b8a-87b0-4b47-b578-d9a586e3ec5e",
   "metadata": {
    "id": "4cc54b8a-87b0-4b47-b578-d9a586e3ec5e"
   },
   "source": [
    "## The Hill Cipher\n",
    "\n",
    "To encrypt a message with the Hill cipher, break the message into blocks of each containing `n` characters, where `n` is also the size of your square key matrix. Write each block of characters as a single column matrix with `n` entries. Then, multiply this matrix by your key, and reduce modulo 26. The result will be a `n` x 1 matrix that represents the ciphertext version of the block. Repeat until the entire message is encrypted. "
   ]
  },
  {
   "cell_type": "markdown",
   "id": "84b27be6-c7f8-4140-bea2-563cdc79283d",
   "metadata": {
    "id": "84b27be6-c7f8-4140-bea2-563cdc79283d"
   },
   "source": [
    "### Special Text Preparation\n",
    "The Hill cipher requires that all messages complete \"full\" matrices so the key matrix can be multiplied with every block of the message. If your last block of the message doesn't have enough characters to create a full `n` x 1 matrix, pad the message with the character `X` until it's long enough to create a full block as a matrix.\n",
    "\n",
    "\n",
    "**Example:**\n",
    "\n",
    "Create a 2 x 2 key:\n",
    "\n",
    "$$K = \\begin{bmatrix}\n",
    "   3 & 6 \\\\\n",
    "   1 & 3 \n",
    "\\end{bmatrix}\n",
    "$$\n",
    "\n",
    "Using the plaintext message, `ET PHONE HOME`, create 2 x 1 matrices that numerical represent the message:\n",
    "\n",
    "$$\\begin{bmatrix}\n",
    "   E  \\\\\n",
    "   T \n",
    "\\end{bmatrix}, \\begin{bmatrix}\n",
    "   P  \\\\\n",
    "   H \n",
    "\\end{bmatrix}, \\begin{bmatrix}\n",
    "   O  \\\\\n",
    "   N \n",
    "\\end{bmatrix}, \\begin{bmatrix}\n",
    "   E  \\\\\n",
    "   H \n",
    "\\end{bmatrix}, \\begin{bmatrix}\n",
    "   O  \\\\\n",
    "   M \n",
    "\\end{bmatrix}, \\begin{bmatrix}\n",
    "   E  \\\\\n",
    "   X \n",
    "\\end{bmatrix}\n",
    "$$\n",
    "\n",
    "$$\\begin{bmatrix}\n",
    "   4  \\\\\n",
    "   19 \n",
    "\\end{bmatrix}, \\begin{bmatrix}\n",
    "   15  \\\\\n",
    "   7 \n",
    "\\end{bmatrix}, \\begin{bmatrix}\n",
    "   14  \\\\\n",
    "   13\n",
    "\\end{bmatrix}, \\begin{bmatrix}\n",
    "   4  \\\\\n",
    "   7 \n",
    "\\end{bmatrix}, \\begin{bmatrix}\n",
    "   14  \\\\\n",
    "   12 \n",
    "\\end{bmatrix}, \\begin{bmatrix}\n",
    "   4  \\\\\n",
    "   23 \n",
    "\\end{bmatrix}\n",
    "$$\n",
    "\n",
    "**Note:** an `X` was added to the end of the message so it would completely fill the last 2x1 matrix."
   ]
  },
  {
   "cell_type": "markdown",
   "id": "8de84536-a8e8-496d-853e-62ff04dbf9fc",
   "metadata": {
    "id": "8de84536-a8e8-496d-853e-62ff04dbf9fc"
   },
   "source": [
    "Then, multiply the key by each plaintext matrix to create the ciphertext. The first result is shown below:\n",
    "\n",
    "$$\\begin{bmatrix}\n",
    "   3 & 6 \\\\\n",
    "   1 & 3 \n",
    "\\end{bmatrix} \\begin{bmatrix}\n",
    "   4  \\\\\n",
    "   19 \n",
    "\\end{bmatrix}= \\begin{bmatrix}\n",
    "   3 \\cdot 4 + 6 \\cdot 19 \\\\\n",
    "   1 \\cdot 4 + 3 \\cdot 19\n",
    "\\end{bmatrix} = \\begin{bmatrix}\n",
    "   126 \\\\\n",
    "   61 \n",
    "\\end{bmatrix} = \\begin{bmatrix}\n",
    "   22 \\\\\n",
    "   9 \n",
    "\\end{bmatrix} = \\begin{bmatrix}\n",
    "   W \\\\\n",
    "   J \n",
    "\\end{bmatrix}\n",
    "$$\n",
    "\n",
    "The full ciphertext would be: `WJ JK QB CZ KY UV`"
   ]
  },
  {
   "cell_type": "markdown",
   "id": "56932e03-3217-4bdb-90b1-66db5094d353",
   "metadata": {
    "id": "56932e03-3217-4bdb-90b1-66db5094d353"
   },
   "source": [
    "To decrypt the message, repeat the process using the inverse of the key matrix."
   ]
  },
  {
   "cell_type": "markdown",
   "id": "743a1874-3854-4cc5-85b2-cd357515710e",
   "metadata": {
    "deletable": false,
    "editable": false,
    "id": "743a1874-3854-4cc5-85b2-cd357515710e"
   },
   "source": [
    "### Question 4: Cleaning the message\n",
    "\n",
    "When encrypting a message, the Hill Cipher requires that each block of characters fill the `n` x 1 matrix. \n",
    "\n",
    "Write a function `hill_textclean` that:\n",
    "* first cleans the provided message in the usual way (comparing against LETTERS and only keeping the characters that are already in LETTERS) and then\n",
    "*  checks if the provided `message` is long enough to fill the final block. If `message` would not create full final block, add the correct number of `X`s to the end of the message so it would.\n",
    "\n",
    "This function should work for blocks of any size, not just 2 or 3.\n",
    "\n",
    "Examples:\n",
    "\n",
    "```python\n",
    ">>> hill_textclean('ABDFGHABBABBDBBBCBBDF', 4, LETTERS='ABCX')\n",
    "'ABABBABBBBBCBBXX'\n",
    "\n",
    ">>> hill_textclean('ET PHONE HOME', 2)\n",
    "'ETPHONEHOMEX'\n",
    "\n",
    ">>> hill_textclean('et phone home', 5)\n",
    "'ETPHONEHOMEXXXX'\n",
    "```"
   ]
  },
  {
   "cell_type": "code",
   "execution_count": null,
   "id": "ef75962c-1b67-42e7-974a-1f25ed05813c",
   "metadata": {
    "execution": {
     "iopub.execute_input": "2025-05-05T17:04:35.384341Z",
     "iopub.status.busy": "2025-05-05T17:04:35.384033Z",
     "iopub.status.idle": "2025-05-05T17:04:35.388250Z",
     "shell.execute_reply": "2025-05-05T17:04:35.387398Z"
    },
    "id": "ef75962c-1b67-42e7-974a-1f25ed05813c",
    "tags": [
     "otter_answer_cell"
    ]
   },
   "outputs": [],
   "source": [
    "def hill_textclean(message, block_size, LETTERS='ABCDEFGHIJKLMNOPQRSTUVWXYZ'):\n",
    "    \n",
    "    ..."
   ]
  },
  {
   "cell_type": "code",
   "execution_count": null,
   "id": "c6a77ac2",
   "metadata": {
    "deletable": false,
    "editable": false
   },
   "outputs": [],
   "source": [
    "grader.check(\"q4\")"
   ]
  },
  {
   "cell_type": "markdown",
   "id": "818f883a-9f28-4826-95a6-b783c9530815",
   "metadata": {
    "id": "818f883a-9f28-4826-95a6-b783c9530815"
   },
   "source": [
    "### Inverse matrices\n",
    "\n",
    "Constructing the multiplicative inverse of a matrix, $K$ can easily be done using `numpy` with the command `np.lingalg.inv(K)`.  However, `numpy` is not concerned about ensuring the resulting matrix contains only integer values. \n",
    "\n",
    "For example:"
   ]
  },
  {
   "cell_type": "code",
   "execution_count": null,
   "id": "28bd95d5-fe03-4f17-9ca0-f27de6dc6761",
   "metadata": {
    "execution": {
     "iopub.execute_input": "2025-05-05T17:04:35.430191Z",
     "iopub.status.busy": "2025-05-05T17:04:35.429978Z",
     "iopub.status.idle": "2025-05-05T17:04:35.434841Z",
     "shell.execute_reply": "2025-05-05T17:04:35.434297Z"
    },
    "id": "28bd95d5-fe03-4f17-9ca0-f27de6dc6761",
    "outputId": "ed8d175f-34ee-494e-fdc6-540a957d53a0"
   },
   "outputs": [],
   "source": [
    "K = np.array([[3, 6], [1,3]])\n",
    "np.linalg.inv(K)"
   ]
  },
  {
   "cell_type": "markdown",
   "id": "425a1c1a-82c3-468d-bc8c-a218d12bd9ee",
   "metadata": {
    "id": "425a1c1a-82c3-468d-bc8c-a218d12bd9ee"
   },
   "source": [
    "Since we want each entry in our keys and messages to be integers (since ultimately the result of their calculations will need to be integers that represent characters) we'll need another way to compute the inverse that ensure the final calculation yields integer values. Let's dig into how an inverse matrix is created to learn how this works.\n",
    "\n",
    "The inverse of a square matrix, $A$, is computed by calculating the determinant of the matrix ($\\det{A}$) and multiplying it's reciprocal by the adjugate matrix ($\\text{adj}(A)$). If the input matrix is comprised of integers, then the adjugate matrix is guaranteed to contain only integers as well.\n",
    "\n",
    "$$A^{-1} = \\frac{1}{\\det{A}} \\text{adj}(A) = (\\det{A})^{-1} \\text{adj}(A) $$\n",
    "\n",
    "We've seen that `numpy` can compute the determinant with the `np.linalg.det()` function. Unfortunately, `numpy` doesn't have a way to directly compute the adjugate matrix. However, we can \"trick\" it into computing one. Rearranging the equation from above:\n",
    "\n",
    "$$\\text{adj}(A) = \\det(A) A^{-1}$$\n",
    "\n"
   ]
  },
  {
   "cell_type": "code",
   "execution_count": null,
   "id": "5f0f0e51-e225-4d63-a7f5-44c0fc3aafa3",
   "metadata": {
    "execution": {
     "iopub.execute_input": "2025-05-05T17:04:35.437142Z",
     "iopub.status.busy": "2025-05-05T17:04:35.436916Z",
     "iopub.status.idle": "2025-05-05T17:04:35.442047Z",
     "shell.execute_reply": "2025-05-05T17:04:35.441286Z"
    },
    "id": "5f0f0e51-e225-4d63-a7f5-44c0fc3aafa3",
    "outputId": "002b2705-99c4-4f18-eedb-bbbf7d2e453f"
   },
   "outputs": [],
   "source": [
    "K = np.array([[3, 6], [1,3]])\n",
    "K_adj = np.linalg.det(K) * np.linalg.inv(K)\n",
    "K_adj"
   ]
  },
  {
   "cell_type": "markdown",
   "id": "69792c87-fa99-450b-91b0-97366c2e3876",
   "metadata": {
    "id": "69792c87-fa99-450b-91b0-97366c2e3876"
   },
   "source": [
    "**Note:** To ensure that each element is an integer (notice the . after each number indicating the computation resulted in a float), you must convert the numbers matrix to integers by first using the `.round()` command, followed by the `.astype(int)` command. This will be important since we want to ensure that our final calculations are considered integers by Python, since we plan to use the final calculated numbers as indices in the LETTERS alphabet to help us retrieve the correspond character, and this requires the numbers to be integers, not floats. Converting to integers now will ensure all subsequent calculations remain integers as well.\n",
    "\n",
    "See below:"
   ]
  },
  {
   "cell_type": "code",
   "execution_count": null,
   "id": "9d53fd39-3665-4c24-a637-07653c642456",
   "metadata": {
    "execution": {
     "iopub.execute_input": "2025-05-05T17:04:35.444548Z",
     "iopub.status.busy": "2025-05-05T17:04:35.444321Z",
     "iopub.status.idle": "2025-05-05T17:04:35.449039Z",
     "shell.execute_reply": "2025-05-05T17:04:35.448288Z"
    }
   },
   "outputs": [],
   "source": [
    "K_adj = K_adj.round().astype(int)\n",
    "K_adj"
   ]
  },
  {
   "cell_type": "markdown",
   "id": "a01b56f0-d3c1-4fac-a093-c612ca2ab510",
   "metadata": {
    "id": "a01b56f0-d3c1-4fac-a093-c612ca2ab510"
   },
   "source": [
    "To finish the process off, you'll need to compute the determinant, convert it to an integer using the `round` command, and then find it's multiplicative inverse in the correct modulo."
   ]
  },
  {
   "cell_type": "code",
   "execution_count": null,
   "id": "9813398b-4dbc-4abf-a31c-a6680a00cd9b",
   "metadata": {
    "execution": {
     "iopub.execute_input": "2025-05-05T17:04:35.451683Z",
     "iopub.status.busy": "2025-05-05T17:04:35.451393Z",
     "iopub.status.idle": "2025-05-05T17:04:35.483544Z",
     "shell.execute_reply": "2025-05-05T17:04:35.482776Z"
    },
    "id": "9813398b-4dbc-4abf-a31c-a6680a00cd9b",
    "outputId": "253bf818-188b-49cd-8e98-54a9f0d47816"
   },
   "outputs": [],
   "source": [
    "determinant = round(np.linalg.det(K))\n",
    "det_inv = multiplicative_inverse( determinant, 26 )\n",
    "det_inv"
   ]
  },
  {
   "cell_type": "markdown",
   "id": "08ef729d-a3ad-496c-8565-7038fac868d4",
   "metadata": {
    "id": "08ef729d-a3ad-496c-8565-7038fac868d4"
   },
   "source": [
    "Lastly, multiply the multiplicative inverse of the determinant, `det_inv` by the adjugate matrix, `K_adj`, and reduce by the appropriate modulo."
   ]
  },
  {
   "cell_type": "code",
   "execution_count": null,
   "id": "659192fa-4fd2-4cdf-80df-4cf6c98414c8",
   "metadata": {
    "execution": {
     "iopub.execute_input": "2025-05-05T17:04:35.486140Z",
     "iopub.status.busy": "2025-05-05T17:04:35.485913Z",
     "iopub.status.idle": "2025-05-05T17:04:35.490698Z",
     "shell.execute_reply": "2025-05-05T17:04:35.489919Z"
    },
    "id": "659192fa-4fd2-4cdf-80df-4cf6c98414c8",
    "outputId": "9179be25-7895-4202-c3fc-48891667c29a"
   },
   "outputs": [],
   "source": [
    "K_inv = (det_inv * K_adj) % 26\n",
    "K_inv"
   ]
  },
  {
   "cell_type": "markdown",
   "id": "25eef07a-82c6-4974-b85a-f2a35bdf8591",
   "metadata": {
    "id": "25eef07a-82c6-4974-b85a-f2a35bdf8591"
   },
   "source": [
    "We can confirm that `K` and `K_inv` are inverses of each other by finding their dot product and verifying that it's equivalent to the identity matrix, $I$, which contains the number 0 everywhere except on the diagonal from the top left corner to the bottom right corner whose elements are 1. The size of the identity matrix is the same as the key. So, for our example:\n",
    "\n",
    "$$\n",
    "I = \\begin{bmatrix}\n",
    "   1 & 0 \\\\\n",
    "   0 & 1 \n",
    "\\end{bmatrix}\n",
    "$$"
   ]
  },
  {
   "cell_type": "code",
   "execution_count": null,
   "id": "607b9c5b-90c1-4ad2-8d3a-af4e0d8dec9b",
   "metadata": {
    "execution": {
     "iopub.execute_input": "2025-05-05T17:04:35.493341Z",
     "iopub.status.busy": "2025-05-05T17:04:35.492874Z",
     "iopub.status.idle": "2025-05-05T17:04:35.497194Z",
     "shell.execute_reply": "2025-05-05T17:04:35.496513Z"
    },
    "id": "607b9c5b-90c1-4ad2-8d3a-af4e0d8dec9b",
    "outputId": "0acd987b-be47-4354-9553-f4eeb93bf305"
   },
   "outputs": [],
   "source": [
    "np.dot(K, K_inv) % 26"
   ]
  },
  {
   "cell_type": "markdown",
   "id": "8357cccc-6e41-48a1-b3ac-28e3f8b945e6",
   "metadata": {
    "deletable": false,
    "editable": false,
    "id": "8357cccc-6e41-48a1-b3ac-28e3f8b945e6"
   },
   "source": [
    "### Question 5: Compute the \"Hill Inverse\"\n",
    "\n",
    "Write the function `hill_inverse` that:\n",
    "* computes the inverse of a provided square matrix, `K`, in the provided modulus `n`\n",
    "* returns the inverse matrix from the function\n",
    "\n",
    "You can assume that only valid keys will be passed to this function.\n",
    "\n",
    "Examples:\n",
    "\n",
    "```python\n",
    ">>> hill_inverse(np.array([[3, 6], [1,3]]), 26)\n",
    "array([[ 1, 24],\n",
    "       [17,  1]])\n",
    "\n",
    ">>> hill_inverse(np.array([[3, 6], [1,3]]), 13)\n",
    "array([[ 1, 11],\n",
    "       [ 4,  1]])\n",
    "       \n",
    ">>> hill_inverse(np.array([[6, 24, 1], [13, 16, 10], [20, 17, 15]]), 26)\n",
    "array([[ 8,  5, 10],\n",
    "       [21,  8, 21],\n",
    "       [21, 12,  8]])\n",
    "```"
   ]
  },
  {
   "cell_type": "code",
   "execution_count": null,
   "id": "57473b73-fa3f-4482-b1ed-91b80d63daf7",
   "metadata": {
    "execution": {
     "iopub.execute_input": "2025-05-05T17:04:35.499660Z",
     "iopub.status.busy": "2025-05-05T17:04:35.499451Z",
     "iopub.status.idle": "2025-05-05T17:04:35.502959Z",
     "shell.execute_reply": "2025-05-05T17:04:35.502487Z"
    },
    "id": "57473b73-fa3f-4482-b1ed-91b80d63daf7",
    "tags": [
     "otter_answer_cell"
    ]
   },
   "outputs": [],
   "source": [
    "def hill_inverse(K, n):\n",
    "    \n",
    "    ..."
   ]
  },
  {
   "cell_type": "code",
   "execution_count": null,
   "id": "f8dfe065",
   "metadata": {
    "deletable": false,
    "editable": false
   },
   "outputs": [],
   "source": [
    "grader.check(\"q5\")"
   ]
  },
  {
   "cell_type": "markdown",
   "id": "26eff73d-e73e-4fc3-bb41-50da8b69c910",
   "metadata": {
    "deletable": false,
    "editable": false,
    "id": "26eff73d-e73e-4fc3-bb41-50da8b69c910"
   },
   "source": [
    "### Using `numpy` to perform multiplication\n",
    "\n",
    "The process of multiplying two matrices together is also known as the **dot product** between two matrices rows and columns. You can learn more about matrix multiplication by hand by watching [this video](https://www.youtube.com/watch?v=sYlOjyPyX3g&t=496s). Fortunately, `numpy` can perform the operation very quickly using the `np.dot()` function. You can then use the mod operation, `%` to perform the mod operation on each element in the matrix."
   ]
  },
  {
   "cell_type": "code",
   "execution_count": null,
   "id": "6cd68e77-3a08-451c-8861-3c0023f700d4",
   "metadata": {
    "deletable": false,
    "editable": false,
    "execution": {
     "iopub.execute_input": "2025-05-05T17:04:35.539299Z",
     "iopub.status.busy": "2025-05-05T17:04:35.539038Z",
     "iopub.status.idle": "2025-05-05T17:04:35.543926Z",
     "shell.execute_reply": "2025-05-05T17:04:35.543291Z"
    },
    "id": "6cd68e77-3a08-451c-8861-3c0023f700d4",
    "outputId": "084c0ed4-ae1d-4182-e05d-c376677de22e"
   },
   "outputs": [],
   "source": [
    "K = np.array([[3, 6], [1,3]])\n",
    "block = np.array([[4,19]]).reshape(2,1)\n",
    "\n",
    "ciphertext_numerical = np.dot(K,block) % 26\n",
    "ciphertext_numerical"
   ]
  },
  {
   "cell_type": "markdown",
   "id": "17f60e98-c43d-4b91-8ab2-cc5e564a6594",
   "metadata": {
    "deletable": false,
    "editable": false,
    "id": "17f60e98-c43d-4b91-8ab2-cc5e564a6594"
   },
   "source": [
    "To access each element in the array individual, you can use indexing (just like with lists of lists) to specify exactly which element to retrieve. For example, to access `22` you should specify the location of row 0, column 0:"
   ]
  },
  {
   "cell_type": "code",
   "execution_count": null,
   "id": "4921769c-28e3-48b2-a94b-1d53b4b567e0",
   "metadata": {
    "deletable": false,
    "editable": false,
    "execution": {
     "iopub.execute_input": "2025-05-05T17:04:35.546161Z",
     "iopub.status.busy": "2025-05-05T17:04:35.545946Z",
     "iopub.status.idle": "2025-05-05T17:04:35.579187Z",
     "shell.execute_reply": "2025-05-05T17:04:35.549598Z"
    },
    "id": "4921769c-28e3-48b2-a94b-1d53b4b567e0",
    "outputId": "1ce9443a-a271-46ef-8a42-d7e1aad22ad6"
   },
   "outputs": [],
   "source": [
    "ciphertext_numerical[0][0]"
   ]
  },
  {
   "cell_type": "markdown",
   "id": "189f9e0b-6b91-4dd9-995a-e4eb2cd6ef8d",
   "metadata": {
    "deletable": false,
    "editable": false,
    "id": "189f9e0b-6b91-4dd9-995a-e4eb2cd6ef8d"
   },
   "source": [
    "And to retrieve 9, you should specify row 1, column 0:"
   ]
  },
  {
   "cell_type": "code",
   "execution_count": null,
   "id": "9d243fb9-d890-4526-8585-bde7445e9d69",
   "metadata": {
    "deletable": false,
    "editable": false,
    "execution": {
     "iopub.execute_input": "2025-05-05T17:04:35.582593Z",
     "iopub.status.busy": "2025-05-05T17:04:35.581993Z",
     "iopub.status.idle": "2025-05-05T17:04:35.587243Z",
     "shell.execute_reply": "2025-05-05T17:04:35.586387Z"
    },
    "id": "9d243fb9-d890-4526-8585-bde7445e9d69",
    "outputId": "ff244184-f3f0-441f-bc33-9af94f809f9d"
   },
   "outputs": [],
   "source": [
    "ciphertext_numerical[1][0]"
   ]
  },
  {
   "cell_type": "markdown",
   "id": "cc412ab1-c342-4dad-9022-ffa885857594",
   "metadata": {
    "deletable": false,
    "editable": false,
    "id": "cc412ab1-c342-4dad-9022-ffa885857594"
   },
   "source": [
    "### Question 6: Encryption / Decryption\n",
    "\n",
    "At this point you should now be able write a function `hill` that implements the Hill cipher.\n",
    "\n",
    "The function should:\n",
    "* accept a keyword (`str`), block_size (`int`), and message (`str`)\n",
    "* an optional boolean `decrypt` that when set to `True` decrypts the message, and when set to `False` decrypts the message.\n",
    "* an optional string `LETTERS` that can be used to specify that alphabet to use when cleaning and encrypting/decrypting the message.\n",
    "* return a decrypted plaintext as a lowercase string and return an encrypted ciphertext as an uppercase message blocked into character groups with length of 5\n",
    "\n",
    "Examples:\n",
    "```python\n",
    ">>> hill('DGBD', 2, 'ETPHONEHOME', LETTERS='ABCDEFGHIJKLMNOQRSTUVWXYZ')\n",
    "'VIFZN AFZKZ'\n",
    "\n",
    ">>> hill('DGBD', 2, 'WJJKQ BCZKY UV', decrypt=True)\n",
    "'etphonehomex'\n",
    "\n",
    ">>> hill('GYBNQKURP', 3, 'ACT')\n",
    "'POH'\n",
    "```"
   ]
  },
  {
   "cell_type": "code",
   "execution_count": null,
   "id": "e1f79d44-c93f-4b89-ada5-92850946650d",
   "metadata": {
    "execution": {
     "iopub.execute_input": "2025-05-05T17:04:35.590478Z",
     "iopub.status.busy": "2025-05-05T17:04:35.589573Z",
     "iopub.status.idle": "2025-05-05T17:04:35.599959Z",
     "shell.execute_reply": "2025-05-05T17:04:35.598356Z"
    },
    "id": "e1f79d44-c93f-4b89-ada5-92850946650d",
    "tags": [
     "otter_answer_cell"
    ]
   },
   "outputs": [],
   "source": [
    "def hill(keyword, block_size, message, decrypt=False, LETTERS='ABCDEFGHIJKLMNOPQRSTUVWXYZ'):"
   ]
  },
  {
   "cell_type": "code",
   "execution_count": null,
   "id": "901c0258",
   "metadata": {
    "deletable": false,
    "editable": false
   },
   "outputs": [],
   "source": [
    "grader.check(\"q6\")"
   ]
  },
  {
   "cell_type": "markdown",
   "id": "2ffd40a7-eb84-4c82-96ac-da8bc7309f65",
   "metadata": {
    "id": "2ffd40a7-eb84-4c82-96ac-da8bc7309f65"
   },
   "source": [
    "## Ciphertext analysis"
   ]
  },
  {
   "cell_type": "markdown",
   "id": "7d28e51b-05b7-458d-8b67-02f50fb10065",
   "metadata": {
    "id": "7d28e51b-05b7-458d-8b67-02f50fb10065"
   },
   "source": [
    "There is a file included with this notebook that contains the first chapter of Pride and Prejudice. These responses will only be graded for accuracy once you've submitted your assignment, so make sure you are certain of your answers before submitting!\n",
    "\n",
    "Run the cell below to load the chapter to the string named `plaintext`"
   ]
  },
  {
   "cell_type": "code",
   "execution_count": null,
   "id": "3bc21fd3-1318-481e-9f13-f01aa646d3ac",
   "metadata": {
    "execution": {
     "iopub.execute_input": "2025-05-05T17:04:35.714221Z",
     "iopub.status.busy": "2025-05-05T17:04:35.713531Z",
     "iopub.status.idle": "2025-05-05T17:04:35.718305Z",
     "shell.execute_reply": "2025-05-05T17:04:35.717165Z"
    },
    "id": "3bc21fd3-1318-481e-9f13-f01aa646d3ac"
   },
   "outputs": [],
   "source": [
    "with open('pride-prejudice-chapter-01.txt') as f:\n",
    "    plaintext = f.read()"
   ]
  },
  {
   "cell_type": "markdown",
   "id": "b8b26196-9fb6-43a6-90c8-9c3d2a306f7e",
   "metadata": {
    "deletable": false,
    "editable": false,
    "id": "b8b26196-9fb6-43a6-90c8-9c3d2a306f7e"
   },
   "source": [
    "<!-- BEGIN QUESTION -->\n",
    "\n",
    "### Question 7: Creating a bar chart\n",
    "\n",
    "Encrypt the plaintext using a keyword of `PRIDEABCD`, and block size `3`, then create a bar chart that shows the single character frequencies of each of the 25 English characters used in the message."
   ]
  },
  {
   "cell_type": "code",
   "execution_count": null,
   "id": "9bf4a23f-cd71-41ff-aa1e-6f3e26f3da24",
   "metadata": {
    "execution": {
     "iopub.execute_input": "2025-05-05T17:04:35.720964Z",
     "iopub.status.busy": "2025-05-05T17:04:35.720702Z",
     "iopub.status.idle": "2025-05-05T17:04:36.503781Z",
     "shell.execute_reply": "2025-05-05T17:04:36.502877Z"
    },
    "id": "9bf4a23f-cd71-41ff-aa1e-6f3e26f3da24",
    "outputId": "9e25a974-bb3d-44be-bcc2-443742503712",
    "tags": [
     "otter_answer_cell"
    ]
   },
   "outputs": [],
   "source": [
    "ciphertext = ...\n"
   ]
  },
  {
   "cell_type": "markdown",
   "id": "6d7f3d2f-ca9d-4eef-a42c-569a5458d293",
   "metadata": {
    "deletable": false,
    "editable": false,
    "id": "6d7f3d2f-ca9d-4eef-a42c-569a5458d293"
   },
   "source": [
    "<!-- END QUESTION -->\n",
    "\n",
    "### Question 8: Index of Coincidence\n",
    "\n",
    "Write a function `index_of_coincidence` to compute the index of coincidence of the ciphertext. You should compute the \"exact\" version of the IoC, not the quicker approximation.\n",
    "\n",
    "**Hint:** Reference Lesson 17 if you need a refresher!"
   ]
  },
  {
   "cell_type": "code",
   "execution_count": null,
   "id": "931e2a64-6688-477d-b762-e08460d828d8",
   "metadata": {
    "execution": {
     "iopub.execute_input": "2025-05-05T17:04:36.506733Z",
     "iopub.status.busy": "2025-05-05T17:04:36.506350Z",
     "iopub.status.idle": "2025-05-05T17:04:36.511138Z",
     "shell.execute_reply": "2025-05-05T17:04:36.510269Z"
    },
    "id": "931e2a64-6688-477d-b762-e08460d828d8",
    "tags": [
     "otter_answer_cell"
    ]
   },
   "outputs": [],
   "source": [
    "def index_of_coincidence(message, LETTERS='ABCDEFGHIJKLMNOPQRSTUVWXYZ'):\n",
    "    \n",
    "    ..."
   ]
  },
  {
   "cell_type": "code",
   "execution_count": null,
   "id": "0b127196",
   "metadata": {
    "deletable": false,
    "editable": false
   },
   "outputs": [],
   "source": [
    "grader.check(\"q8\")"
   ]
  },
  {
   "cell_type": "markdown",
   "id": "728b26f8-1d4e-449d-b806-8609429ea72c",
   "metadata": {
    "deletable": false,
    "editable": false,
    "id": "728b26f8-1d4e-449d-b806-8609429ea72c"
   },
   "source": [
    "<!-- BEGIN QUESTION -->\n",
    "\n",
    "### Question 9: Classifying the cipher\n",
    "\n",
    "The Hill cipher is what's known as a polygraphic cipher, which we have not yet covered in this cousre.. It's not a monoalphabetic substitution cipher or a polyalphabetic substitution cipher. However, which of those does it seem to behave like? Describe the reasoning for your answer below, including specific details from your index of coincidence calculation and bar chart to back up your response."
   ]
  },
  {
   "cell_type": "markdown",
   "id": "093acfc2",
   "metadata": {
    "tags": [
     "otter_answer_cell"
    ]
   },
   "source": [
    "_Type your answer here, replacing this text._"
   ]
  },
  {
   "cell_type": "markdown",
   "id": "deb91d58",
   "metadata": {
    "deletable": false,
    "editable": false
   },
   "source": [
    "<!-- END QUESTION -->\n",
    "\n"
   ]
  },
  {
   "cell_type": "markdown",
   "id": "9f1ef82a",
   "metadata": {
    "deletable": false,
    "editable": false
   },
   "source": [
    "## Submission\n",
    "\n",
    "Make sure you have run all cells in your notebook in order before running the cell below, so that all images/graphs appear in the output. The cell below will generate a zip file for you to submit."
   ]
  },
  {
   "cell_type": "code",
   "execution_count": null,
   "id": "4817cf1f",
   "metadata": {
    "deletable": false,
    "editable": false
   },
   "outputs": [],
   "source": [
    "grader.export(pdf=False, force_save=True)"
   ]
  },
  {
   "cell_type": "markdown",
   "id": "31e9a8f1",
   "metadata": {},
   "source": [
    " "
   ]
  }
 ],
 "metadata": {
  "colab": {
   "provenance": []
  },
  "kernelspec": {
   "display_name": "Python 3 (ipykernel)",
   "language": "python",
   "name": "python3"
  },
  "language_info": {
   "codemirror_mode": {
    "name": "ipython",
    "version": 3
   },
   "file_extension": ".py",
   "mimetype": "text/x-python",
   "name": "python",
   "nbconvert_exporter": "python",
   "pygments_lexer": "ipython3",
   "version": "3.12.9"
  },
  "otter": {
   "OK_FORMAT": true,
   "tests": {
    "q1": {
     "name": "q1",
     "points": 1,
     "suites": [
      {
       "cases": [
        {
         "code": ">>> import numpy\n>>> type(A) == numpy.ndarray\nTrue",
         "failure_message": "A is not a numpy array",
         "hidden": false,
         "locked": false,
         "points": 0,
         "success_message": "A is a numpy array"
        },
        {
         "code": ">>> np.shape(A)\n(2, 2)",
         "failure_message": "A does not have the correct dimensions",
         "hidden": false,
         "locked": false,
         "points": 0,
         "success_message": "A has the correct dimensions"
        },
        {
         "code": ">>> np.shape(B)\n(2, 5)",
         "failure_message": "B does not have the correct dimensions",
         "hidden": false,
         "locked": false,
         "points": 0,
         "success_message": "B has the correct dimensions"
        },
        {
         "code": ">>> A\narray([[ 6,  0],\n       [14, 22]])",
         "failure_message": "A is not defined correctly",
         "hidden": false,
         "locked": false,
         "points": 0.5,
         "success_message": "A is defined correctly"
        },
        {
         "code": ">>> B\narray([[2, 5, 7, 1, 2],\n       [4, 2, 8, 6, 3]])",
         "failure_message": "B is not defined correctly",
         "hidden": false,
         "locked": false,
         "points": 0.5,
         "success_message": "B is defined correctly"
        }
       ],
       "scored": true,
       "setup": "",
       "teardown": "",
       "type": "doctest"
      }
     ]
    },
    "q2": {
     "name": "q2",
     "points": 3,
     "suites": [
      {
       "cases": [
        {
         "code": ">>> valid_key(np.array([[3, 6], [1, 3]])) != None\nTrue",
         "failure_message": "Make sure you're using a return statement",
         "hidden": false,
         "locked": false,
         "points": 0
        },
        {
         "code": ">>> valid_key(np.array([[3, 6], [1, 3]]))\nTrue",
         "hidden": false,
         "locked": false,
         "points": 0.5
        },
        {
         "code": ">>> valid_key(np.array([[3, 6, 1], [1, 3, 2]]))\nFalse",
         "hidden": false,
         "locked": false,
         "points": 0.5
        },
        {
         "code": ">>> valid_key(np.array([[6, 24, 1], [13, 16, 10], [20, 17, 15]]))\nTrue",
         "hidden": false,
         "locked": false,
         "points": 0.5
        },
        {
         "code": ">>> valid_key(np.array([[6, 0, 1], [0, 17, 10], [20, 17, 15]]))\nFalse",
         "hidden": false,
         "locked": false,
         "points": 0.5
        }
       ],
       "scored": true,
       "setup": "",
       "teardown": "",
       "type": "doctest"
      }
     ]
    },
    "q3": {
     "name": "q3",
     "points": 2,
     "suites": [
      {
       "cases": [
        {
         "code": ">>> type(keygen('HELP')) != None\nTrue",
         "failure_message": "Make sure you're using a return statement",
         "hidden": false,
         "locked": false,
         "points": 0
        },
        {
         "code": ">>> keygen('HELPABCD', LETTERS='ABCD')\narray([[0, 1],\n       [2, 3]])",
         "failure_message": "Make sure you're cleaning the keyword using LETTERS",
         "hidden": false,
         "locked": false,
         "points": 0
        },
        {
         "code": ">>> keygen('HELP')\narray([[ 7,  4],\n       [11, 15]])",
         "failure_message": "Doesn't work for the keyword HELP",
         "hidden": false,
         "locked": false,
         "points": 0
        },
        {
         "code": ">>> keygen('MATH')\narray([[12,  0],\n       [19,  7]])",
         "failure_message": "Doesn't work for the keyword MATH",
         "hidden": false,
         "locked": false,
         "points": 0.5
        },
        {
         "code": ">>> keygen('GYBNQKURP')\narray([[ 6, 24,  1],\n       [13, 16, 10],\n       [20, 17, 15]])",
         "failure_message": "Doesn't work for the keyword GYBNQKURP",
         "hidden": false,
         "locked": false,
         "points": 0.5
        }
       ],
       "scored": true,
       "setup": "",
       "teardown": "",
       "type": "doctest"
      }
     ]
    },
    "q4": {
     "name": "q4",
     "points": 4,
     "suites": [
      {
       "cases": [
        {
         "code": ">>> hill_textclean('ET PHONE HOME', 2) != None\nTrue",
         "failure_message": "Make sure you're using a return statement",
         "hidden": false,
         "locked": false,
         "points": 0
        },
        {
         "code": ">>> hill_textclean('ABDFGHABBABBDBBBCBBDF', 4, LETTERS='ABCX')\n'ABABBABBBBBCBBXX'",
         "failure_message": "Make sure you're cleaning the message using LETTERS",
         "hidden": false,
         "locked": false,
         "points": 0
        },
        {
         "code": ">>> hill_textclean('ET PHONE HOME', 2)\n'ETPHONEHOMEX'",
         "hidden": false,
         "locked": false,
         "points": 1
        },
        {
         "code": ">>> hill_textclean('et phone home', 3)\n'ETPHONEHOMEX'",
         "failure_message": "Make sure your function works for keys with more than 2 rows",
         "hidden": false,
         "locked": false,
         "points": 1
        },
        {
         "code": ">>> hill_textclean('et phone home', 5)\n'ETPHONEHOMEXXXX'",
         "failure_message": "Make sure your function works for keys with more than 2 rows",
         "hidden": false,
         "locked": false,
         "points": 1
        }
       ],
       "scored": true,
       "setup": "",
       "teardown": "",
       "type": "doctest"
      }
     ]
    },
    "q5": {
     "name": "q5",
     "points": 4,
     "suites": [
      {
       "cases": [
        {
         "code": ">>> type(hill_inverse(np.array([[3, 6], [1, 3]]), 26)) != None\nTrue",
         "failure_message": "Make sure you're using a return statement",
         "hidden": false,
         "locked": false,
         "points": 0
        },
        {
         "code": ">>> hill_inverse(np.array([[3, 6], [1, 3]]), 26)\narray([[ 1, 24],\n       [17,  1]])",
         "hidden": false,
         "locked": false,
         "points": 1
        },
        {
         "code": ">>> hill_inverse(np.array([[3, 6], [1, 3]]), 13)\narray([[ 1, 11],\n       [ 4,  1]])",
         "failure_message": "Make sure the function works with various n values",
         "hidden": false,
         "locked": false,
         "points": 1
        },
        {
         "code": ">>> hill_inverse(np.array([[6, 24, 1], [13, 16, 10], [20, 17, 15]]), 26)\narray([[ 8,  5, 10],\n       [21,  8, 21],\n       [21, 12,  8]])",
         "failure_message": "Make sure the function works with rows > 2",
         "hidden": false,
         "locked": false,
         "points": 1
        }
       ],
       "scored": true,
       "setup": "",
       "teardown": "",
       "type": "doctest"
      }
     ]
    },
    "q6": {
     "name": "q6",
     "points": 6,
     "suites": [
      {
       "cases": [
        {
         "code": ">>> hill('DGBD', 2, 'ETPHONEHOME') != None\nTrue",
         "failure_message": "Make sure you're using a return statement",
         "hidden": false,
         "locked": false,
         "points": 0
        },
        {
         "code": ">>> hill('DGBD', 2, 'ETPHONEHOME')\n'WJJKQ BCZKY UV'",
         "hidden": false,
         "locked": false,
         "points": 0.5
        },
        {
         "code": ">>> hill('DGBD', 2, 'WJJKQ BCZKY UV', decrypt=True)\n'etphonehomex'",
         "hidden": false,
         "locked": false,
         "points": 0.5
        },
        {
         "code": ">>> hill('DGBD', 2, 'ETPHONEHOME', LETTERS='ABCDEFGHIJKLMNOQRSTUVWXYZ')\n'VIFZN AFZKZ'",
         "failure_message": "Make sure you're using LETTERS when cleaning your messages!",
         "hidden": false,
         "locked": false,
         "points": 0.5
        },
        {
         "code": ">>> hill('MATH', 2, 'ETPHONEHOME')\nFalse",
         "failure_message": "Make sure you're checking if the key is valid!",
         "hidden": false,
         "locked": false,
         "points": 0.5
        },
        {
         "code": ">>> hill('GYBNQKURP', 3, 'ACT')\n'POH'",
         "hidden": false,
         "locked": false,
         "points": 0.5
        },
        {
         "code": ">>> hill('GYBNQKURP', 3, 'POH', decrypt=True)\n'act'",
         "hidden": false,
         "locked": false,
         "points": 1
        }
       ],
       "scored": true,
       "setup": "",
       "teardown": "",
       "type": "doctest"
      }
     ]
    },
    "q8": {
     "name": "q8",
     "points": 2,
     "suites": [
      {
       "cases": [
        {
         "code": ">>> index_of_coincidence('test message') != None\nTrue",
         "failure_message": "Make sure you're using a return statement",
         "hidden": false,
         "locked": false,
         "points": 0
        },
        {
         "code": ">>> round(index_of_coincidence('test message'), 5) == round(index_of_coincidence('TESTMESSAGE'), 5)\nTrue",
         "failure_message": "Make sure you are cleaning your message before computing the IC",
         "hidden": false,
         "locked": false,
         "points": 0
        },
        {
         "code": ">>> round(index_of_coincidence('test message'), 5)\n0.12727",
         "hidden": false,
         "locked": false,
         "points": 1
        }
       ],
       "scored": true,
       "setup": "",
       "teardown": "",
       "type": "doctest"
      }
     ]
    }
   }
  }
 },
 "nbformat": 4,
 "nbformat_minor": 5
}
