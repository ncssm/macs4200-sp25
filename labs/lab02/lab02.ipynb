{
 "cells": [
  {
   "cell_type": "code",
   "execution_count": null,
   "id": "04f5398a",
   "metadata": {
    "deletable": false,
    "editable": false
   },
   "outputs": [],
   "source": [
    "# Initialize Otter\n",
    "import otter\n",
    "grader = otter.Notebook(\"lab02.ipynb\")"
   ]
  },
  {
   "cell_type": "markdown",
   "id": "40b77d22-5aae-46eb-8ae5-7edcfce48956",
   "metadata": {},
   "source": [
    "# Lab 02: Functions and File I/O\n",
    "\n"
   ]
  },
  {
   "cell_type": "markdown",
   "id": "aa9e6649-9d49-417c-881c-f33bd592dd4b",
   "metadata": {},
   "source": [
    "## Writing functions\n",
    "There are several tasks that you'll need to complete frequently throughout this course when working with text. In this lab, you'll learn how to write a function to complete these tasks so you don't need to copy, paste, and modify your computer code each time you want to slightly modify the parameters of the task at hand. You'll write functions to help perform the following tasks:\n",
    "* `text_clean`: This function will accept a string as an input, and return a string that only contains characters in the alphabet you're using\n",
    "* `text_block`: Ciphertext is traditionally displayed as upper-case letters grouped into blocks of 5 characters. This function will accept a string and return the same string grouped in blocks of 5 characters with a single space between the blocks\n",
    "* `caesar`: This function will accept a string and encrypt or decrypt it using the Caesar cipher, and return a string with the result\n",
    "* `gcd`: This function will accept two integers as inputs and use the Euclidean Algorithm to determine the greatest common divisor, which it will return as an integer"
   ]
  },
  {
   "cell_type": "markdown",
   "id": "35c13593-c3bb-4c2c-9b61-74c8ad4cc37c",
   "metadata": {
    "deletable": false,
    "editable": false
   },
   "source": [
    "### Question 1.1\n",
    "\n",
    "Write a function named `text_clean` with arguments:\n",
    "* `text`: a string containing the text to clean\n",
    "* `LETTERS` (optional argument, default value `'ABCDEFGHIJKLMNOPQRSTUVWXYZ'`): the alphabet that is considered valid\n",
    "\n",
    "The function should return all the upper-case version of the characters in `text` that are also in `LETTERS`.\n",
    "\n",
    "**Note**: You should not use the `.replace` string method to remove unwanted characters from `text`. This would require you, the programmer, to construct a *deny-list* of invalid characters. Users of your function will likely be very good at coming up with invalid characters you didn't think of putting on your deny-list. Instead, checking to see if the characters in `text` are in `LETTERS`, you're using an *allow-list* approach, which is much easier to use to create a valid string."
   ]
  },
  {
   "cell_type": "code",
   "execution_count": null,
   "id": "ac7aeda8-3fbe-4dd1-8af5-209d9ef690ab",
   "metadata": {
    "execution": {
     "iopub.execute_input": "2025-02-18T15:41:07.414219Z",
     "iopub.status.busy": "2025-02-18T15:41:07.413964Z",
     "iopub.status.idle": "2025-02-18T15:41:07.418803Z",
     "shell.execute_reply": "2025-02-18T15:41:07.418286Z"
    },
    "tags": []
   },
   "outputs": [],
   "source": []
  },
  {
   "cell_type": "code",
   "execution_count": null,
   "id": "0eab00f3",
   "metadata": {
    "deletable": false,
    "editable": false
   },
   "outputs": [],
   "source": [
    "grader.check(\"q1_1\")"
   ]
  },
  {
   "cell_type": "markdown",
   "id": "3d331058-31fc-4eff-9020-67a8b49d81f0",
   "metadata": {
    "deletable": false,
    "editable": false
   },
   "source": [
    "### Question 1.2\n",
    "\n",
    "Write a function named `text_block` with arguments:\n",
    "* `text`: a string containing the text to clean\n",
    "* `n` (optional argument, default value `5`): an integer that sets the size of each block\n",
    "\n",
    "The function should return the string `text`, with a single space inserted every `n` characters. For example:\n",
    "\n",
    "```python\n",
    ">>> print(text_block('TESTMESSAGE'))\n",
    "TESTM ESSAG E\n",
    "```\n",
    "\n",
    "```python\n",
    ">>> print(text_block('TESTMESSAGE'), n=3)\n",
    "TES TME SSA GE\n",
    "```\n",
    "\n",
    "**Note**: You can assume that any text used as an input to `text_block` is already cleaned."
   ]
  },
  {
   "cell_type": "code",
   "execution_count": null,
   "id": "9e0b81f4-a03c-4435-81dd-06fa7228ee04",
   "metadata": {
    "execution": {
     "iopub.execute_input": "2025-02-18T15:41:07.482226Z",
     "iopub.status.busy": "2025-02-18T15:41:07.481755Z",
     "iopub.status.idle": "2025-02-18T15:41:07.485708Z",
     "shell.execute_reply": "2025-02-18T15:41:07.485085Z"
    },
    "tags": []
   },
   "outputs": [],
   "source": []
  },
  {
   "cell_type": "code",
   "execution_count": null,
   "id": "b40f8775",
   "metadata": {
    "deletable": false,
    "editable": false
   },
   "outputs": [],
   "source": [
    "grader.check(\"q1_2\")"
   ]
  },
  {
   "cell_type": "markdown",
   "id": "124fc7dc-3631-4b69-b026-71c618cf0182",
   "metadata": {
    "deletable": false,
    "editable": false
   },
   "source": [
    "### Question 1.3\n",
    "\n",
    "Now that you can clean and block messages, you're ready to write a function that implements the Caesar cipher.\n",
    "\n",
    "Write the function `caesar` with arguments:\n",
    "* `text`: a string that contains a message to encrypt or decrypt. You should assume this string is not \"clean\"\n",
    "* `key`: an integer that will be used as the encryption or decryption key\n",
    "* `decrypt` (optional argument set to `False`): a boolean value (e.g. True or False) that determines if the function encrypts a message (`decrypt = False`) or decrypts a message (`decrypt = True`).\n",
    "* `LETTERS` (optional argument, default value `'ABCDEFGHIJKLMNOPQRSTUVWXYZ'`): the alphabet that is considered valid for the message\n",
    "\n",
    "The `caesar` function should return:\n",
    "* an encrypted ciphertext message as an upper-case and blocked string\n",
    "* a decrypted plaintext message as a lowercase string"
   ]
  },
  {
   "cell_type": "code",
   "execution_count": null,
   "id": "43ec0dd9-679f-4f94-a78e-07ed6727b862",
   "metadata": {
    "execution": {
     "iopub.execute_input": "2025-02-18T15:41:07.563414Z",
     "iopub.status.busy": "2025-02-18T15:41:07.563186Z",
     "iopub.status.idle": "2025-02-18T15:41:07.567625Z",
     "shell.execute_reply": "2025-02-18T15:41:07.566985Z"
    },
    "tags": []
   },
   "outputs": [],
   "source": []
  },
  {
   "cell_type": "code",
   "execution_count": null,
   "id": "19914958",
   "metadata": {
    "deletable": false,
    "editable": false
   },
   "outputs": [],
   "source": [
    "grader.check(\"q1_3\")"
   ]
  },
  {
   "cell_type": "markdown",
   "id": "8fe16d15-e743-4c15-96c5-d6a869ab6cdc",
   "metadata": {
    "deletable": false,
    "editable": false
   },
   "source": [
    "### Question 1.4\n",
    "\n",
    "Now, write a function that computes the greatest common divisor between two numbers using the Euclidean Algorithm. \n",
    "\n",
    "Write the function named `gcd` with arguments:\n",
    "* `a`: an integer\n",
    "* `b`: an integer\n",
    "\n",
    "which returns an integer that represents the greatest common divisor of `a` and `b`."
   ]
  },
  {
   "cell_type": "code",
   "execution_count": null,
   "id": "c26b4c97-dfd8-4c4e-8a2a-b5156411c026",
   "metadata": {
    "execution": {
     "iopub.execute_input": "2025-02-18T15:41:07.682527Z",
     "iopub.status.busy": "2025-02-18T15:41:07.682296Z",
     "iopub.status.idle": "2025-02-18T15:41:07.686581Z",
     "shell.execute_reply": "2025-02-18T15:41:07.685751Z"
    },
    "tags": []
   },
   "outputs": [],
   "source": []
  },
  {
   "cell_type": "code",
   "execution_count": null,
   "id": "4f9e7c71",
   "metadata": {
    "deletable": false,
    "editable": false
   },
   "outputs": [],
   "source": [
    "grader.check(\"q1_4\")"
   ]
  },
  {
   "cell_type": "markdown",
   "id": "41cab08d-8c2f-470f-bd75-e14c5c948c17",
   "metadata": {},
   "source": [
    "Now that you have a bunch of functions to help you out, let's get to work applying them to more interesting questions."
   ]
  },
  {
   "cell_type": "markdown",
   "id": "db4579d9-e111-4995-9755-6992a71ff078",
   "metadata": {},
   "source": [
    "## File Input / Output\n",
    "\n",
    "In Python, you can read in text from a simple text file that's generated by word processors. These types of files end in `.txt`. `.txt` files are not fancy; you can not have different fonts, font sizes, colors, images, etc. These files *only* contain characters. Most word processors like Microsot Word and Google Docs have an option to save your documents as `.txt` files, but you can also use Notepad (on Windows) or Text Editor (Mac) to easily create these files as well.\n",
    "\n",
    "You can load the text from a `.txt` file as a string in Python, and assign it to a variable. Alongside this lab notebook you'll find a file named `caesar-ciphertext.txt`. Here's the command to read it in as a string named `caesar_ciphertext`."
   ]
  },
  {
   "cell_type": "code",
   "execution_count": null,
   "id": "14094b9c-a39b-47a1-96e9-5ad4839b5304",
   "metadata": {
    "execution": {
     "iopub.execute_input": "2025-02-18T15:41:07.763807Z",
     "iopub.status.busy": "2025-02-18T15:41:07.763563Z",
     "iopub.status.idle": "2025-02-18T15:41:07.768332Z",
     "shell.execute_reply": "2025-02-18T15:41:07.767527Z"
    }
   },
   "outputs": [],
   "source": [
    "with open('caesar-ciphertext.txt') as f:\n",
    "    caesar_ciphertext = f.read()\n",
    "    \n",
    "print(caesar_ciphertext)"
   ]
  },
  {
   "cell_type": "markdown",
   "id": "ae8f4564-a4ff-405f-ae8a-4ea66265d2fb",
   "metadata": {},
   "source": [
    "You can see that this is an encrypted message that has only capital letters and spaces to group the characters into blocks of length 5. We'll attempt to decipher this message."
   ]
  },
  {
   "cell_type": "markdown",
   "id": "279eba39-6711-4b41-b931-21fae0ccf9d9",
   "metadata": {
    "deletable": false,
    "editable": false,
    "tags": []
   },
   "source": [
    "### Question 1.5\n",
    "\n",
    "In the cell below, use your `caesar` function from earlier in this assignment to decrypt the message, and assign it to the variable named `plaintext`.\n",
    "\n",
    "**Note:** You don't have the key, so you'll need to try a few to figure it out."
   ]
  },
  {
   "cell_type": "code",
   "execution_count": null,
   "id": "8969b5d0-8eca-4fa3-b612-b666bd26c5be",
   "metadata": {
    "execution": {
     "iopub.execute_input": "2025-02-18T15:41:07.770802Z",
     "iopub.status.busy": "2025-02-18T15:41:07.770542Z",
     "iopub.status.idle": "2025-02-18T15:41:07.775923Z",
     "shell.execute_reply": "2025-02-18T15:41:07.775094Z"
    },
    "tags": []
   },
   "outputs": [],
   "source": [
    "plaintext = ...\n",
    "plaintext"
   ]
  },
  {
   "cell_type": "code",
   "execution_count": null,
   "id": "0814c648",
   "metadata": {
    "deletable": false,
    "editable": false
   },
   "outputs": [],
   "source": [
    "grader.check(\"q1_5\")"
   ]
  },
  {
   "cell_type": "markdown",
   "id": "5b043f2f-96fa-4814-8e46-a2e8f6f49eca",
   "metadata": {
    "deletable": false,
    "editable": false
   },
   "source": [
    "### Question 1.6\n",
    "\n",
    "You can also save a string to a text file, allowing you to send it by email, upload the file to Google Drive, etc. The code to save a string stored in `plaintext` to a file named `caesar-plaintext.txt` is shown below.\n",
    "\n",
    "Run the cell below to save your plaintext message as a `.txt` file."
   ]
  },
  {
   "cell_type": "code",
   "execution_count": null,
   "id": "09c66f0b-7572-4342-a36e-6f3ac653370e",
   "metadata": {
    "execution": {
     "iopub.execute_input": "2025-02-18T15:41:07.799332Z",
     "iopub.status.busy": "2025-02-18T15:41:07.799056Z",
     "iopub.status.idle": "2025-02-18T15:41:07.827995Z",
     "shell.execute_reply": "2025-02-18T15:41:07.827182Z"
    },
    "tags": []
   },
   "outputs": [],
   "source": [
    "with open('caesar-plaintext.txt', 'w') as f:\n",
    "    print(plaintext, file=f, end='')"
   ]
  },
  {
   "cell_type": "code",
   "execution_count": null,
   "id": "89ac43e6",
   "metadata": {
    "deletable": false,
    "editable": false
   },
   "outputs": [],
   "source": [
    "grader.check(\"q1_6\")"
   ]
  },
  {
   "cell_type": "markdown",
   "id": "0a9d5b81-b71c-4e3d-9df0-f9403f6af048",
   "metadata": {},
   "source": [
    "You should see `caesar-plaintext.txt` appear in your folder after a few moments. For more details on all the configuration options for writing to a file you can read [Chapter 5, Section 3](https://macs4200.org/chapters/05/3/file-io.html)."
   ]
  },
  {
   "cell_type": "markdown",
   "id": "da53e6c4-8c76-48da-8d90-29adf5608d6d",
   "metadata": {},
   "source": [
    "# Submitting your work\n",
    "You're done with this Lab! All assignments in the course will be distributed as notebooks like this one, and you will submit your work by doing the following:\n",
    "* Save your notebook\n",
    "* Restart the kernel and run up to this cell.\n",
    "* Run all the tests by running the cell containing `grader.check_all()`. Make sure they pass the way you expect them to.\n",
    "* Run the cell below with the code `grader.export(...)`.\n",
    "* Download the file named `labXX.zip`, found in the explorer pane on the left side of the screen.\n",
    "* Upload `labXX-<date-time stamp>.zip` to the corresponding lab assignment on Canvas."
   ]
  },
  {
   "cell_type": "markdown",
   "id": "c5b1c0a2",
   "metadata": {
    "deletable": false,
    "editable": false
   },
   "source": [
    "## Submission\n",
    "\n",
    "Make sure you have run all cells in your notebook in order before running the cell below, so that all images/graphs appear in the output. The cell below will generate a zip file for you to submit."
   ]
  },
  {
   "cell_type": "code",
   "execution_count": null,
   "id": "abca4d39",
   "metadata": {
    "deletable": false,
    "editable": false
   },
   "outputs": [],
   "source": [
    "grader.export(pdf=False, force_save=True)"
   ]
  },
  {
   "cell_type": "markdown",
   "id": "2647d866",
   "metadata": {},
   "source": [
    " "
   ]
  }
 ],
 "metadata": {
  "kernelspec": {
   "display_name": "Python 3 (ipykernel)",
   "language": "python",
   "name": "python3"
  },
  "language_info": {
   "codemirror_mode": {
    "name": "ipython",
    "version": 3
   },
   "file_extension": ".py",
   "mimetype": "text/x-python",
   "name": "python",
   "nbconvert_exporter": "python",
   "pygments_lexer": "ipython3",
   "version": "3.12.8"
  },
  "otter": {
   "OK_FORMAT": true,
   "tests": {
    "q1_1": {
     "name": "q1_1",
     "points": 2,
     "suites": [
      {
       "cases": [
        {
         "code": ">>> text_clean('hello') == 'HELLO'\nTrue",
         "failure_message": "text_clean doesn't work with lowercase input text",
         "hidden": false,
         "locked": false,
         "success_message": "text_clean is converting text to upper-case before cleaning"
        },
        {
         "code": ">>> text_clean('Hello, World!') == 'HELLOWORLD'\nTrue",
         "failure_message": "text_clean is not removing spaces, commas, and exclamation points",
         "hidden": false,
         "locked": false,
         "success_message": "text_clean is removing spaces, commas, and exclamation points"
        },
        {
         "code": ">>> text_clean('123ABC!@#def') == 'ABCDEF'\nTrue",
         "failure_message": "text_clean does not remove punctuation or numerals",
         "hidden": false,
         "locked": false,
         "success_message": "text_clean removes punctuation and numerals"
        },
        {
         "code": ">>> text_clean('1234!@#$%^') == ''\nTrue",
         "hidden": false,
         "locked": false
        },
        {
         "code": ">>> text_clean('') == ''\nTrue",
         "hidden": false,
         "locked": false
        },
        {
         "code": ">>> text_clean('a1b2c3', LETTERS='0123456789') == '123'\nTrue",
         "hidden": false,
         "locked": false
        },
        {
         "code": ">>> text_clean('hello', LETTERS='HELLO') == 'HELLO'\nTrue",
         "hidden": false,
         "locked": false
        },
        {
         "code": ">>> text_clean('Hello, World!', LETTERS='HLWRD') == 'HLLWRLD'\nTrue",
         "hidden": false,
         "locked": false
        },
        {
         "code": ">>> text_clean('Hello, World!', LETTERS='HLWRD')\n'HLLWRLD'",
         "hidden": false,
         "locked": false
        }
       ],
       "scored": true,
       "setup": "",
       "teardown": "",
       "type": "doctest"
      }
     ]
    },
    "q1_2": {
     "name": "q1_2",
     "points": 2,
     "suites": [
      {
       "cases": [
        {
         "code": ">>> text_block('TESTMESSAGE') == 'TESTM ESSAG E'\nTrue",
         "failure_message": "Incorrectly uses default n=5 with unequal block size",
         "hidden": false,
         "locked": false,
         "success_message": "Correctly uses default n=5 with unequal block size"
        },
        {
         "code": ">>> text_block('abcdefghijklmno', 4) == 'abcd efgh ijkl mno'\nTrue",
         "failure_message": "Incorrectly uses n=4 with unequal block size",
         "hidden": false,
         "locked": false,
         "success_message": "Correctly uses n=4 with unequal block size"
        },
        {
         "code": ">>> text_block('abcdefghi', 3) == 'abc def ghi'\nTrue",
         "failure_message": "Incorrectly uses n=3 with equal block size",
         "hidden": false,
         "locked": false,
         "success_message": "Correctly uses n=3 with equal block size"
        },
        {
         "code": ">>> text_block('abcdefghij', 2) == 'ab cd ef gh ij'\nTrue",
         "failure_message": "Incorrectly uses n=2 with equal block size",
         "hidden": false,
         "locked": false,
         "success_message": "Correctly uses n=2 with equal block size"
        },
        {
         "code": ">>> text_block('a', 3) == 'a'\nTrue",
         "failure_message": "Does not correctly handle a message shorter than a block",
         "hidden": false,
         "locked": false,
         "success_message": "Correctly handles a message shorter than a block"
        },
        {
         "code": ">>> text_block('') == ''\nTrue",
         "failure_message": "Incorrectly handles an empty message",
         "hidden": false,
         "locked": false,
         "success_message": "Correctly handles an empty message"
        },
        {
         "code": ">>> text_block('abcdefgh', 8) == 'abcdefgh'\nTrue",
         "failure_message": "Incorrectly handles a message exactly equal to a block",
         "hidden": false,
         "locked": false,
         "success_message": "Correctly handles a message exactly equal to a block"
        }
       ],
       "scored": true,
       "setup": "",
       "teardown": "",
       "type": "doctest"
      }
     ]
    },
    "q1_3": {
     "name": "q1_3",
     "points": 2,
     "suites": [
      {
       "cases": [
        {
         "code": ">>> caesar('HELLO', 3) == 'KHOOR'\nTrue",
         "failure_message": "Basic encryption with default LETTERS",
         "hidden": false,
         "locked": false
        },
        {
         "code": ">>> caesar('KHOOR', 3, decrypt=True) == 'hello'\nTrue",
         "failure_message": "Basic decryption with default LETTERS",
         "hidden": false,
         "locked": false
        },
        {
         "code": ">>> caesar('XYZ', 3) == 'ABC'\nTrue",
         "failure_message": "Encryption with key wrapping around alphabet",
         "hidden": false,
         "locked": false
        },
        {
         "code": ">>> caesar('ABC', 3, decrypt=True) == 'xyz'\nTrue",
         "failure_message": "Decryption with key wrapping around alphabet",
         "hidden": false,
         "locked": false
        },
        {
         "code": ">>> caesar('Hello, World!', 5) == 'MJQQT BTWQI'\nTrue",
         "failure_message": "Encrypting a string with spaces and punctuation",
         "hidden": false,
         "locked": false
        },
        {
         "code": ">>> caesar('MJQQT BTWQI', 5, decrypt=True) == 'helloworld'\nTrue",
         "failure_message": "Decrypting should return \"helloworld\" (without spaces)",
         "hidden": false,
         "locked": false
        },
        {
         "code": ">>> caesar('HELLO', -3) == 'EBIIL'\nTrue",
         "failure_message": "Encrypting a string with a negative key",
         "hidden": false,
         "locked": false
        },
        {
         "code": ">>> caesar('EBIIL', -3, decrypt=True) == 'hello'\nTrue",
         "failure_message": "Decrypting a string with a negative key",
         "hidden": false,
         "locked": false
        },
        {
         "code": ">>> caesar('HELLO', 0) == 'HELLO'\nTrue",
         "failure_message": "Encrypting with key = 0 (no shift)",
         "hidden": false,
         "locked": false
        },
        {
         "code": ">>> caesar('HELLO', 0, decrypt=True) == 'hello'\nTrue",
         "failure_message": "Decrypting with key = 0 (no shift)",
         "hidden": false,
         "locked": false
        },
        {
         "code": ">>> caesar('ABCDEFGHIJKLMNOPQRSTUVWXYZ', 3) == 'DEFGH IJKLM NOPQR STUVW XYZAB C'\nTrue",
         "failure_message": "Encrypting a long string (checks text_block formatting)",
         "hidden": false,
         "locked": false
        },
        {
         "code": ">>> caesar('DEFGH IJKLM NOPQR STUVW XYZAB C', 3, decrypt=True) == 'abcdefghijklmnopqrstuvwxyz'\nTrue",
         "failure_message": "Decrypting a long string (checks text_block formatting)",
         "hidden": false,
         "locked": false
        }
       ],
       "scored": true,
       "setup": "",
       "teardown": "",
       "type": "doctest"
      }
     ]
    },
    "q1_4": {
     "name": "q1_4",
     "points": 2,
     "suites": [
      {
       "cases": [
        {
         "code": ">>> gcd(48, 18) == 6\nTrue",
         "failure_message": "gcd(48, 18) should be 6",
         "hidden": false,
         "locked": false
        },
        {
         "code": ">>> gcd(16, 38) == 2\nTrue",
         "failure_message": "gcd(16, 38) should be 2",
         "hidden": false,
         "locked": false
        },
        {
         "code": ">>> gcd(100, 85) == gcd(85, 100)\nTrue",
         "failure_message": "The GCD function should be commutative (eg. order shouldn't matter)",
         "hidden": false,
         "locked": false
        },
        {
         "code": ">>> gcd(0, 7) == 7 and gcd(7, 0) == 7\nTrue",
         "failure_message": "If one number is zero, the GCD should be the value of the other.",
         "hidden": false,
         "locked": false
        },
        {
         "code": ">>> gcd(5, 5) == 5\nTrue",
         "failure_message": "When both numbers are the same, the GCD should be that number.",
         "hidden": false,
         "locked": false
        },
        {
         "code": ">>> gcd(77, 15) == 1\nTrue",
         "failure_message": "If the numbers are coprime, the GCD should be 1.",
         "hidden": false,
         "locked": false
        },
        {
         "code": ">>> gcd(8, 32) == 8\nTrue",
         "failure_message": "gcd shuold work when one number is a multiple of the other",
         "hidden": false,
         "locked": false
        }
       ],
       "scored": true,
       "setup": "",
       "teardown": "",
       "type": "doctest"
      }
     ]
    },
    "q1_5": {
     "name": "q1_5",
     "points": 1,
     "suites": [
      {
       "cases": [
        {
         "code": ">>> plaintext == plaintext.lower()\nTrue",
         "failure_message": "You didn't make the plaintext lowercase",
         "hidden": false,
         "locked": false
        },
        {
         "code": ">>> len(plaintext)\n1154",
         "failure_message": "Your plaintext isn't the correct length",
         "hidden": false,
         "locked": false
        },
        {
         "code": ">>> plaintext\n'weleftinprettygoodtimeandcameafternightfalltoklausenburghhereistoppedforthenightatthehotelroyaleihadfordinnerorrathersupperachickendoneupsomewaywithredpepperwhichwasverygoodbutthirstymemgetrecipeforminaiaskedthewaiterandhesaiditwascalledpaprikahendlandthatasitwasanationaldishishouldbeabletogetitanywherealongthecarpathiansifoundmysmatteringofgermanveryusefulhereindeedidontknowhowishouldbeabletogetonwithoutithavinghadsometimeatmydisposalwheninlondonihadvisitedthebritishmuseumandmadesearchamongthebooksandmapsinthelibraryregardingtransylvaniaithadstruckmethatsomeforeknowledgeofthecountrycouldhardlyfailtohavesomeimportanceindealingwithanoblemanofthatcountryifindthatthedistricthenamedisintheextremeeastofthecountryjustonthebordersofthreestatestransylvaniamoldaviaandbukovinainthemidstofthecarpathianmountainsoneofthewildestandleastknownportionsofeuropeiwasnotabletolightonanymaporworkgivingtheexactlocalityofthecastledraculaastherearenomapsofthiscountryasyettocomparewithourownordnancesurveymapsbutifoundthatbistritztheposttownnamedbycountdraculaisafairlywellknownplaceishallenterheresomeofmynotesastheymayrefreshmymemorywhenitalkovermytravelswithmina'",
         "failure_message": "Your plaintext isn't correct",
         "hidden": false,
         "locked": false,
         "success_message": "You correctly decrypted the message"
        }
       ],
       "scored": true,
       "setup": "",
       "teardown": "",
       "type": "doctest"
      }
     ]
    },
    "q1_6": {
     "name": "q1_6",
     "points": 1,
     "suites": [
      {
       "cases": [
        {
         "code": ">>> from pathlib import Path\n>>> file_path = Path('caesar-plaintext.txt')\n>>> if file_path.exists():\n...     text_exists = True\n... else:\n...     text_exists = False\n>>> text_exists\nTrue",
         "failure_message": "You did not save the file",
         "hidden": false,
         "locked": false,
         "success_message": "You correctly saved the file"
        }
       ],
       "scored": true,
       "setup": "",
       "teardown": "",
       "type": "doctest"
      }
     ]
    }
   }
  }
 },
 "nbformat": 4,
 "nbformat_minor": 5
}
