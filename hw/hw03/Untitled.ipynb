{
 "cells": [
  {
   "cell_type": "code",
   "execution_count": 1,
   "id": "4ec9097d-aee3-4ee4-b0fe-887a89d9de90",
   "metadata": {},
   "outputs": [],
   "source": [
    "my_list = [ 3, 7, 10]"
   ]
  },
  {
   "cell_type": "code",
   "execution_count": 2,
   "id": "27832cd9-ba5a-48b1-bf00-a2c6eab054f5",
   "metadata": {},
   "outputs": [
    {
     "data": {
      "text/plain": [
       "7"
      ]
     },
     "execution_count": 2,
     "metadata": {},
     "output_type": "execute_result"
    }
   ],
   "source": [
    "my_list[1]"
   ]
  },
  {
   "cell_type": "code",
   "execution_count": 3,
   "id": "ce08e702-ecd0-46e5-94d3-5093401fcfb4",
   "metadata": {},
   "outputs": [],
   "source": [
    "default_square = [ ['A', 'B', 'C', 'D', 'E'],\n",
    "                   ['F', 'G', 'H', 'I', 'K'],\n",
    "                   ['L', 'M', 'N', 'O', 'P'],\n",
    "                   ['Q', 'R', 'S', 'T', 'U'],\n",
    "                   ['V', 'W', 'X', 'Y', 'Z'] ]"
   ]
  },
  {
   "cell_type": "code",
   "execution_count": 5,
   "id": "ff9643b1-f352-409b-abf9-29904d59768e",
   "metadata": {},
   "outputs": [
    {
     "data": {
      "text/plain": [
       "'D'"
      ]
     },
     "execution_count": 5,
     "metadata": {},
     "output_type": "execute_result"
    }
   ],
   "source": [
    "default_square[0][3]"
   ]
  }
 ],
 "metadata": {
  "kernelspec": {
   "display_name": "Python 3 (ipykernel)",
   "language": "python",
   "name": "python3"
  },
  "language_info": {
   "codemirror_mode": {
    "name": "ipython",
    "version": 3
   },
   "file_extension": ".py",
   "mimetype": "text/x-python",
   "name": "python",
   "nbconvert_exporter": "python",
   "pygments_lexer": "ipython3",
   "version": "3.12.9"
  }
 },
 "nbformat": 4,
 "nbformat_minor": 5
}
