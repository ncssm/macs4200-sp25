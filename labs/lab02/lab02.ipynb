{
 "cells": [
  {
   "cell_type": "code",
   "execution_count": null,
   "id": "0fbf8e79",
   "metadata": {
    "deletable": false,
    "editable": false
   },
   "outputs": [],
   "source": [
    "# Initialize Otter\n",
    "import otter\n",
    "grader = otter.Notebook(\"lab02.ipynb\")"
   ]
  },
  {
   "cell_type": "markdown",
   "id": "40b77d22-5aae-46eb-8ae5-7edcfce48956",
   "metadata": {},
   "source": [
    "# Lab 02: Caesar Cipher\n",
    "\n",
    "In today's lab, you'll learn how to:\n",
    "\n",
    "1. implement the Caesar cipher\n",
    "2. implement the Caesar cipher with other alphabets\n",
    "3. read text from a file\n",
    "4. clean and format text\n",
    "\n",
    "This lab covers parts of [Chapter 4](https://macs4200.org/chapters/04/2/caesar-cipher.html) and [Chapter 5](https://macs4200.org/chapters/05/3/file-io.html) of the online textbook. Let's get started!"
   ]
  },
  {
   "cell_type": "markdown",
   "id": "aa9e6649-9d49-417c-881c-f33bd592dd4b",
   "metadata": {},
   "source": [
    "## Part 1: Caesar Cipher\n",
    "\n",
    "So far we've seen the Caesar cipher described mathematically as:\n",
    "\n",
    "$$ C \\equiv P + k \\pmod m$$\n",
    "\n",
    "where:\n",
    "* $C$ is a ciphertext character represented as an integer\n",
    "* $P$ is a plaintext character represented as an integer\n",
    "* $k$ is an integer key\n",
    "* $m$ is the number of characters in the used alphabet"
   ]
  },
  {
   "cell_type": "markdown",
   "id": "35c13593-c3bb-4c2c-9b61-74c8ad4cc37c",
   "metadata": {
    "deletable": false,
    "editable": false
   },
   "source": [
    "### Question 1.1\n",
    "\n",
    "In the cell below, you'll find the set up for completing a Caesar cipher using the standard 26 letter alphabet. To start:\n",
    "\n",
    "* Choose a plaintext that contains a single character\n",
    "* choose a valid key for the Caesar cipher\n",
    "\n",
    "Then, complete the code so the plaintext is converted to ciphertext using the Caesar cipher algorithm. You should convert the plaintext character to an integer, apply the key to obtain an integer for the ciphertext, and then convert the ciphertext integer to a character.\n",
    "\n",
    "**Hint**: Using the `.find` method and string indexing will be helpful for a few of these steps!"
   ]
  },
  {
   "cell_type": "code",
   "execution_count": null,
   "id": "ac7aeda8-3fbe-4dd1-8af5-209d9ef690ab",
   "metadata": {
    "execution": {
     "iopub.execute_input": "2025-02-18T15:22:55.518774Z",
     "iopub.status.busy": "2025-02-18T15:22:55.518535Z",
     "iopub.status.idle": "2025-02-18T15:22:55.523585Z",
     "shell.execute_reply": "2025-02-18T15:22:55.522971Z"
    },
    "tags": []
   },
   "outputs": [],
   "source": [
    "LETTERS = 'ABCDEFGHIJKLMNOPQRSTUVWXYZ'\n",
    "plaintext = ...\n",
    "key = ...\n",
    "\n",
    "plaintext_numerical = ...\n",
    "ciphertext_numerical = ...\n",
    "ciphertext = ...\n",
    "print(ciphertext)"
   ]
  },
  {
   "cell_type": "code",
   "execution_count": null,
   "id": "a2bc969e",
   "metadata": {
    "deletable": false,
    "editable": false
   },
   "outputs": [],
   "source": [
    "grader.check(\"q1_1\")"
   ]
  },
  {
   "cell_type": "markdown",
   "id": "da32af99-b9b3-4fc7-8ede-935bcf4b0e65",
   "metadata": {},
   "source": [
    "### `.upper` and `.replace`\n",
    "\n",
    "In the next few questions we'll be updating the code so it will work on string longer than 1 character. However, as soon as we start inputting text as strings it could easily open the door to unpredictability. Will the plaintext be all uppercase? All lowercase? Will it contain spaces, numbers, or other characters? These things make a difference because if a computer is expecting to use an uppercase letter but it gets a space or lowercase letter, your code will likely not work. We will need to take care to \"sanitize\" our plaintext to ensure the string we're using is predictably formatted.\n"
   ]
  },
  {
   "cell_type": "markdown",
   "id": "a7c5d48d-77e1-445e-af08-3789905443a3",
   "metadata": {},
   "source": [
    "One quick way to clean your string is to make all characters uppercase using the `.upper` method. Another way to is look for common characters someone may include, but are not part of our 26 character alphabet, and replace them. There is a string method named `.replace` that can do this for you.\n",
    "\n",
    "Run the cell below to see `.replace` in action."
   ]
  },
  {
   "cell_type": "code",
   "execution_count": null,
   "id": "45633dad-2def-4771-962b-c894a47404db",
   "metadata": {
    "execution": {
     "iopub.execute_input": "2025-02-18T15:22:55.554023Z",
     "iopub.status.busy": "2025-02-18T15:22:55.553583Z",
     "iopub.status.idle": "2025-02-18T15:22:55.557293Z",
     "shell.execute_reply": "2025-02-18T15:22:55.556707Z"
    }
   },
   "outputs": [],
   "source": [
    "message = 'Hello, my friend! How are you? I am well'\n",
    "partially_cleaned = message.replace(' ', '')\n",
    "print( partially_cleaned )"
   ]
  },
  {
   "cell_type": "markdown",
   "id": "5237d028-6a59-4ce7-a7bd-f4464f471a6e",
   "metadata": {},
   "source": [
    "You can see that `.replace` works by attaching it to the end of a string (or a variable that contains a string) and providing two pieces of information: the character you want to replace (in this case a space, `' '`) and what you want to replace it with (in this case an empty string `''`).\n",
    "\n",
    "You can also chain together two `.replace` calls if you need to replace more than one character from a message."
   ]
  },
  {
   "cell_type": "code",
   "execution_count": null,
   "id": "ff7bbf48-9a7f-46c6-a29c-2820b4f186e7",
   "metadata": {
    "execution": {
     "iopub.execute_input": "2025-02-18T15:22:55.559423Z",
     "iopub.status.busy": "2025-02-18T15:22:55.559193Z",
     "iopub.status.idle": "2025-02-18T15:22:55.562585Z",
     "shell.execute_reply": "2025-02-18T15:22:55.562007Z"
    }
   },
   "outputs": [],
   "source": [
    "more_cleaned = message.replace(' ', '').replace('!', '')\n",
    "print( more_cleaned )"
   ]
  },
  {
   "cell_type": "markdown",
   "id": "e6af2b1d-0013-4b98-b6ad-582923eaa8e7",
   "metadata": {},
   "source": [
    "You can also combine `.replace` with other string methods, like `.upper`"
   ]
  },
  {
   "cell_type": "code",
   "execution_count": null,
   "id": "3122cb4b-3fbc-4aa6-aaf5-42dc4b850429",
   "metadata": {
    "execution": {
     "iopub.execute_input": "2025-02-18T15:22:55.564972Z",
     "iopub.status.busy": "2025-02-18T15:22:55.564420Z",
     "iopub.status.idle": "2025-02-18T15:22:55.567901Z",
     "shell.execute_reply": "2025-02-18T15:22:55.567405Z"
    }
   },
   "outputs": [],
   "source": [
    "print( message.replace(' ', '').replace('!', '').upper() )"
   ]
  },
  {
   "cell_type": "markdown",
   "id": "0b7e8d46-41f8-433a-9b81-434355c1210d",
   "metadata": {},
   "source": [
    "This is a simple way to take a plaintext message and prepare it for use in a cipher, since our alphabet is currently defined to be the characters A-Z (all uppercase). You'll notice the code above would *not* have removed any other punctuation besides the exclamation point, so it's not perfect. It's actually **really** difficult to explain all the different characters you don't want to work with. Later on in the course we'll cover a better way to prepare text that allows us to explain what characters we **do** want to work with, and any character not on the list won't be kept.\n",
    "\n",
    "For now, assume that all messages will only contain uppercase letters, lowercase letters, spaces, commas, question marks, and periods. Before being passed onto to be encrypted, all characters should be made uppercase, and other characters removed. Don't worry about numbers or other punctuation right now."
   ]
  },
  {
   "cell_type": "markdown",
   "id": "3d331058-31fc-4eff-9020-67a8b49d81f0",
   "metadata": {
    "deletable": false,
    "editable": false
   },
   "source": [
    "### Question 1.2\n",
    "\n",
    "In the cell below, use `.replace` and `.upper` to fully prepare the string stored to `message` to be encrypted. Save the cleaned string to `fully_cleaned`"
   ]
  },
  {
   "cell_type": "code",
   "execution_count": null,
   "id": "9e0b81f4-a03c-4435-81dd-06fa7228ee04",
   "metadata": {
    "execution": {
     "iopub.execute_input": "2025-02-18T15:22:55.570371Z",
     "iopub.status.busy": "2025-02-18T15:22:55.569889Z",
     "iopub.status.idle": "2025-02-18T15:22:55.573445Z",
     "shell.execute_reply": "2025-02-18T15:22:55.572905Z"
    },
    "tags": []
   },
   "outputs": [],
   "source": [
    "fully_cleaned = ...\n",
    "print(fully_cleaned)"
   ]
  },
  {
   "cell_type": "code",
   "execution_count": null,
   "id": "ba8ea6ef",
   "metadata": {
    "deletable": false,
    "editable": false
   },
   "outputs": [],
   "source": [
    "grader.check(\"q1_2\")"
   ]
  },
  {
   "cell_type": "markdown",
   "id": "124fc7dc-3631-4b69-b026-71c618cf0182",
   "metadata": {
    "deletable": false,
    "editable": false
   },
   "source": [
    "### Question 1.3\n",
    "\n",
    "Now you're ready to start enciphering messages that are longer than 1 character.\n",
    "\n",
    "Below you'll find the plaintext message, \"What is the answer, you ask? I will tell you!\" stored to the string `plaintext`. You should first \"clean\" this message as discussed in the previous question. A key has already been chosen for you.\n",
    "\n",
    "A `for` loop has already been started that will iterate over the string `clean_plaintext` one character at a time. You should complete the lines of code inside the loop so that when the loop finishes, all the characters of the ciphertext are stored in the string `ciphertext`. The last line of code will print it to the screen to help you verify it ran correct."
   ]
  },
  {
   "cell_type": "code",
   "execution_count": null,
   "id": "43ec0dd9-679f-4f94-a78e-07ed6727b862",
   "metadata": {
    "execution": {
     "iopub.execute_input": "2025-02-18T15:22:55.636245Z",
     "iopub.status.busy": "2025-02-18T15:22:55.635649Z",
     "iopub.status.idle": "2025-02-18T15:22:55.640056Z",
     "shell.execute_reply": "2025-02-18T15:22:55.639491Z"
    },
    "tags": []
   },
   "outputs": [],
   "source": [
    "LETTERS = 'ABCDEFGHIJKLMNOPQRSTUVWXYZ'\n",
    "plaintext = 'What is the answer, you ask? I will tell you!'\n",
    "clean_plaintext = ...\n",
    "key = 15\n",
    "\n",
    "# Creating an empty string that will eventually store your ciphertext\n",
    "ciphertext = ''\n",
    "\n",
    "for char in clean_plaintext:\n",
    "    plaintext_numerical = ...\n",
    "    ciphertext_numerical = ...\n",
    "    ciphertext = ...\n",
    "    \n",
    "print(ciphertext)"
   ]
  },
  {
   "cell_type": "code",
   "execution_count": null,
   "id": "8bf148e0",
   "metadata": {
    "deletable": false,
    "editable": false
   },
   "outputs": [],
   "source": [
    "grader.check(\"q1_3\")"
   ]
  },
  {
   "cell_type": "markdown",
   "id": "e48b0711-a321-4989-b721-3828abfd7343",
   "metadata": {},
   "source": [
    "At this point you've got some great code that is enciphering messages like a champion! Let's see how it does deciphering a message. But let's make it interesting! Instead of a short message, let's see how you can read in a long message from a file."
   ]
  },
  {
   "cell_type": "markdown",
   "id": "db4579d9-e111-4995-9755-6992a71ff078",
   "metadata": {},
   "source": [
    "### File Input / Output\n",
    "\n",
    "In Python, you can read in text from a simple text file that's generated by word processors. These types of files are not fancy, you can not have different fonts, font sizes, images, or the like. They just contain the characters. Most word processors like Word and Google Docs have an option to save your documents as `.txt` files, but you can also use Notepad (on Windows) or Text Editor (Mac) to easily make these files.\n",
    "\n",
    "Assuming you have such a file in the same folder as your notebook, you can read the text it contains into your notebook as a string and assign it to a variable. Alongside this lab notebook you'll find a file named `caesar-ciphertext.txt`. Here's the command to read it in as a string named `caesar_ciphertext`."
   ]
  },
  {
   "cell_type": "code",
   "execution_count": null,
   "id": "14094b9c-a39b-47a1-96e9-5ad4839b5304",
   "metadata": {
    "execution": {
     "iopub.execute_input": "2025-02-18T15:22:55.659987Z",
     "iopub.status.busy": "2025-02-18T15:22:55.659781Z",
     "iopub.status.idle": "2025-02-18T15:22:55.681200Z",
     "shell.execute_reply": "2025-02-18T15:22:55.680611Z"
    }
   },
   "outputs": [],
   "source": [
    "with open('caesar-ciphertext.txt') as f:\n",
    "    caesar_ciphertext = f.read()\n",
    "    \n",
    "print(caesar_ciphertext)"
   ]
  },
  {
   "cell_type": "markdown",
   "id": "ae8f4564-a4ff-405f-ae8a-4ea66265d2fb",
   "metadata": {},
   "source": [
    "You can see that this is an encrypted message that has only capital letters and spaces to group the characters into blocks of length 5. We'll attempt to decipher this message."
   ]
  },
  {
   "cell_type": "markdown",
   "id": "279eba39-6711-4b41-b931-21fae0ccf9d9",
   "metadata": {
    "deletable": false,
    "editable": false,
    "tags": []
   },
   "source": [
    "### Question 1.4\n",
    "\n",
    "In the cell below you'll find similar starter code as the previous problem (the words plaintext and ciphertext have been swapped to indicate the change in our goal). The ciphertext from the file has been cleaned by removing the spaces.\n",
    "\n",
    "You should make an initial guess for the key, then complete the loop below to decipher the message. You should be able to reuse your code from an earlier problem, and just make a few minor tweaks.\n",
    "\n",
    "It's unlikely that you'll guess the key on the first attempt, so keep trying keys until you have successfully deciphered the message.\n",
    "\n",
    "**Note:** Don't forget, plaintext letters should be lowercase!"
   ]
  },
  {
   "cell_type": "code",
   "execution_count": null,
   "id": "dc71a836-a857-41fe-b3b7-3dcf269bdbf6",
   "metadata": {
    "execution": {
     "iopub.execute_input": "2025-02-18T15:22:55.683699Z",
     "iopub.status.busy": "2025-02-18T15:22:55.683273Z",
     "iopub.status.idle": "2025-02-18T15:22:55.688518Z",
     "shell.execute_reply": "2025-02-18T15:22:55.687890Z"
    },
    "tags": []
   },
   "outputs": [],
   "source": [
    "LETTERS = 'ABCDEFGHIJKLMNOPQRSTUVWXYZ'\n",
    "\n",
    "# Remove all the spaces\n",
    "clean_ciphertext = caesar_ciphertext.replace(' ', '')\n",
    "\n",
    "key = ...\n",
    "\n",
    "# Creating an empty string that will eventually store your ciphertext\n",
    "plaintext = ''\n",
    "\n",
    "for char in clean_ciphertext:\n",
    "    ciphertext_numerical = ...\n",
    "    plaintext_numerical = ...\n",
    "    plaintext = ...\n",
    "    \n",
    "print(plaintext)"
   ]
  },
  {
   "cell_type": "code",
   "execution_count": null,
   "id": "30aa675f",
   "metadata": {
    "deletable": false,
    "editable": false
   },
   "outputs": [],
   "source": [
    "grader.check(\"q1_4\")"
   ]
  },
  {
   "cell_type": "markdown",
   "id": "5b043f2f-96fa-4814-8e46-a2e8f6f49eca",
   "metadata": {},
   "source": [
    "You can also save a string to a text file, allowing you to send it by email, upload the file to Google Drive, etc. The code to save a string stored in `plaintext` to a file named `caesar-plaintext.txt` is shown below."
   ]
  },
  {
   "cell_type": "code",
   "execution_count": null,
   "id": "09c66f0b-7572-4342-a36e-6f3ac653370e",
   "metadata": {
    "execution": {
     "iopub.execute_input": "2025-02-18T15:22:55.715059Z",
     "iopub.status.busy": "2025-02-18T15:22:55.714438Z",
     "iopub.status.idle": "2025-02-18T15:22:55.717799Z",
     "shell.execute_reply": "2025-02-18T15:22:55.717272Z"
    }
   },
   "outputs": [],
   "source": [
    "with open('caesar-plaintext.txt', 'w') as f:\n",
    "    print(plaintext, file=f, end='')"
   ]
  },
  {
   "cell_type": "markdown",
   "id": "0a9d5b81-b71c-4e3d-9df0-f9403f6af048",
   "metadata": {},
   "source": [
    "You should see `caesar-plaintext.txt` appear in your folder after a few moments. For more details on all the configuration options for writing to a file you can read [Chapter 5, Section 3](https://macs4200.org/chapters/05/3/file-io.html)."
   ]
  },
  {
   "cell_type": "markdown",
   "id": "da53e6c4-8c76-48da-8d90-29adf5608d6d",
   "metadata": {},
   "source": [
    "# Submitting your work\n",
    "You're done with this Lab! All assignments in the course will be distributed as notebooks like this one, and you will submit your work by doing the following:\n",
    "* Save your notebook\n",
    "* Restart the kernel and run up to this cell.\n",
    "* Run all the tests by running the cell containing `grader.check_all()`. Make sure they pass the way you expect them to.\n",
    "* Run the cell below with the code `grader.export(...)`.\n",
    "* Download the file named `labXX.zip`, found in the explorer pane on the left side of the screen.\n",
    "* Upload `labXX-<date-time stamp>.zip` to the corresponding lab assignment on Canvas."
   ]
  },
  {
   "cell_type": "markdown",
   "id": "572b0c77",
   "metadata": {
    "deletable": false,
    "editable": false
   },
   "source": [
    "## Submission\n",
    "\n",
    "Make sure you have run all cells in your notebook in order before running the cell below, so that all images/graphs appear in the output. The cell below will generate a zip file for you to submit.\n",
    "\n",
    "When done exporting, find the `.zip` file in the left side of the screen in the file browser, right-click, and select **Download**. You'll submit this `.zip` file for the assignment Gradescope for grading."
   ]
  },
  {
   "cell_type": "code",
   "execution_count": null,
   "id": "54860550",
   "metadata": {
    "deletable": false,
    "editable": false
   },
   "outputs": [],
   "source": [
    "grader.export(pdf=False, force_save=True, run_tests=True)"
   ]
  },
  {
   "cell_type": "markdown",
   "id": "d31e9ae8",
   "metadata": {},
   "source": [
    " "
   ]
  }
 ],
 "metadata": {
  "kernelspec": {
   "display_name": "Python 3 (ipykernel)",
   "language": "python",
   "name": "python3"
  },
  "language_info": {
   "codemirror_mode": {
    "name": "ipython",
    "version": 3
   },
   "file_extension": ".py",
   "mimetype": "text/x-python",
   "name": "python",
   "nbconvert_exporter": "python",
   "pygments_lexer": "ipython3",
   "version": "3.12.8"
  },
  "otter": {
   "OK_FORMAT": true,
   "tests": {
    "q1_1": {
     "name": "q1_1",
     "points": 1,
     "suites": [
      {
       "cases": [
        {
         "code": ">>> len(plaintext) == 1\nTrue",
         "failure_message": "Your string is too long",
         "hidden": false,
         "locked": false
        },
        {
         "code": ">>> type(key) == int\nTrue",
         "failure_message": "Your key is not an integer",
         "hidden": false,
         "locked": false
        },
        {
         "code": ">>> plaintext_numerical != -1\nTrue",
         "failure_message": "It looks like you didn't convert your plaintext to an upper case letter before using .find. Try using .upper() to ensure it can be found in LETTERS.",
         "hidden": false,
         "locked": false
        },
        {
         "code": ">>> LETTERS[(LETTERS.find(plaintext.upper()) + key) % len(LETTERS)] == ciphertext\nTrue",
         "hidden": false,
         "locked": false
        }
       ],
       "scored": true,
       "setup": "",
       "teardown": "",
       "type": "doctest"
      }
     ]
    },
    "q1_2": {
     "name": "q1_2",
     "points": 1,
     "suites": [
      {
       "cases": [
        {
         "code": ">>> '!' not in fully_cleaned\nTrue",
         "hidden": false,
         "locked": false
        },
        {
         "code": ">>> ' ' not in fully_cleaned\nTrue",
         "hidden": false,
         "locked": false
        },
        {
         "code": ">>> '?' not in fully_cleaned\nTrue",
         "hidden": false,
         "locked": false
        },
        {
         "code": ">>> ',' not in fully_cleaned\nTrue",
         "hidden": false,
         "locked": false
        },
        {
         "code": ">>> '.' not in fully_cleaned\nTrue",
         "hidden": false,
         "locked": false
        },
        {
         "code": ">>> fully_cleaned\n'HELLOMYFRIENDHOWAREYOUIAMWELL'",
         "hidden": false,
         "locked": false
        }
       ],
       "scored": true,
       "setup": "",
       "teardown": "",
       "type": "doctest"
      }
     ]
    },
    "q1_3": {
     "name": "q1_3",
     "points": 1,
     "suites": [
      {
       "cases": [
        {
         "code": ">>> any((bad_chars in clean_plaintext for bad_chars in ['?', '!', ' ', '.', ',']))\nFalse",
         "failure_message": "You still have some punctuation in your message after cleaning",
         "hidden": false,
         "locked": false
        },
        {
         "code": ">>> clean_plaintext.upper() == clean_plaintext\nTrue",
         "failure_message": "You didn't make the characters uppercase",
         "hidden": false,
         "locked": false
        },
        {
         "code": ">>> ciphertext\n'LWPIXHIWTPCHLTGNDJPHZXLXAAITAANDJ'",
         "hidden": false,
         "locked": false
        }
       ],
       "scored": true,
       "setup": "",
       "teardown": "",
       "type": "doctest"
      }
     ]
    },
    "q1_4": {
     "name": "q1_4",
     "points": 1,
     "suites": [
      {
       "cases": [
        {
         "code": ">>> plaintext == plaintext.lower()\nTrue",
         "failure_message": "You didn't make the plaintext lowercase",
         "hidden": false,
         "locked": false
        },
        {
         "code": ">>> len(plaintext)\n1154",
         "failure_message": "Your message isn't the correct length",
         "hidden": false,
         "locked": false
        },
        {
         "code": ">>> key * 123 % 472\n203",
         "failure_message": "If this test fails, but you obtained readable plaintext check to make sure you are subtracting the key value, not adding the inverse key.",
         "hidden": false,
         "locked": false
        },
        {
         "code": ">>> plaintext\n'weleftinprettygoodtimeandcameafternightfalltoklausenburghhereistoppedforthenightatthehotelroyaleihadfordinnerorrathersupperachickendoneupsomewaywithredpepperwhichwasverygoodbutthirstymemgetrecipeforminaiaskedthewaiterandhesaiditwascalledpaprikahendlandthatasitwasanationaldishishouldbeabletogetitanywherealongthecarpathiansifoundmysmatteringofgermanveryusefulhereindeedidontknowhowishouldbeabletogetonwithoutithavinghadsometimeatmydisposalwheninlondonihadvisitedthebritishmuseumandmadesearchamongthebooksandmapsinthelibraryregardingtransylvaniaithadstruckmethatsomeforeknowledgeofthecountrycouldhardlyfailtohavesomeimportanceindealingwithanoblemanofthatcountryifindthatthedistricthenamedisintheextremeeastofthecountryjustonthebordersofthreestatestransylvaniamoldaviaandbukovinainthemidstofthecarpathianmountainsoneofthewildestandleastknownportionsofeuropeiwasnotabletolightonanymaporworkgivingtheexactlocalityofthecastledraculaastherearenomapsofthiscountryasyettocomparewithourownordnancesurveymapsbutifoundthatbistritztheposttownnamedbycountdraculaisafairlywellknownplaceishallenterheresomeofmynotesastheymayrefreshmymemorywhenitalkovermytravelswithmina'",
         "hidden": false,
         "locked": false
        }
       ],
       "scored": true,
       "setup": "",
       "teardown": "",
       "type": "doctest"
      }
     ]
    }
   }
  }
 },
 "nbformat": 4,
 "nbformat_minor": 5
}
