{
 "cells": [
  {
   "cell_type": "code",
   "execution_count": null,
   "id": "e955a12f",
   "metadata": {
    "deletable": false,
    "editable": false
   },
   "outputs": [],
   "source": [
    "# Initialize Otter\n",
    "import otter\n",
    "grader = otter.Notebook(\"lab03.ipynb\")"
   ]
  },
  {
   "cell_type": "markdown",
   "id": "279ec685-ffc2-4ca4-a5be-2bdecdbb882d",
   "metadata": {},
   "source": [
    "# Lab 03: Binary Operations in Python\n",
    "\n",
    "Knowing how to work with binary in a Python environment will become very handy for cryptography applications in this course. This lab will walk you through many of the major operations required to encipher and decipher messages that are typically represented using binary systems."
   ]
  },
  {
   "cell_type": "markdown",
   "id": "ca6c2958-ed5a-4c8c-a529-d2fc7273d19d",
   "metadata": {},
   "source": [
    "## Binary Operators\n",
    "\n",
    "There are five binary operations that we're concerned with in this course. We'll cover them one at a time.\n",
    "\n",
    "### AND (`&`)\n",
    "The AND operation is a bitwise operation that compares corresponding bits in a binary number, and returns a 1 if both bits are 1. Otherwise AND returns 0. In Python, the symbol to perform a bitwise AND operation is `&`.\n",
    "\n",
    "For example:\n",
    "\n",
    "```\n",
    "  01111 (15)\n",
    "& 10001 (17)\n",
    "-------\n",
    "  00001 (1)\n",
    "```\n",
    "\n",
    "**Note:** Even though the `&` symbol is a bitwise operator, meaning that it works with the binary representation of a number to perform the intended operation, you can use it on any representation of a number in Python, such as decimal or hexadecimal. Python will just convert behind the scenes to perform the operations, and will always return the result in decimal format unless you instruct it otherwise.\n",
    "\n",
    "Run the code cells below to verify this fact.\n",
    "\n",
    "#### Decimal"
   ]
  },
  {
   "cell_type": "code",
   "execution_count": null,
   "id": "5b54fe31-fa9d-481e-8cfd-295d35a99942",
   "metadata": {
    "execution": {
     "iopub.execute_input": "2025-04-01T12:22:13.507694Z",
     "iopub.status.busy": "2025-04-01T12:22:13.507392Z",
     "iopub.status.idle": "2025-04-01T12:22:13.517079Z",
     "shell.execute_reply": "2025-04-01T12:22:13.516134Z"
    }
   },
   "outputs": [],
   "source": [
    "15 & 17"
   ]
  },
  {
   "cell_type": "markdown",
   "id": "3f13ca68-f0d1-4009-a719-da26daac4d24",
   "metadata": {},
   "source": [
    "#### Binary"
   ]
  },
  {
   "cell_type": "code",
   "execution_count": null,
   "id": "d16649fe-1e57-4807-9f4a-06e5c0a89bf5",
   "metadata": {
    "execution": {
     "iopub.execute_input": "2025-04-01T12:22:13.520978Z",
     "iopub.status.busy": "2025-04-01T12:22:13.520505Z",
     "iopub.status.idle": "2025-04-01T12:22:13.527133Z",
     "shell.execute_reply": "2025-04-01T12:22:13.526139Z"
    }
   },
   "outputs": [],
   "source": [
    "0b01111 & 0b10001"
   ]
  },
  {
   "cell_type": "markdown",
   "id": "a89bc706-015d-4023-be56-408159fb5c82",
   "metadata": {},
   "source": [
    "#### Hexadecimal"
   ]
  },
  {
   "cell_type": "code",
   "execution_count": null,
   "id": "57c38741-cfbc-4f30-b2f3-eae1343d5aa1",
   "metadata": {
    "execution": {
     "iopub.execute_input": "2025-04-01T12:22:13.530385Z",
     "iopub.status.busy": "2025-04-01T12:22:13.530099Z",
     "iopub.status.idle": "2025-04-01T12:22:13.536758Z",
     "shell.execute_reply": "2025-04-01T12:22:13.535691Z"
    }
   },
   "outputs": [],
   "source": [
    "0x0F & 0x11"
   ]
  },
  {
   "cell_type": "markdown",
   "id": "17f59973-fe18-4bd5-90ec-b150c232b274",
   "metadata": {},
   "source": [
    "### OR (`|`)\n",
    "\n",
    "The OR bitwise operator uses the pipe symbol (`|`) in Python to compare corresponding bits in a number. It returns a 1 if either bit is 1, and returns a 0 if both bits are 0.\n",
    "\n",
    "For example:\n",
    "\n",
    "```\n",
    "  01111 (15)\n",
    "| 10001 (17)\n",
    "-------\n",
    "  11111 (31)\n",
    "```"
   ]
  },
  {
   "cell_type": "code",
   "execution_count": null,
   "id": "fc8961c1-08ed-43e1-9eb5-5e9ff47e0f5a",
   "metadata": {
    "execution": {
     "iopub.execute_input": "2025-04-01T12:22:13.540193Z",
     "iopub.status.busy": "2025-04-01T12:22:13.539866Z",
     "iopub.status.idle": "2025-04-01T12:22:13.545548Z",
     "shell.execute_reply": "2025-04-01T12:22:13.544630Z"
    }
   },
   "outputs": [],
   "source": [
    "15 | 17"
   ]
  },
  {
   "cell_type": "code",
   "execution_count": null,
   "id": "6c6f7ece-de33-4993-ac02-a48b21424ec3",
   "metadata": {
    "execution": {
     "iopub.execute_input": "2025-04-01T12:22:13.548673Z",
     "iopub.status.busy": "2025-04-01T12:22:13.548389Z",
     "iopub.status.idle": "2025-04-01T12:22:13.554489Z",
     "shell.execute_reply": "2025-04-01T12:22:13.553221Z"
    }
   },
   "outputs": [],
   "source": [
    "0b01111 | 0b10001"
   ]
  },
  {
   "cell_type": "code",
   "execution_count": null,
   "id": "6bc2e17a-d99a-4d37-a36e-2dd76dd12478",
   "metadata": {
    "execution": {
     "iopub.execute_input": "2025-04-01T12:22:13.557593Z",
     "iopub.status.busy": "2025-04-01T12:22:13.557310Z",
     "iopub.status.idle": "2025-04-01T12:22:13.563392Z",
     "shell.execute_reply": "2025-04-01T12:22:13.562415Z"
    }
   },
   "outputs": [],
   "source": [
    "0x0F | 0x11"
   ]
  },
  {
   "cell_type": "markdown",
   "id": "b483c5d4-91f0-4be8-9bab-254c3380a8df",
   "metadata": {},
   "source": [
    "### XOR (`^`)\n",
    "\n",
    "The XOR, or \"exclusive OR\", is a bitwise operator that uses the `^` character in Python. It compares corresponding bits of numbers, and returns a 1 if either bit is 1, and returns a 0 if both bits are the same (e.g. both 0 or both 1).\n",
    "\n",
    "For example:\n",
    "\n",
    "```\n",
    "  01111 (15)\n",
    "^ 10001 (17)\n",
    "-------\n",
    "  11110 (1)\n",
    "```"
   ]
  },
  {
   "cell_type": "code",
   "execution_count": null,
   "id": "05f56bdf-8cd9-4016-8ae0-15880f80ee5a",
   "metadata": {
    "execution": {
     "iopub.execute_input": "2025-04-01T12:22:13.566567Z",
     "iopub.status.busy": "2025-04-01T12:22:13.566279Z",
     "iopub.status.idle": "2025-04-01T12:22:13.572576Z",
     "shell.execute_reply": "2025-04-01T12:22:13.571422Z"
    }
   },
   "outputs": [],
   "source": [
    "15 ^ 17"
   ]
  },
  {
   "cell_type": "code",
   "execution_count": null,
   "id": "319f1acc-40db-4076-8279-f50b16e3b44d",
   "metadata": {
    "execution": {
     "iopub.execute_input": "2025-04-01T12:22:13.575443Z",
     "iopub.status.busy": "2025-04-01T12:22:13.575169Z",
     "iopub.status.idle": "2025-04-01T12:22:13.609756Z",
     "shell.execute_reply": "2025-04-01T12:22:13.608752Z"
    }
   },
   "outputs": [],
   "source": [
    "0b01111 ^ 0b10001"
   ]
  },
  {
   "cell_type": "code",
   "execution_count": null,
   "id": "361bd906-5c5e-4e46-b3e7-f6320da74cbc",
   "metadata": {
    "execution": {
     "iopub.execute_input": "2025-04-01T12:22:13.613301Z",
     "iopub.status.busy": "2025-04-01T12:22:13.612969Z",
     "iopub.status.idle": "2025-04-01T12:22:13.619223Z",
     "shell.execute_reply": "2025-04-01T12:22:13.618140Z"
    }
   },
   "outputs": [],
   "source": [
    "0x0F ^ 0x11"
   ]
  },
  {
   "cell_type": "markdown",
   "id": "3e0ae7ea-a8f0-42ab-97a0-84e44de0b062",
   "metadata": {},
   "source": [
    "## Shift Operators\n",
    "\n",
    "Bitwise shift operators are another kind of tool for bit manipulation. They let you move the bits around, which will be handy for certain operations later on. These types of operations are often used to improve the speed of certain mathematical operations since they are very low level operations on the computer and can be executed very quickly compared to using more modern programming languages.\n",
    "\n",
    "### Left Shift\n",
    "\n",
    "The bitwise left shift operator (`<<`) moves the bits of its first operand (the number before the `<<`) to the left by the number of places specified in its second operand (the number after the `<<`). It also takes care of inserting enough zero bits to fill the gap that arises on the right edge of the new bit pattern:\n",
    "\n",
    "![](lshift.gif)\n",
    "\n",
    "For example, see how a single left shift to the number 100111 (39 in decimal) results in the number 1001110 (78).\n",
    "\n",
    "```\n",
    "a:         100111     39\n",
    "a << 1:   1001110     78\n",
    "```\n",
    "\n",
    "and how two left shifts results in 10011100 (156).\n",
    "\n",
    "```\n",
    "a:         100111     39\n",
    "a << 2:  10011100    156\n",
    "```\n",
    "\n",
    "Just like with the AND, OR, and XOR operations, Python can apply bitshifts to any representation of a number."
   ]
  },
  {
   "cell_type": "code",
   "execution_count": null,
   "id": "8987c40e-c46f-4a86-ae6b-74a8905bdb62",
   "metadata": {
    "execution": {
     "iopub.execute_input": "2025-04-01T12:22:13.622779Z",
     "iopub.status.busy": "2025-04-01T12:22:13.622473Z",
     "iopub.status.idle": "2025-04-01T12:22:13.628324Z",
     "shell.execute_reply": "2025-04-01T12:22:13.627475Z"
    }
   },
   "outputs": [],
   "source": [
    "39 << 2"
   ]
  },
  {
   "cell_type": "code",
   "execution_count": null,
   "id": "7e65fa1b-03ef-48cd-8f97-c79ec98919a6",
   "metadata": {
    "execution": {
     "iopub.execute_input": "2025-04-01T12:22:13.631488Z",
     "iopub.status.busy": "2025-04-01T12:22:13.631028Z",
     "iopub.status.idle": "2025-04-01T12:22:13.637090Z",
     "shell.execute_reply": "2025-04-01T12:22:13.635955Z"
    }
   },
   "outputs": [],
   "source": [
    "0b100111 << 2"
   ]
  },
  {
   "cell_type": "code",
   "execution_count": null,
   "id": "de828211-9515-4153-b240-845b75d46b5e",
   "metadata": {
    "execution": {
     "iopub.execute_input": "2025-04-01T12:22:13.640332Z",
     "iopub.status.busy": "2025-04-01T12:22:13.640061Z",
     "iopub.status.idle": "2025-04-01T12:22:13.645473Z",
     "shell.execute_reply": "2025-04-01T12:22:13.644355Z"
    }
   },
   "outputs": [],
   "source": [
    "0x27 << 2"
   ]
  },
  {
   "cell_type": "markdown",
   "id": "4b8eb7ef-331c-4cc7-8e93-c145e2937074",
   "metadata": {
    "deletable": false,
    "editable": false
   },
   "source": [
    "<!-- BEGIN QUESTION -->\n",
    "\n",
    "## Question 1\n",
    "\n",
    "You may have noticed that every time a left bitshift is applied to a number, the value of the number doubled. Does this happen for every number? If so, explain mathematically why this makes sense. If not, explain why this observation is not always true."
   ]
  },
  {
   "cell_type": "markdown",
   "id": "025c660a",
   "metadata": {
    "tags": [
     "otter_answer_cell"
    ]
   },
   "source": [
    "_Type your answer here, replacing this text._"
   ]
  },
  {
   "cell_type": "markdown",
   "id": "374bcea5-6a5f-482a-a42b-523f6ae5d710",
   "metadata": {
    "deletable": false,
    "editable": false
   },
   "source": [
    "<!-- END QUESTION -->\n",
    "\n",
    "### Right Shift\n",
    "\n",
    "The bitwise right shift operator (`>>`) is analogous to the left one, but instead of moving bits to the left, it pushes them to the right by the specified number of places. The rightmost bits always get dropped:\n",
    "\n",
    "![](rshift.gif)\n",
    "\n",
    "For example:\n",
    "\n",
    "```\n",
    "a:      100111   39\n",
    "a >> 1:  10011   19\n",
    "```\n",
    "\n",
    "and\n",
    "\n",
    "```\n",
    "a:      100111   39\n",
    "a >> 2:   1001    9\n",
    "```"
   ]
  },
  {
   "cell_type": "code",
   "execution_count": null,
   "id": "9f4b0a84-222c-46eb-a239-6971b4f410ea",
   "metadata": {
    "execution": {
     "iopub.execute_input": "2025-04-01T12:22:13.649108Z",
     "iopub.status.busy": "2025-04-01T12:22:13.648798Z",
     "iopub.status.idle": "2025-04-01T12:22:13.653887Z",
     "shell.execute_reply": "2025-04-01T12:22:13.653073Z"
    }
   },
   "outputs": [],
   "source": [
    "39 >> 2"
   ]
  },
  {
   "cell_type": "code",
   "execution_count": null,
   "id": "a86ec925-3c7b-4109-b59a-13402b5d2869",
   "metadata": {
    "execution": {
     "iopub.execute_input": "2025-04-01T12:22:13.656776Z",
     "iopub.status.busy": "2025-04-01T12:22:13.656493Z",
     "iopub.status.idle": "2025-04-01T12:22:13.661565Z",
     "shell.execute_reply": "2025-04-01T12:22:13.660737Z"
    }
   },
   "outputs": [],
   "source": [
    "0b100111 >> 2"
   ]
  },
  {
   "cell_type": "code",
   "execution_count": null,
   "id": "1b420257-7d46-471c-8269-06ab473a850b",
   "metadata": {
    "execution": {
     "iopub.execute_input": "2025-04-01T12:22:13.664478Z",
     "iopub.status.busy": "2025-04-01T12:22:13.664189Z",
     "iopub.status.idle": "2025-04-01T12:22:13.670344Z",
     "shell.execute_reply": "2025-04-01T12:22:13.669483Z"
    }
   },
   "outputs": [],
   "source": [
    "0x27 >> 2"
   ]
  },
  {
   "cell_type": "markdown",
   "id": "c9dc07df-22f2-4165-8f32-c1f091dd6cba",
   "metadata": {
    "deletable": false,
    "editable": false
   },
   "source": [
    "<!-- BEGIN QUESTION -->\n",
    "\n",
    "## Question 2\n",
    "\n",
    "It appears that every time you shift a bit to the right by one position, you roughly halve its underlying value. Explain why a right bitshift does not always exactly halve the value of a number, and what happens to a number when it isn't halved exactly."
   ]
  },
  {
   "cell_type": "markdown",
   "id": "7db235b3",
   "metadata": {
    "tags": [
     "otter_answer_cell"
    ]
   },
   "source": [
    "_Type your answer here, replacing this text._"
   ]
  },
  {
   "cell_type": "markdown",
   "id": "7dee0e9a-589c-40a5-a4a3-db97e4636060",
   "metadata": {
    "deletable": false,
    "editable": false
   },
   "source": [
    "<!-- END QUESTION -->\n",
    "\n",
    "###### Bitmasks\n",
    "\n",
    "A bitmask works like a graffiti stencil that blocks the paint from being sprayed on particular areas of a surface. It lets you isolate certain bits, typically a single bit a time, so you can selectively work with only those selected bits. Bitmasking involves using both the bitwise logical operators and the bitwise shift operators covered previously in this lab. The name comes from an analogy to a face mask, which covers up some parts of your face and lets other parts show through. In computing, a bitmask covers up (filters out) some bits in a binary number and allows others to pass through.\n",
    "\n",
    "There are a few common types of operations associated with bitmasks.\n",
    "\n",
    "### Getting a Bit\n",
    "\n",
    "Remember, the bitwise AND operation will compare corresponding bits in two numbers and return:\n",
    "* a 0 if both bits are 0,\n",
    "* a 0 if one bit is 0 and one bit 1, and\n",
    "* a 1 if both bits are 1\n",
    "\n",
    "In short, the only time AND will return a 1 is if both numbers have a 1 in the same position.\n",
    "\n",
    "Suppose you wanted to create a function that takes in a number, and returns only the value of a specified bit.  We can use a bitmask to create a method to read the value of a particular bit in a number.\n",
    "\n",
    "To read the value of a particular bit at a given position, you can use the bitwise AND (`&` operator) against a bitmask composed of all 0's except for one bit set to 1 at the desired location. The resulting number will have a 0 anywhere the bitmask had a 0, and retain the value of the bits anywhere the bitmask had a 1.\n",
    "\n",
    "#### Example #1\n",
    "What's the value of the 5th bit in `10110000`?\n",
    "\n",
    "\n",
    "```\n",
    " number: 10110000\n",
    "bitmask: 00010000  <-- will return value of bit at b_5\n",
    "-----------------\n",
    "result:  00010000\n",
    "            ^ (the bit at b_5 was a 1)\n",
    "```\n",
    "\n",
    "We can see visually that the 5th bit is a 1, but how could the computer return that same value? Applying the bitmask `00010000` with the `&` operator returns `00010000` which is not 1, it's the decimal number 16. However, since know that all the bits to the right and the left of the 1 in the result will always be a 0 (because the bitmask also has 0's in those bits), if we left bitshift the result 4 spaces over, the result will be the decimal number 1.\n",
    "\n",
    "```\n",
    "     result: 00010000 (16)\n",
    "result >> 4:     0001 (1)\n",
    "```\n",
    "\n",
    "This final result, `0001` or 1, is the exact value of the bit that was stored in bit #5 of the original number, `10110000`."
   ]
  },
  {
   "cell_type": "code",
   "execution_count": null,
   "id": "62bb942d-f458-4d1e-a17b-9de8e51f37fa",
   "metadata": {
    "execution": {
     "iopub.execute_input": "2025-04-01T12:22:13.673507Z",
     "iopub.status.busy": "2025-04-01T12:22:13.673239Z",
     "iopub.status.idle": "2025-04-01T12:22:13.678580Z",
     "shell.execute_reply": "2025-04-01T12:22:13.677699Z"
    }
   },
   "outputs": [],
   "source": [
    "(0b10110000 & 0b00010000) >> 4"
   ]
  },
  {
   "cell_type": "markdown",
   "id": "cf0d1de2-cf1d-48ca-a55c-9a100ffd5f0f",
   "metadata": {},
   "source": [
    "#### Example #2\n",
    "What's the value of the 6th bit in `11000000`?\n",
    "\n",
    "```\n",
    " number: 11000000\n",
    "bitmask: 00100000  <-- will return value of bit at b_6\n",
    "-----------------\n",
    "result:  00000000  \n",
    "           ^ (the bit at b_6 was a 0)\n",
    "```"
   ]
  },
  {
   "cell_type": "markdown",
   "id": "3cd26048-70df-4eea-b836-c9b48f43710a",
   "metadata": {},
   "source": [
    "If you were interested in just knowing the bit value, 0 or 1, and not keeping the rest of the output from the bitmask process, then all you need to do is right-shift the result (`>>`) the appropriate number of spaces.\n",
    "\n",
    "```\n",
    " number: 11000000\n",
    "bitmask: 00100000\n",
    "-----------------\n",
    "result:  00000000\n",
    "result >> 5 : 000\n",
    "```\n",
    "\n",
    "And `000` is equivalent to 0, which was the value in the 6th bit of the original number."
   ]
  },
  {
   "cell_type": "code",
   "execution_count": null,
   "id": "64c05ad9-d515-46fd-9880-e8f4e79217f6",
   "metadata": {
    "execution": {
     "iopub.execute_input": "2025-04-01T12:22:13.709412Z",
     "iopub.status.busy": "2025-04-01T12:22:13.708622Z",
     "iopub.status.idle": "2025-04-01T12:22:13.713958Z",
     "shell.execute_reply": "2025-04-01T12:22:13.713108Z"
    }
   },
   "outputs": [],
   "source": [
    "(0b11000000 & 0b100000) >> 5"
   ]
  },
  {
   "cell_type": "markdown",
   "id": "eaf93184-72ed-48f6-9b9c-af7135b785ed",
   "metadata": {
    "deletable": false,
    "editable": false
   },
   "source": [
    "### Question 3\n",
    "\n",
    "Write a function `get_bit` that takes in an integer (decimal or binary, remember Python treats them as the same) and the index of a bit in that number. The function should use the bitmask technique to return either a 0 or a 1 that matches the value at the indicated index in the provided number. **Remember, the right-most bit is called bit #1!**\n",
    "\n",
    "You should first use the specified `bit_index` to create a bitmask using bitshift operators, then apply the bitmask to obtain an initial result, and then use bitshift operators to compute the final 0 or 1."
   ]
  },
  {
   "cell_type": "code",
   "execution_count": null,
   "id": "e3f48151-aefa-456f-80b5-cf81294b216a",
   "metadata": {
    "execution": {
     "iopub.execute_input": "2025-04-01T12:22:13.717490Z",
     "iopub.status.busy": "2025-04-01T12:22:13.717201Z",
     "iopub.status.idle": "2025-04-01T12:22:13.724027Z",
     "shell.execute_reply": "2025-04-01T12:22:13.722794Z"
    },
    "tags": [
     "otter_answer_cell"
    ]
   },
   "outputs": [],
   "source": [
    "def get_bit(value, bit_index):\n",
    "    bitmask = ...\n",
    "    result = ...\n",
    "    ..."
   ]
  },
  {
   "cell_type": "code",
   "execution_count": null,
   "id": "d78074ba-6d70-43b4-934f-908525d045a0",
   "metadata": {
    "deletable": false,
    "editable": false,
    "execution": {
     "iopub.execute_input": "2025-04-01T12:22:13.727222Z",
     "iopub.status.busy": "2025-04-01T12:22:13.726932Z",
     "iopub.status.idle": "2025-04-01T12:22:13.732927Z",
     "shell.execute_reply": "2025-04-01T12:22:13.731766Z"
    }
   },
   "outputs": [],
   "source": [
    "get_bit(0b10100001, bit_index=1)"
   ]
  },
  {
   "cell_type": "code",
   "execution_count": null,
   "id": "e45d2b32",
   "metadata": {
    "deletable": false,
    "editable": false
   },
   "outputs": [],
   "source": [
    "grader.check(\"q3\")"
   ]
  },
  {
   "cell_type": "markdown",
   "id": "ff480f99-e64d-41d1-b89d-8e4665ca8530",
   "metadata": {},
   "source": [
    "### Setting a Bit\n",
    "\n",
    "Defining a particular bit in a number to have a value of 1 is called *setting a bit*, and the operation similar to getting the value of a bit. You can use a bitmask, but instead of using bitwise AND, you use the bitwise OR (`|`) operator.\n",
    "\n",
    "Think about why this would be true. The bitwise OR operator will compare corresponding bits in two numbers and return:\n",
    "* a 0 if both bits are 0, \n",
    "* a 1 if one bit is 0 and the other bit is 1, \n",
    "* a 1 both bits are 1. \n",
    "\n",
    "So if you wanted to set the bit at the 4th bit ($b_4$) of the number `00010` to a 1, you could apply the bitmask `01000` and the OR operator:\n",
    "\n",
    "```\n",
    "number:  00010\n",
    "bitmask: 01000 <-- b_4's value is 1, rest of bits are 0\n",
    "--------------\n",
    "result:  01010 (10 in decimal)\n",
    "          ^ set to a 1 using the OR operation\n",
    "```"
   ]
  },
  {
   "cell_type": "code",
   "execution_count": null,
   "id": "f6733e9b-b20e-4219-9dab-9543eb3b33ef",
   "metadata": {
    "execution": {
     "iopub.execute_input": "2025-04-01T12:22:13.769771Z",
     "iopub.status.busy": "2025-04-01T12:22:13.769481Z",
     "iopub.status.idle": "2025-04-01T12:22:13.774645Z",
     "shell.execute_reply": "2025-04-01T12:22:13.773573Z"
    }
   },
   "outputs": [],
   "source": [
    "0b00010 | 0b01000"
   ]
  },
  {
   "cell_type": "markdown",
   "id": "6409e242-dae6-4d26-8c83-b0a022d559a4",
   "metadata": {},
   "source": [
    "You'll notice that because of how the OR operator works, \n",
    "* if the original number has a 0 at a particular bit, it will stay a 0 in the result if the bitmask has a 0 in the same position\n",
    "* if the original number has a 1 at a particular bit, it will stay a 1 in the result if the bitmask has a 0 in the same position\n",
    "* if the original number has a 1 at a particular bit, it will stay a 1 in the result if the bitmask has a 1 in the same position\n",
    "* if the original number has a 0 at a particular bit, it will become a 1 in the result if the bitmask has a 1 in the same position\n",
    "\n",
    "So the only bits that will change in the original number are 0's, when the bitmask has a 1 in the same position. That's why this combination of operations is perfect for \"setting\" a bit in a binary number."
   ]
  },
  {
   "cell_type": "markdown",
   "id": "30193e6d-4083-4718-94c6-7f6fb50ed87e",
   "metadata": {
    "deletable": false,
    "editable": false
   },
   "source": [
    "### Question 4\n",
    "\n",
    "Write a function, `set_bit` that will set take in an integer and a the index of a bit in that number. The function should apply a bitmask that sets the bit at the specified bit to 1, and return that result.\n",
    "\n",
    "You should first use the specified `bit_index` to create a bitmask using bitshift operators, then apply the bitmask to obtain the result."
   ]
  },
  {
   "cell_type": "code",
   "execution_count": null,
   "id": "2514cd55-8991-4011-acf5-6bac11ecae17",
   "metadata": {
    "execution": {
     "iopub.execute_input": "2025-04-01T12:22:13.778524Z",
     "iopub.status.busy": "2025-04-01T12:22:13.778140Z",
     "iopub.status.idle": "2025-04-01T12:22:13.807478Z",
     "shell.execute_reply": "2025-04-01T12:22:13.806172Z"
    },
    "tags": [
     "otter_answer_cell"
    ]
   },
   "outputs": [],
   "source": [
    "def set_bit(value, bit_index):\n",
    "    bitmask = ...\n",
    "    result = ...\n",
    "    ..."
   ]
  },
  {
   "cell_type": "code",
   "execution_count": null,
   "id": "0ed130f1-c82d-4bc1-8054-ae6ecc977cbb",
   "metadata": {
    "deletable": false,
    "editable": false,
    "execution": {
     "iopub.execute_input": "2025-04-01T12:22:13.810963Z",
     "iopub.status.busy": "2025-04-01T12:22:13.810645Z",
     "iopub.status.idle": "2025-04-01T12:22:13.817059Z",
     "shell.execute_reply": "2025-04-01T12:22:13.816140Z"
    }
   },
   "outputs": [],
   "source": [
    "set_bit(0b10, bit_index = 4)"
   ]
  },
  {
   "cell_type": "code",
   "execution_count": null,
   "id": "4d63fac7",
   "metadata": {
    "deletable": false,
    "editable": false
   },
   "outputs": [],
   "source": [
    "grader.check(\"q4\")"
   ]
  },
  {
   "cell_type": "markdown",
   "id": "21e5a333-d1c8-45a0-a3a9-d16358e13825",
   "metadata": {},
   "source": [
    "### Unsetting a Bit\n",
    "\n",
    "Defining a bit to have a value of 0 is called *unsetting a bit* or *clearing a bit*. You can use a bitmask and the bitwise AND (`&`) operator to accomplish this task.\n",
    "\n",
    "```\n",
    "number:  10010\n",
    "bitmask: 11101 <-- b_2's value is 0, rest of bits are 1\n",
    "--------------\n",
    "result:  10000  (16 in decimal)\n",
    "            ^ unset to a 0 using the AND operation\n",
    "```\n",
    "\n",
    "Notice how this is very similar to setting a bit, only the bitmask is inverted. That is, all the 0's are now 1's, and vice versa."
   ]
  },
  {
   "cell_type": "code",
   "execution_count": null,
   "id": "b59943e0-b7b1-4bc0-addd-188aae1e795e",
   "metadata": {
    "execution": {
     "iopub.execute_input": "2025-04-01T12:22:13.855287Z",
     "iopub.status.busy": "2025-04-01T12:22:13.855031Z",
     "iopub.status.idle": "2025-04-01T12:22:13.859825Z",
     "shell.execute_reply": "2025-04-01T12:22:13.859196Z"
    }
   },
   "outputs": [],
   "source": [
    "0b10010 & 0b11101"
   ]
  },
  {
   "cell_type": "markdown",
   "id": "55a39e4e-2707-473c-96e2-def9dbdf4d4d",
   "metadata": {},
   "source": [
    "Building an inverted bitmask can be a bit tricky, but fortunately Python has a built in \"binary inverse\" operator, the `~`. The invert (`~`) operation will invert an integer's binary form."
   ]
  },
  {
   "cell_type": "code",
   "execution_count": null,
   "id": "7b10d263-5904-4013-a455-152dee13a8b0",
   "metadata": {
    "execution": {
     "iopub.execute_input": "2025-04-01T12:22:13.862821Z",
     "iopub.status.busy": "2025-04-01T12:22:13.862541Z",
     "iopub.status.idle": "2025-04-01T12:22:13.867590Z",
     "shell.execute_reply": "2025-04-01T12:22:13.866926Z"
    }
   },
   "outputs": [],
   "source": [
    "0b10010 & ~(0b00010)"
   ]
  },
  {
   "cell_type": "markdown",
   "id": "b992472c-c83d-4965-ab82-dce7983fb8e2",
   "metadata": {
    "deletable": false,
    "editable": false
   },
   "source": [
    "### Question 5\n",
    "\n",
    "Write a function, `clear_bit` that will set take in an integer and an index of a bit in that number. The function should apply a bitmask that unsets the bit at the indicated index to 0, and return that result."
   ]
  },
  {
   "cell_type": "code",
   "execution_count": null,
   "id": "0a8d7a06-4aa8-4d3f-84f1-d9540329539f",
   "metadata": {
    "execution": {
     "iopub.execute_input": "2025-04-01T12:22:13.870615Z",
     "iopub.status.busy": "2025-04-01T12:22:13.870328Z",
     "iopub.status.idle": "2025-04-01T12:22:13.874895Z",
     "shell.execute_reply": "2025-04-01T12:22:13.873846Z"
    },
    "tags": [
     "otter_answer_cell"
    ]
   },
   "outputs": [],
   "source": [
    "def clear_bit(value, bit_index):\n",
    "    bitmask = ...\n",
    "    result = ...\n",
    "    ..."
   ]
  },
  {
   "cell_type": "code",
   "execution_count": null,
   "id": "4eb4681b-8830-4983-80be-95f42106a4fa",
   "metadata": {
    "deletable": false,
    "editable": false,
    "execution": {
     "iopub.execute_input": "2025-04-01T12:22:13.878130Z",
     "iopub.status.busy": "2025-04-01T12:22:13.877840Z",
     "iopub.status.idle": "2025-04-01T12:22:13.911618Z",
     "shell.execute_reply": "2025-04-01T12:22:13.910605Z"
    }
   },
   "outputs": [],
   "source": [
    "clear_bit(0b11111111, bit_index=6)"
   ]
  },
  {
   "cell_type": "code",
   "execution_count": null,
   "id": "d505f95a",
   "metadata": {
    "deletable": false,
    "editable": false
   },
   "outputs": [],
   "source": [
    "grader.check(\"q5\")"
   ]
  },
  {
   "cell_type": "markdown",
   "id": "855d4dda-fe50-4533-bf21-5574bb27ad6c",
   "metadata": {},
   "source": [
    "### Toggling a Bit\n",
    "\n",
    "Lastly, sometimes you'll just want to toggle a bit from a 1 to a 0 or vice versa. We can accomplish that using a bitmask with a bitwise XOR (`^`) operation. Remember, the bitwise XOR operation returns:\n",
    "\n",
    "* a 0 if the corresponding bits are the same (both 0's or both 1's)\n",
    "* a 1 if the corresponding bits are different (one is a 0 and the other is a 1)\n",
    "\n",
    "#### Example #1\n",
    "```\n",
    "number:  10010\n",
    "bitmask: 00100 <-- b_3's value is 1, rest of bits are 0\n",
    "--------------\n",
    "result:  10110 (decimal value of 22)\n",
    "           ^   toggled using a 1 in the bitmask with the XOR operation\n",
    "```"
   ]
  },
  {
   "cell_type": "code",
   "execution_count": null,
   "id": "bf27ed39-5154-4135-b9bd-096751c119e3",
   "metadata": {
    "execution": {
     "iopub.execute_input": "2025-04-01T12:22:13.953374Z",
     "iopub.status.busy": "2025-04-01T12:22:13.953069Z",
     "iopub.status.idle": "2025-04-01T12:22:13.959001Z",
     "shell.execute_reply": "2025-04-01T12:22:13.957988Z"
    }
   },
   "outputs": [],
   "source": [
    "0b10010 ^ 0b00100"
   ]
  },
  {
   "cell_type": "markdown",
   "id": "f43e201e-dcce-4107-ba11-49a6136d294c",
   "metadata": {},
   "source": [
    "#### Example #2\n",
    "```\n",
    "number:  10010\n",
    "bitmask: 10000 <-- b_5's value is 1, rest of bits are 0\n",
    "--------------\n",
    "result:  00010 (decimal value of 2)\n",
    "         ^     toggled using a 1 in the bitmask with the XOR operation\n",
    "```"
   ]
  },
  {
   "cell_type": "code",
   "execution_count": null,
   "id": "1734a742-5426-43d2-9578-45dbbc7cdca0",
   "metadata": {
    "execution": {
     "iopub.execute_input": "2025-04-01T12:22:13.962057Z",
     "iopub.status.busy": "2025-04-01T12:22:13.961718Z",
     "iopub.status.idle": "2025-04-01T12:22:13.967424Z",
     "shell.execute_reply": "2025-04-01T12:22:13.966473Z"
    }
   },
   "outputs": [],
   "source": [
    "0b10010 ^ 0b10000"
   ]
  },
  {
   "cell_type": "markdown",
   "id": "ccfc8ae7-1a31-4128-88d9-970b624815e7",
   "metadata": {
    "deletable": false,
    "editable": false
   },
   "source": [
    "### Question 6\n",
    "\n",
    "Write a function, `toggle_bit` that will set take in an integer and an index of a bit in that number. The function should apply a bitmask that toggles the bit at the indicated index and return the result."
   ]
  },
  {
   "cell_type": "code",
   "execution_count": null,
   "id": "9f1dbb79-8ec3-4443-81c1-e19a8c81eb0b",
   "metadata": {
    "execution": {
     "iopub.execute_input": "2025-04-01T12:22:13.970656Z",
     "iopub.status.busy": "2025-04-01T12:22:13.970355Z",
     "iopub.status.idle": "2025-04-01T12:22:13.974331Z",
     "shell.execute_reply": "2025-04-01T12:22:13.973483Z"
    },
    "tags": [
     "otter_answer_cell"
    ]
   },
   "outputs": [],
   "source": [
    "def toggle_bit(value, bit_index):\n",
    "    bitmask = ...\n",
    "    result = ...\n",
    "    ..."
   ]
  },
  {
   "cell_type": "code",
   "execution_count": null,
   "id": "e3493e0d-5fdf-42d4-abc5-16e0a8fe815c",
   "metadata": {
    "deletable": false,
    "editable": false,
    "execution": {
     "iopub.execute_input": "2025-04-01T12:22:13.977260Z",
     "iopub.status.busy": "2025-04-01T12:22:13.976966Z",
     "iopub.status.idle": "2025-04-01T12:22:14.008918Z",
     "shell.execute_reply": "2025-04-01T12:22:14.008012Z"
    }
   },
   "outputs": [],
   "source": [
    "toggle_bit(0b10010, bit_index=3)"
   ]
  },
  {
   "cell_type": "code",
   "execution_count": null,
   "id": "1eb00c8f",
   "metadata": {
    "deletable": false,
    "editable": false
   },
   "outputs": [],
   "source": [
    "grader.check(\"q6\")"
   ]
  },
  {
   "cell_type": "markdown",
   "id": "d1e37be4-8edc-4861-a1e4-1086e658c157",
   "metadata": {},
   "source": [
    "## LFSR Pseudorandom number generation (PRNG)\n",
    "\n",
    "Now that you understand how to shift, get, set, unset, and toggle bit values we know more than enough to write a function that can mimic the LFSR process of generating pseudorandom digits. Let's recall the process of an LFSR, but use the language of shift, get, set, unset, and toggle to describe the operations.\n",
    "\n",
    "An LFSR System:\n",
    "* **gets** the value of the right-most bit ($b_1$) in the current state to use as the output\n",
    "* Constructs `num_bits` digits of a binary number, one digit at a time, where the first output of the LFSR is the left-most (largest) bit in the number. You can start with an empty binary number, 0, left-shift the number, and then **set** the right-most bit using the output.\n",
    "* Using the indicated taps, **get** the value of some of the bits, and **XOR** those values to determine the new \"largest\" bit in the next state\n",
    "* **Right-shift** the current state by 1 position, and then\n",
    "* **Set** the left-most bit of the new state using the result of the XOR operations"
   ]
  },
  {
   "cell_type": "markdown",
   "id": "5d940786-4415-4033-91a9-0c8d7a0cf065",
   "metadata": {
    "deletable": false,
    "editable": false
   },
   "source": [
    "### Question 7\n",
    "\n",
    "Write a function, `lfsr8` that implements an 8-bit LFSR system with taps at bits 5, 4, 3, and 1. The function should take in a seed value and an integer that represents how many bits the LFSR should output. Use the comments in the function below to help you think through what you could do to complete each operation."
   ]
  },
  {
   "cell_type": "code",
   "execution_count": null,
   "id": "01415d29-06f6-4247-952d-d954990c5dd1",
   "metadata": {
    "execution": {
     "iopub.execute_input": "2025-04-01T12:22:14.030813Z",
     "iopub.status.busy": "2025-04-01T12:22:14.030489Z",
     "iopub.status.idle": "2025-04-01T12:22:14.037125Z",
     "shell.execute_reply": "2025-04-01T12:22:14.035952Z"
    },
    "tags": [
     "otter_answer_cell"
    ]
   },
   "outputs": [],
   "source": [
    "def lfsr8(seed, num_bits):\n",
    "    \"\"\"\n",
    "            8 7 6 5 4 3 2 1 (bits == 8)\n",
    "           ┌─┬─┬─┬─┬─┬─┬─┬─┐\n",
    "        ┌─→│1│0│1│0│0│0│0│1├─→ output\n",
    "        │  └─┴─┴─┴┬┴┬┴┬┴─┴┬┘\n",
    "        └──────XOR┘ │ │   │\n",
    "                └─XOR └─┐ │\n",
    "                    └──XOR┘\n",
    "                          (taps == 5, 4, 3, 1)\n",
    "    \"\"\"\n",
    "    current_state = seed\n",
    "    output_stream = 0\n",
    "    \n",
    "    for i in range(num_bits):\n",
    "        \n",
    "        # gets the value of the bit at $b_1$ in the current state\n",
    "        output_bit = ...\n",
    "        \n",
    "        # left-shift the output stream by 1\n",
    "        output_stream = ...\n",
    "        \n",
    "        # If the output bit is 1, set the rightmost bit in the output stream\n",
    "        if output_bit == 1:\n",
    "            output_stream = ...\n",
    "        \n",
    "        # Get the value of bits 5, 4, 3, and 1 and **XOR** those values to determine value of the new bit\n",
    "        new_bit = ...\n",
    "        \n",
    "        # Right-shift the current state by 1, creating room for a new bit at position 8\n",
    "        current_state = ...\n",
    "        \n",
    "        # if the new_bit is 1, then set b_8 in shifted_current_state to 1 and assign to current_state\n",
    "        if new_bit == 1:\n",
    "            current_state = ...\n",
    "    \n",
    "    return output_stream"
   ]
  },
  {
   "cell_type": "code",
   "execution_count": null,
   "id": "b520844c-b191-47a8-af0f-0f6d2293d830",
   "metadata": {
    "deletable": false,
    "editable": false,
    "execution": {
     "iopub.execute_input": "2025-04-01T12:22:14.040641Z",
     "iopub.status.busy": "2025-04-01T12:22:14.040320Z",
     "iopub.status.idle": "2025-04-01T12:22:14.046353Z",
     "shell.execute_reply": "2025-04-01T12:22:14.045429Z"
    }
   },
   "outputs": [],
   "source": [
    "# Here is the 64-bit number that represents the 64\n",
    "# pseudorandom binary numbers generated by the LFSR\n",
    "lfsr8(0b10100001, 64)"
   ]
  },
  {
   "cell_type": "code",
   "execution_count": null,
   "id": "f75ca23e-45e6-4b77-8fc4-6467354390cc",
   "metadata": {
    "deletable": false,
    "editable": false,
    "execution": {
     "iopub.execute_input": "2025-04-01T12:22:14.049431Z",
     "iopub.status.busy": "2025-04-01T12:22:14.049108Z",
     "iopub.status.idle": "2025-04-01T12:22:14.054129Z",
     "shell.execute_reply": "2025-04-01T12:22:14.053253Z"
    }
   },
   "outputs": [],
   "source": [
    "# Here are the 64 bits shown as binary\n",
    "format( lfsr8(0b10100001, 64), '064b')"
   ]
  },
  {
   "cell_type": "code",
   "execution_count": null,
   "id": "2fbfd37c",
   "metadata": {
    "deletable": false,
    "editable": false
   },
   "outputs": [],
   "source": [
    "grader.check(\"q7\")"
   ]
  },
  {
   "cell_type": "markdown",
   "id": "48fdf5fd-4eef-43a8-ae73-3253db0b1060",
   "metadata": {},
   "source": [
    "## Putting it all together\n",
    "Use the `lfsr8` function to generate 64 bits of output with a binary seed of `11010011`, then, use that output to decipher the following binary ciphertext using the XOR operation. There are no tests for this question, have your instructor check your work to ensure it's correct."
   ]
  },
  {
   "cell_type": "code",
   "execution_count": null,
   "id": "fe1a5a65-686a-44ca-a6cb-b630a8dcc66e",
   "metadata": {
    "execution": {
     "iopub.execute_input": "2025-04-01T12:22:14.116134Z",
     "iopub.status.busy": "2025-04-01T12:22:14.115817Z",
     "iopub.status.idle": "2025-04-01T12:22:14.120355Z",
     "shell.execute_reply": "2025-04-01T12:22:14.119156Z"
    }
   },
   "outputs": [],
   "source": [
    "keystream = lfsr8(0b11010011, 64)\n",
    "\n",
    "# Binary ciphertext: 1000110001100000110110001100101010101000000001100001011010101110\n",
    "ciphertext = 10115323127988098734"
   ]
  },
  {
   "cell_type": "markdown",
   "id": "dacc5ede-9db0-4280-aaf1-1126181fd6fe",
   "metadata": {},
   "source": [
    "# Submitting your work\n",
    "You're done with this Lab! All assignments in the course will be distributed as notebooks like this one, and you will submit your work by doing the following:\n",
    "* Save your notebook\n",
    "* Restart the kernel and run up to this cell.\n",
    "* Run all the tests by running the cell containing `grader.check_all()`. Make sure they pass the way you expect them to.\n",
    "* Run the cell below with the code `grader.export(...)`.\n",
    "* Download the file named `labXX.zip`, found in the explorer pane on the left side of the screen.\n",
    "* Upload `labXX-<date-time stamp>.zip` to the corresponding lab assignment on Canvas."
   ]
  },
  {
   "cell_type": "markdown",
   "id": "11545679",
   "metadata": {
    "deletable": false,
    "editable": false
   },
   "source": [
    "## Submission\n",
    "\n",
    "Make sure you have run all cells in your notebook in order before running the cell below, so that all images/graphs appear in the output. The cell below will generate a zip file for you to submit."
   ]
  },
  {
   "cell_type": "code",
   "execution_count": null,
   "id": "d177c5d2",
   "metadata": {
    "deletable": false,
    "editable": false
   },
   "outputs": [],
   "source": [
    "grader.export(pdf=False, force_save=True)"
   ]
  },
  {
   "cell_type": "markdown",
   "id": "2d734217",
   "metadata": {},
   "source": [
    " "
   ]
  }
 ],
 "metadata": {
  "kernelspec": {
   "display_name": "Python 3 (ipykernel)",
   "language": "python",
   "name": "python3"
  },
  "language_info": {
   "codemirror_mode": {
    "name": "ipython",
    "version": 3
   },
   "file_extension": ".py",
   "mimetype": "text/x-python",
   "name": "python",
   "nbconvert_exporter": "python",
   "pygments_lexer": "ipython3",
   "version": "3.12.9"
  },
  "otter": {
   "OK_FORMAT": true,
   "tests": {
    "q3": {
     "name": "q3",
     "points": 1,
     "suites": [
      {
       "cases": [
        {
         "code": ">>> get_bit(161, bit_index=1)\n1",
         "hidden": false,
         "locked": false
        },
        {
         "code": ">>> get_bit(161, bit_index=2)\n0",
         "hidden": false,
         "locked": false
        },
        {
         "code": ">>> get_bit(161, bit_index=6)\n1",
         "hidden": false,
         "locked": false
        },
        {
         "code": ">>> get_bit(161, bit_index=8)\n1",
         "hidden": false,
         "locked": false
        }
       ],
       "scored": true,
       "setup": "",
       "teardown": "",
       "type": "doctest"
      }
     ]
    },
    "q4": {
     "name": "q4",
     "points": 1,
     "suites": [
      {
       "cases": [
        {
         "code": ">>> set_bit(128, bit_index=6)\n160",
         "hidden": false,
         "locked": false
        },
        {
         "code": ">>> set_bit(128, bit_index=5)\n144",
         "hidden": false,
         "locked": false
        },
        {
         "code": ">>> set_bit(128, bit_index=3)\n132",
         "hidden": false,
         "locked": false
        },
        {
         "code": ">>> set_bit(128, bit_index=1)\n129",
         "hidden": false,
         "locked": false
        }
       ],
       "scored": true,
       "setup": "",
       "teardown": "",
       "type": "doctest"
      }
     ]
    },
    "q5": {
     "name": "q5",
     "points": 1,
     "suites": [
      {
       "cases": [
        {
         "code": ">>> clear_bit(255, bit_index=6)\n223",
         "hidden": false,
         "locked": false
        },
        {
         "code": ">>> clear_bit(255, bit_index=4)\n247",
         "hidden": false,
         "locked": false
        },
        {
         "code": ">>> clear_bit(255, bit_index=3)\n251",
         "hidden": false,
         "locked": false
        },
        {
         "code": ">>> clear_bit(255, bit_index=1)\n254",
         "hidden": false,
         "locked": false
        }
       ],
       "scored": true,
       "setup": "",
       "teardown": "",
       "type": "doctest"
      }
     ]
    },
    "q6": {
     "name": "q6",
     "points": 1,
     "suites": [
      {
       "cases": [
        {
         "code": ">>> toggle_bit(18, bit_index=3)\n22",
         "hidden": false,
         "locked": false
        },
        {
         "code": ">>> toggle_bit(18, bit_index=5)\n2",
         "hidden": false,
         "locked": false
        }
       ],
       "scored": true,
       "setup": "",
       "teardown": "",
       "type": "doctest"
      }
     ]
    },
    "q7": {
     "name": "q7",
     "points": 4,
     "suites": [
      {
       "cases": [
        {
         "code": ">>> type(lfsr8(161, 100)) == int\nTrue",
         "hidden": false,
         "locked": false
        },
        {
         "code": ">>> lfsr8(161, 100)\n662979776157205528967939712391",
         "hidden": false,
         "locked": false
        },
        {
         "code": ">>> lfsr8(5, 100)\n792969008143519772445665127915",
         "hidden": false,
         "locked": false
        },
        {
         "code": ">>> lfsr8(0, 50)\n0",
         "hidden": false,
         "locked": false
        }
       ],
       "scored": true,
       "setup": "",
       "teardown": "",
       "type": "doctest"
      }
     ]
    }
   }
  }
 },
 "nbformat": 4,
 "nbformat_minor": 5
}
