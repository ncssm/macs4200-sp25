{
 "cells": [
  {
   "cell_type": "code",
   "execution_count": null,
   "id": "4afb86d4",
   "metadata": {
    "deletable": false,
    "editable": false
   },
   "outputs": [],
   "source": [
    "# Initialize Otter\n",
    "import otter\n",
    "grader = otter.Notebook(\"hw01.ipynb\")"
   ]
  },
  {
   "cell_type": "markdown",
   "id": "be557ae7-5a82-404e-8d93-8c4293baf6d4",
   "metadata": {},
   "source": [
    "# Homework 01: Monoalphabetic Ciphers and Cryptanalysis\n",
    "\n",
    "## Overview\n",
    "This homework will cover the topics taught in Lessons 01 - 12. It is a mix of coding exercises to be completed in this Jupyter notebook, and free-response questions to be completed on a corresponding handout.\n",
    "\n",
    "## Allowable resources\n",
    "You may use any programming techniques covered in class to answer the following questions on this programming portion of this assignment, however, pay careful attention to the directions for each question to ensure you are using the specific approach requested, when applicable. You are only allowed to use your notes and refer to previous lesson materials and activities as resources to complete this assignment. No artificial intelligence tools, textbooks other than the book for this course, or internet resources may be used to complete this programming portion of the assignment."
   ]
  },
  {
   "cell_type": "markdown",
   "id": "5a352440-f261-4caa-b5a3-18660aa3dd0e",
   "metadata": {},
   "source": [
    "## Part 1: Perfect Numbers\n",
    "\n",
    "A positive integer $n$ is called a **perfect number** if all divisors of $n$ which are less than $n$ sum to equal $n$. \n",
    "\n",
    "Put another way, a perfect number is a positive integer that is equal to the sum of its positive factors, excluding the number itself. For example, $6$ is a perfect number because the factors of $6$ that are less than $6$ are $1$, $2$, and $3$, which sum to $6$ ($6 = 1 + 2 + 3$)."
   ]
  },
  {
   "cell_type": "markdown",
   "id": "71fd3ae3-f8a8-4d5a-8746-967cd93682de",
   "metadata": {
    "deletable": false,
    "editable": false
   },
   "source": [
    "### Question 1.1\n",
    "\n",
    "Write a function named `perfect` which accepts an integer `n` as an input. The function `perfect` should return `True` if the integer `n` is a perfect number, and return `False` if integer `n` is not a perfect number.\n",
    "\n",
    "For example:\n",
    "\n",
    "```python\n",
    ">>> perfect(6)\n",
    "True\n",
    "\n",
    ">>> perfect(28)\n",
    "True\n",
    "\n",
    ">>> perfect(15)\n",
    "False\n",
    "```"
   ]
  },
  {
   "cell_type": "code",
   "execution_count": null,
   "id": "6aa1918d-3943-41b1-85b7-cf3778ab5858",
   "metadata": {
    "execution": {
     "iopub.execute_input": "2025-03-07T15:58:42.901417Z",
     "iopub.status.busy": "2025-03-07T15:58:42.900979Z",
     "iopub.status.idle": "2025-03-07T15:58:42.906907Z",
     "shell.execute_reply": "2025-03-07T15:58:42.906091Z"
    },
    "tags": []
   },
   "outputs": [],
   "source": [
    "def perfect(n):\n",
    "    ..."
   ]
  },
  {
   "cell_type": "code",
   "execution_count": null,
   "id": "3be9d9de",
   "metadata": {
    "deletable": false,
    "editable": false
   },
   "outputs": [],
   "source": [
    "grader.check(\"q1_1\")"
   ]
  },
  {
   "cell_type": "markdown",
   "id": "ae4f9bbe-e09f-4219-b6a0-7f06ccb85b4d",
   "metadata": {
    "deletable": false,
    "editable": false
   },
   "source": [
    "### Question 1.2\n",
    "Write a function `all_perfects_less_than` which accepts an integer `k` and returns a **list** of all perfect numbers less than `k`.\n",
    "\n",
    "For example:\n",
    "```python\n",
    ">>> all_perfects_less_than(50)\n",
    "[6, 28]\n",
    "\n",
    ">>> all_perfects_less_than(500)\n",
    "[6, 28, 496]\n",
    "\n",
    ">>> all_perfects_less_than(5)\n",
    "[]\n",
    "```"
   ]
  },
  {
   "cell_type": "code",
   "execution_count": null,
   "id": "d206ce7a-4969-4bb1-859a-d0c534293e4c",
   "metadata": {
    "execution": {
     "iopub.execute_input": "2025-03-07T15:58:45.277379Z",
     "iopub.status.busy": "2025-03-07T15:58:45.276752Z",
     "iopub.status.idle": "2025-03-07T15:58:45.280719Z",
     "shell.execute_reply": "2025-03-07T15:58:45.280070Z"
    },
    "tags": []
   },
   "outputs": [],
   "source": [
    "def all_perfects_less_than(k):\n",
    "    ..."
   ]
  },
  {
   "cell_type": "code",
   "execution_count": null,
   "id": "dcbb4ec5",
   "metadata": {
    "deletable": false,
    "editable": false
   },
   "outputs": [],
   "source": [
    "grader.check(\"q1_2\")"
   ]
  },
  {
   "cell_type": "markdown",
   "id": "e281817f-494e-4031-895a-06ad6bef637b",
   "metadata": {},
   "source": [
    "## Part 2: Bar Charts and Chi Squared scoring\n",
    "\n",
    "In this part, you'll be using chi squared scoring to perform some cryptanalysis. Run the code cell below to load in the following functions we've previously written in class:\n",
    "* `caesar`\n",
    "* `chi_squared`\n",
    "\n",
    "**Note:** It's important that you use the provided functions, not functions you've written in class, to ensure that your results are consistent with the automatic grader checks."
   ]
  },
  {
   "cell_type": "code",
   "execution_count": null,
   "id": "980a598f-16b0-44bd-9015-deba519be5e8",
   "metadata": {
    "execution": {
     "iopub.execute_input": "2025-03-07T15:58:48.617070Z",
     "iopub.status.busy": "2025-03-07T15:58:48.616847Z",
     "iopub.status.idle": "2025-03-07T15:58:48.621096Z",
     "shell.execute_reply": "2025-03-07T15:58:48.620528Z"
    }
   },
   "outputs": [],
   "source": [
    "def caesar(text, key, decrypt=False, LETTERS = 'ABCDEFGHIJKLMNOPQRSTUVWXYZ'):\n",
    "    \n",
    "    final_text = ''\n",
    "\n",
    "    for char in text:\n",
    "        text_numerical = LETTERS.find( char )\n",
    "        \n",
    "        if decrypt:\n",
    "            new_text_numerical = (text_numerical - key) % len(LETTERS)\n",
    "        else:\n",
    "            new_text_numerical = (text_numerical + key) % len(LETTERS)\n",
    "        \n",
    "        final_text += LETTERS[new_text_numerical]\n",
    "\n",
    "    if decrypt:\n",
    "        return final_text\n",
    "    else:\n",
    "        return final_text"
   ]
  },
  {
   "cell_type": "code",
   "execution_count": null,
   "id": "4141317b-bbb4-49b1-86e5-b6327993e936",
   "metadata": {
    "execution": {
     "iopub.execute_input": "2025-03-07T15:58:48.623629Z",
     "iopub.status.busy": "2025-03-07T15:58:48.623060Z",
     "iopub.status.idle": "2025-03-07T15:58:48.627469Z",
     "shell.execute_reply": "2025-03-07T15:58:48.626853Z"
    }
   },
   "outputs": [],
   "source": [
    "def chi_squared(text, LETTERS='ABCDEFGHIJKLMNOPQRSTUVWXYZ'):\n",
    "\n",
    "    letter_percentage =[0.082, 0.015, 0.028, 0.043, 0.127, 0.022, 0.02, 0.061, 0.07, 0.0015, 0.0077, 0.04, 0.024, 0.067, 0.075, 0.019, 0.00095, 0.06, 0.063, 0.091, 0.028, 0.0098, 0.024, 0.0015, 0.02, 0.00074]\n",
    "    total = 0\n",
    "    \n",
    "    for char in LETTERS:\n",
    "        actual = text.count(char)\n",
    "        expected = letter_percentage[LETTERS.find(char)] * len(text)\n",
    "        partial_score = (expected - actual)**2 / expected\n",
    "        total += partial_score\n",
    "        \n",
    "    return total"
   ]
  },
  {
   "cell_type": "markdown",
   "id": "0d714e12-61f7-4b27-955c-6c6cc035a259",
   "metadata": {
    "deletable": false,
    "editable": false
   },
   "source": [
    "<!-- BEGIN QUESTION -->\n",
    "\n",
    "### Question 2.1\n",
    "\n",
    "You intercepted the following ciphertext that you suspect was encrypted using the Caesar cipher. Notice that this ciphertext is already cleaned for analysis."
   ]
  },
  {
   "cell_type": "code",
   "execution_count": null,
   "id": "ca20ed26-876a-40b2-9524-75b91089b976",
   "metadata": {
    "deletable": false,
    "editable": false,
    "execution": {
     "iopub.execute_input": "2025-03-07T15:58:48.629843Z",
     "iopub.status.busy": "2025-03-07T15:58:48.629607Z",
     "iopub.status.idle": "2025-03-07T15:58:48.633879Z",
     "shell.execute_reply": "2025-03-07T15:58:48.633202Z"
    }
   },
   "outputs": [],
   "source": [
    "ciphertext = 'LZWVWTSLWLGMJFSEWFLLZWTMKVWHSJLWVSLXANWLZAJLQSEUSJJQAFYGMJVWTSLWLWSELZJGMYZLZWVSJCFWKKLGOSJVLZWKLSLWUZSEHAGFKZAHWAYZLTDWSJQWQWVKLMVWFLKUDMLUZWVLJSNWDEMYKGXUGXXWWSFVJWNAWOWVFGLWUSJVKTQLZWVAEGNWJZWSVDAYZLKJWEWETWJALKFGLBMKLSTGMLXSULKUGSUZDSOKGFKSAVXJGELZWXJGFLKWSLALKSTGMLUGFFWULAFYOALZLZWBMVYWKESCWLZWEUSJWSTGMLQGMJSJYMEWFLAFGVVWVLZGMYZEQKLGESUZUZMJFWVOALZSFPAWLQLZAKOSKEQXAJKLLAEWUGEHWLAFYSLLZWKLSLWDWNWDLZWHJWNAGMKFAYZLAVHJSULAUWVEQGHWFAFYKLSLWEWFLMFLADEQJGGEESLWLZJWSLWFWVLGKEGLZWJEWOALZSHADDGOAXAVAVFLDWLZWJKDWWHLZWUGEHWLALAGFOSKZWDVSLUWFLJSDMFANWJKALQALKAEHGKAFYTJAUCTMADVAFYKESCAFYEWXWWDKESDDWJLZSFMKMSDLWSEKXJGESUJGKKLZWKLSLWZMVVDWVAFZSDDOSQKGJUDSAEWVLSTDWKAFLZWKLMVWFLMFAGFSTMRRAFYZANWGXFWJNGMKWFWJYQSFVDSKLEAFMLWHJWHSJSLAGFKGMJXAJKLJGMFVLZWLGHAUOSKUDAESLWHGDAUQOWFLKMJHJAKAFYDQOWDDEQHSJLFWJVSEAWFSFVASVNSFUWVLGLZWIMSJLWJXAFSDKLZWFKGEWZGOLGLZWKWEAXAFSDKOALZWSUZJGMFVEQUGFXAVWFUWYJWOLZWZGMJKGXJWKWSJUZLZWHJSULAUWVWTSLWKLZWXWWVTSUCKWKKAGFKALOSKSDDUGEAFYLGYWLZWJLZWXAFSDJGMFVOSKSFAFLWDDWULMSDWPLJSNSYSFRSSYSAFKLLZWVWXWFVAFYUZSEHAGFKXJGEOWKLDSCWSUSVWEQLZWSMVAWFUWZSVYJGOFLGFWSJDQSZMFVJWVHWGHDWHSJWFLKUGSUZWKWDAEAFSLWVUGEHWLALGJKWNWFSXWOMFANWJKALQKLMVWFLKUMJAGMKSTGMLLZWUGEEGLAGFOZWFLZWBMVYWKSFFGMFUWVVSEAWFSFVEWSKLZWOAFFWJKAUGMDVFLHJGUWKKALSLXAJKLUGSUZDSOKGFKWFLZMKASKLAUWETJSUWXAFSDDQESVWALJWSDOWZSVVGFWALGMJKESDDHMTDAUKUZGGDZSVVWXWSLWVHJANSLWSUSVWEAWKOALZVWVAUSLWVVWTSLWUGSUZWKSFVDSNAKZJWKGMJUWKGFLZWJAVWZGEWLJGHZQFWKLDWVKSXWDQAFEQDSHAJWSDARWVKGEWLZAFYAEHGJLSFLTWAFYMFVWJWKLAESLWVUSFTWSHGOWJXMDSVNSFLSYWFGGFWWPHWULWVMKLGOAFWPUWHLUGSUZDSOKGFOZGZSVTWDAWNWVAFMKXJGELZWTWYAFFAFYKGEWLAEWKLZSLKSDDLZWSVNSFLSYWQGMFWWV'"
   ]
  },
  {
   "cell_type": "markdown",
   "id": "e02b5e06-dd6e-4fb7-be17-91800bb9e541",
   "metadata": {
    "deletable": false,
    "editable": false
   },
   "source": [
    "In the code cell below, generate a bar chart of the character frequency in the ciphertext. The height of the bar should indicate the *proportion* of the ciphertext that contains the letter associated with each bar (not the raw count)."
   ]
  },
  {
   "cell_type": "code",
   "execution_count": null,
   "id": "00b13d4d-e836-4949-b63a-87493e442361",
   "metadata": {
    "execution": {
     "iopub.execute_input": "2025-03-07T15:58:48.636235Z",
     "iopub.status.busy": "2025-03-07T15:58:48.635986Z",
     "iopub.status.idle": "2025-03-07T15:58:49.674069Z",
     "shell.execute_reply": "2025-03-07T15:58:49.673248Z"
    },
    "tags": []
   },
   "outputs": [],
   "source": [
    "# Add your code to this cell so that when it is run, a bar chart appears below"
   ]
  },
  {
   "cell_type": "markdown",
   "id": "baf6a297-2602-4ef1-bb19-fa51c271beb6",
   "metadata": {
    "deletable": false,
    "editable": false
   },
   "source": [
    "<!-- END QUESTION -->\n",
    "\n",
    "## Question 2.2"
   ]
  },
  {
   "cell_type": "markdown",
   "id": "b080c88b-e340-4f0f-8c1a-ecaa3036256e",
   "metadata": {
    "deletable": false,
    "editable": false
   },
   "source": [
    "In the code cell below, write a block of code that:\n",
    "1. uses every possible key for the Caesar cipher to decrypt the text,\n",
    "2. score each decryption using the chi squared method, and\n",
    "3. store each score to a list named `chi_squared_scores`, in order. \n",
    "\n",
    "For example, the first element in the `chi_squared_scores` list, `chi_squared_scores[0]`, should contain the chi squared score for the decryption obtained using a key of 0, `chi_squared_scores[1]` should contain the score when using a key of 1, and so on."
   ]
  },
  {
   "cell_type": "code",
   "execution_count": null,
   "id": "7c4957a9-a3db-4811-8312-d91e55867f54",
   "metadata": {
    "execution": {
     "iopub.execute_input": "2025-03-07T15:58:49.677615Z",
     "iopub.status.busy": "2025-03-07T15:58:49.677144Z",
     "iopub.status.idle": "2025-03-07T15:58:49.695329Z",
     "shell.execute_reply": "2025-03-07T15:58:49.694559Z"
    },
    "tags": []
   },
   "outputs": [],
   "source": [
    "chi_squared_scores = []\n",
    "\n",
    "\n",
    "print(chi_squared_scores)"
   ]
  },
  {
   "cell_type": "code",
   "execution_count": null,
   "id": "3f8cf639",
   "metadata": {
    "deletable": false,
    "editable": false
   },
   "outputs": [],
   "source": [
    "grader.check(\"q2_2\")"
   ]
  },
  {
   "cell_type": "markdown",
   "id": "8ceccffe-ad7a-4533-87f7-8dcd306460a3",
   "metadata": {
    "deletable": false,
    "editable": false
   },
   "source": [
    "### Question 2.3\n",
    "\n",
    "Based on the list of chi squared scores you computed in the previous question, determine which key was most likely used to encrypt the message. Assign the value of the key to the variable `likely_key` in the code cell below."
   ]
  },
  {
   "cell_type": "code",
   "execution_count": null,
   "id": "0c8f28f3-1e91-4580-8776-6d81abc656d3",
   "metadata": {
    "execution": {
     "iopub.execute_input": "2025-03-07T15:58:49.728749Z",
     "iopub.status.busy": "2025-03-07T15:58:49.728502Z",
     "iopub.status.idle": "2025-03-07T15:58:49.731869Z",
     "shell.execute_reply": "2025-03-07T15:58:49.731235Z"
    },
    "tags": []
   },
   "outputs": [],
   "source": [
    "likely_key = ..."
   ]
  },
  {
   "cell_type": "code",
   "execution_count": null,
   "id": "a6d840b5",
   "metadata": {
    "deletable": false,
    "editable": false
   },
   "outputs": [],
   "source": [
    "grader.check(\"q2_3\")"
   ]
  },
  {
   "cell_type": "markdown",
   "id": "cdf11322",
   "metadata": {
    "deletable": false,
    "editable": false
   },
   "source": [
    "## Submission\n",
    "\n",
    "Make sure you have run all cells in your notebook in order before running the cell below, so that all images/graphs appear in the output. The cell below will generate a zip file for you to submit."
   ]
  },
  {
   "cell_type": "code",
   "execution_count": null,
   "id": "8dea7d91",
   "metadata": {
    "deletable": false,
    "editable": false
   },
   "outputs": [],
   "source": [
    "grader.export(pdf=False, force_save=True)"
   ]
  },
  {
   "cell_type": "markdown",
   "id": "7bb5fc8f",
   "metadata": {},
   "source": [
    " "
   ]
  }
 ],
 "metadata": {
  "kernelspec": {
   "display_name": "Python 3 (ipykernel)",
   "language": "python",
   "name": "python3"
  },
  "language_info": {
   "codemirror_mode": {
    "name": "ipython",
    "version": 3
   },
   "file_extension": ".py",
   "mimetype": "text/x-python",
   "name": "python",
   "nbconvert_exporter": "python",
   "pygments_lexer": "ipython3",
   "version": "3.12.8"
  },
  "otter": {
   "OK_FORMAT": true,
   "tests": {
    "q1_1": {
     "name": "q1_1",
     "points": 4,
     "suites": [
      {
       "cases": [
        {
         "code": ">>> perfect(6) == True\nTrue",
         "failure_message": "6 should be perfect",
         "hidden": false,
         "locked": false,
         "points": 0
        },
        {
         "code": ">>> perfect(28) == True\nTrue",
         "failure_message": "28 should be perfect",
         "hidden": false,
         "locked": false,
         "points": 0
        },
        {
         "code": ">>> perfect(496) == True\nTrue",
         "failure_message": "496 should be perfect",
         "hidden": false,
         "locked": false,
         "points": 0
        },
        {
         "code": ">>> perfect(2) == False\nTrue",
         "failure_message": "2 is not perfect",
         "hidden": false,
         "locked": false,
         "points": 0
        },
        {
         "code": ">>> perfect(15) == False\nTrue",
         "failure_message": "15 is not perfect",
         "hidden": false,
         "locked": false,
         "points": 0
        },
        {
         "code": ">>> perfect(1) == False\nTrue",
         "failure_message": "1 is not perfect",
         "hidden": false,
         "locked": false,
         "points": 0
        },
        {
         "code": ">>> perfect(0) == False\nTrue",
         "failure_message": "0 is not perfect",
         "hidden": false,
         "locked": false,
         "points": 0
        },
        {
         "code": ">>> perfect(-6) == False\nTrue",
         "failure_message": "Negative numbers are not perfect",
         "hidden": false,
         "locked": false,
         "points": 0
        }
       ],
       "scored": true,
       "setup": "",
       "teardown": "",
       "type": "doctest"
      }
     ]
    },
    "q1_2": {
     "name": "q1_2",
     "points": 4,
     "suites": [
      {
       "cases": [
        {
         "code": ">>> all_perfects_less_than(1) == []\nTrue",
         "failure_message": "For k < 6, the function should return an empty list",
         "hidden": false,
         "locked": false,
         "points": 0
        },
        {
         "code": ">>> all_perfects_less_than(0) == []\nTrue",
         "failure_message": "For k < 6, the function should return an empty list",
         "hidden": false,
         "locked": false,
         "points": 0
        },
        {
         "code": ">>> all_perfects_less_than(2) == []\nTrue",
         "failure_message": "For k < 6, the function should return an empty list",
         "hidden": false,
         "locked": false,
         "points": 0
        },
        {
         "code": ">>> all_perfects_less_than(7) == [6]\nTrue",
         "failure_message": "For 6 < k <= 28, the only perfect number is 6",
         "hidden": false,
         "locked": false,
         "points": 0
        },
        {
         "code": ">>> all_perfects_less_than(28) == [6]\nTrue",
         "failure_message": "For 6 < k <= 28, the only perfect number is 6",
         "hidden": false,
         "locked": false,
         "points": 0
        },
        {
         "code": ">>> all_perfects_less_than(50) == [6, 28]\nTrue",
         "failure_message": "for k = 50, both 6 and 28 are perfect numbers",
         "hidden": false,
         "locked": false,
         "points": 0
        },
        {
         "code": ">>> all_perfects_less_than(500) == [6, 28, 496]\nTrue",
         "failure_message": "for k = 50, 6, 28, and 496 are perfect numbers",
         "hidden": false,
         "locked": false,
         "points": 0
        },
        {
         "code": ">>> all_perfects_less_than(-10) == []\nTrue",
         "failure_message": "Negative values for k should also return an empty list",
         "hidden": false,
         "locked": false,
         "points": 0
        }
       ],
       "scored": true,
       "setup": "",
       "teardown": "",
       "type": "doctest"
      }
     ]
    },
    "q2_2": {
     "name": "q2_2",
     "points": 4,
     "suites": [
      {
       "cases": [
        {
         "code": ">>> len(chi_squared_scores) == 26\nTrue",
         "failure_message": "chi_squared_scores should have 26 elements",
         "hidden": false,
         "locked": false,
         "points": 1,
         "success_message": "chi_squared_scores has 26 elements"
        },
        {
         "code": ">>> import numpy as np\n>>> bool(np.isclose(chi_squared_scores[0], 11476.590345085184))\nTrue",
         "failure_message": "The first element of chi_squared_scores is incorrect",
         "hidden": false,
         "locked": false,
         "points": 0,
         "success_message": "The first element of chi_squared_scores is correct"
        }
       ],
       "scored": true,
       "setup": "",
       "teardown": "",
       "type": "doctest"
      }
     ]
    },
    "q2_3": {
     "name": "q2_3",
     "points": 1,
     "suites": [
      {
       "cases": [
        {
         "code": ">>> type(likely_key) == int\nTrue",
         "failure_message": "likely_key is not an integer, but it should be",
         "hidden": false,
         "locked": false,
         "points": 0,
         "success_message": "likely_key has been assigned to an integer value"
        }
       ],
       "scored": true,
       "setup": "",
       "teardown": "",
       "type": "doctest"
      }
     ]
    }
   }
  }
 },
 "nbformat": 4,
 "nbformat_minor": 5
}
