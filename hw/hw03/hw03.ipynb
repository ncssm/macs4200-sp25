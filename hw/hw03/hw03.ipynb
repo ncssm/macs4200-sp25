{
 "cells": [
  {
   "cell_type": "code",
   "execution_count": null,
   "id": "2fb7ab55",
   "metadata": {
    "deletable": false,
    "editable": false
   },
   "outputs": [],
   "source": [
    "# Initialize Otter\n",
    "import otter\n",
    "grader = otter.Notebook(\"hw03.ipynb\")"
   ]
  },
  {
   "cell_type": "markdown",
   "id": "cd10cd62-bb23-4cb8-a845-a321bf75fa57",
   "metadata": {},
   "source": [
    "# Homework 03: Public key encryption\n",
    "\n",
    "This homework will focus on topics covered in the final week of the course: public key cryptography."
   ]
  },
  {
   "cell_type": "markdown",
   "id": "57a896c6-f80c-49b4-9d6d-9f14facdbba6",
   "metadata": {},
   "source": [
    "## Helper functions\n",
    "\n",
    "To get you started, run the cell below to load functions that have been written in earlier homework assignments. Functions that are included:\n",
    "* `gcd(<a>,<b>)`. This function will compute the greatest common divisor between `a` and `b`\n",
    "* `egcd(<a>, <b>)`. Performs the Extended Euclidean Algorithm on inputs `a` and `b`\n",
    "* `mod_inverse(<e>, <n>)`. Computes the multiplicative inverse of `e` in modulus `n`\n",
    "* `phi(<n>)`. This is Euler's totient function as described in [11.3 RSA](https://macs4200.org/chapters/11/3/rsa.html)\n",
    "\n",
    "You can use these functions in any of your code below after you've imported them."
   ]
  },
  {
   "cell_type": "code",
   "execution_count": null,
   "id": "041fdd3f-533a-4568-8fe4-00c0dbe9d051",
   "metadata": {
    "execution": {
     "iopub.execute_input": "2025-04-30T14:41:36.896071Z",
     "iopub.status.busy": "2025-04-30T14:41:36.895768Z",
     "iopub.status.idle": "2025-04-30T14:41:36.903902Z",
     "shell.execute_reply": "2025-04-30T14:41:36.903174Z"
    }
   },
   "outputs": [],
   "source": [
    "def gcd(x, y): \n",
    "    \"\"\"\n",
    "    Arguments:\n",
    "        x (int): an integer\n",
    "        y (int): an integer\n",
    "    Returns:\n",
    "        (int): the greatest commond divisor of x and y\n",
    "    \"\"\"\n",
    "    while(y): \n",
    "        x, y = y, x % y \n",
    "  \n",
    "    return x\n",
    "\n",
    "def egcd(a, b):\n",
    "    \"\"\"\n",
    "    Performs the Extended Euclidean Algorithm on inputs a and b\n",
    "    \n",
    "    Arguments:\n",
    "        a (int): an integer\n",
    "        b (int): an integer\n",
    "    Returns:\n",
    "        (list): a list of 3 integers (g, y, x) where g is the gcd(a,b) and y and x are the coefficients such that gcd(a,b) = ax + by\n",
    "    \"\"\"    \n",
    "    if a == 0:\n",
    "        return (b, 0, 1)\n",
    "    else:\n",
    "        g, y, x = egcd(b % a, a)\n",
    "        return (g, x - (b // a) * y, y)\n",
    "\n",
    "def mod_inverse(e, n):\n",
    "    \"\"\"\n",
    "    Arugments:\n",
    "      e (int): represents a value in modulo n\n",
    "      n (int): represents the modulus in which you are working\n",
    "    Returns:\n",
    "      (int): if e has a multiplicative inverse in mod n, then this value will be return, if not this value will be -1\n",
    "    \"\"\"\n",
    "    g, x, y = egcd(e, n)\n",
    "    if g != 1:\n",
    "        return False\n",
    "    else:\n",
    "        return x % n\n",
    "    \n",
    "def phi(n):\n",
    "    \"\"\"\n",
    "    Arugments:\n",
    "      n (int): an integer to work with\n",
    "    Returns:\n",
    "      (int): the number of integers between 0 and n (non-inclusive) that are relatively prime to n\n",
    "    \"\"\"\n",
    "    count = 1\n",
    "    for i in range(2, n): \n",
    "        if (gcd(i, n) == 1): \n",
    "            count += 1\n",
    "    return count "
   ]
  },
  {
   "cell_type": "markdown",
   "id": "0ce3f17c-82d7-454c-a390-3747d667a34b",
   "metadata": {},
   "source": [
    "## 1. KidRSA\n",
    "*Recommended Reading:* https://www.macs4200.org/chapters/11/1/kidrsa.html\n",
    "\n",
    "In this question you will implement the KidRSA algorithm."
   ]
  },
  {
   "cell_type": "markdown",
   "id": "695f8d31-0f32-4ab0-92b9-511f4407d054",
   "metadata": {
    "deletable": false,
    "editable": false
   },
   "source": [
    "### Part A: Key Generation\n",
    "\n",
    "Write a function `kidrsa_keygen` that uses the values for `a`, `b`, `a_prime`, and `b_prime` to compute a pair of public and private keys using the Kid RSA key generation algorithm. The function will return the pair of keys as a list of lists. The first key in the list should be the public key $\\left(e,n\\right)$ and the second key in the list should be the private key $\\left(d,n\\right)$.\n",
    "\n",
    "**Sample Test Cases**:\n",
    "```python\n",
    ">>> kidrsa_keygen(3,7,5,11)\n",
    "[[103, 1169], [227, 1169]]\n",
    "\n",
    ">>> kidrsa_keygen(2,324,100,8)\n",
    "[[64702, 550017], [5500, 550017]]\n",
    "```"
   ]
  },
  {
   "cell_type": "code",
   "execution_count": null,
   "id": "28ee2fac-7b9e-4f7f-b630-fdd931a9c78c",
   "metadata": {
    "execution": {
     "iopub.execute_input": "2025-04-30T14:41:36.907071Z",
     "iopub.status.busy": "2025-04-30T14:41:36.906818Z",
     "iopub.status.idle": "2025-04-30T14:41:36.910721Z",
     "shell.execute_reply": "2025-04-30T14:41:36.910020Z"
    },
    "tags": [
     "otter_answer_cell"
    ]
   },
   "outputs": [],
   "source": [
    "def kidrsa_keygen(a, b, a_prime, b_prime):\n",
    "    \n",
    "    ..."
   ]
  },
  {
   "cell_type": "markdown",
   "id": "49c2dcd1-595e-4607-b053-45e6a0617cf1",
   "metadata": {
    "deletable": false,
    "editable": false
   },
   "source": [
    "Use the empty cell below to put your function through a few tests of your own, then run the autograder cell."
   ]
  },
  {
   "cell_type": "code",
   "execution_count": null,
   "id": "fe25856d-d70a-4bd1-8285-edc66ff12adf",
   "metadata": {
    "deletable": false,
    "editable": false,
    "execution": {
     "iopub.execute_input": "2025-04-30T14:41:36.913259Z",
     "iopub.status.busy": "2025-04-30T14:41:36.912999Z",
     "iopub.status.idle": "2025-04-30T14:41:36.916218Z",
     "shell.execute_reply": "2025-04-30T14:41:36.915585Z"
    }
   },
   "outputs": [],
   "source": [
    "# You can test your function here \n"
   ]
  },
  {
   "cell_type": "code",
   "execution_count": null,
   "id": "fe8e7592",
   "metadata": {
    "deletable": false,
    "editable": false
   },
   "outputs": [],
   "source": [
    "grader.check(\"q1_a\")"
   ]
  },
  {
   "cell_type": "markdown",
   "id": "a58a90a6-20c2-41da-ba0b-64b7ed63576f",
   "metadata": {
    "deletable": false,
    "editable": false,
    "tags": []
   },
   "source": [
    "### Part B: Encryption / Decryption\n",
    "\n",
    "Write a function `kidrsa` that takes in a numerical integer message, a list containing either a public or private key, and encrypts or decrypts the message. Since the process for encryption and decryption are identical, you do not need a boolean `decrypt` parameter as in earlier homework assignments.\n",
    "\n",
    "`kidrsa` should output a numerical integer that represents ciphertext when the function is provided numerical plaintext, and vice-versa.\n",
    "\n",
    "**Reminder:** Your message, `message`, must be less than the modulus `n` from the key **and** be relatively prime to `n` (i.e `gcd(m,n) == 1`). Your function **must** check for this condition and return the boolean value `False` if it does not meet these criteria.\n",
    "\n",
    "**Sample Test Cases**:\n",
    "```python\n",
    ">>> kidrsa( 348, [18221, 347273])\n",
    "89994\n",
    "\n",
    ">>> kidrsa( 89994, [9377, 347273])\n",
    "348\n",
    "```\n",
    "\n",
    "If `message` $\\gt n$\n",
    "```python\n",
    ">>> kidrsa( 500000, [18221, 347273])\n",
    "False\n",
    "```\n",
    "\n",
    "If `gcd(message, n)` $\\neq 1$\n",
    "```python\n",
    ">>> kidrsa( 61, [18221, 347273])\n",
    "False\n",
    "```"
   ]
  },
  {
   "cell_type": "code",
   "execution_count": null,
   "id": "0c96755d-aa1a-4233-882e-e998cebd55ca",
   "metadata": {
    "execution": {
     "iopub.execute_input": "2025-04-30T14:41:36.961248Z",
     "iopub.status.busy": "2025-04-30T14:41:36.961026Z",
     "iopub.status.idle": "2025-04-30T14:41:36.964629Z",
     "shell.execute_reply": "2025-04-30T14:41:36.964069Z"
    },
    "tags": [
     "otter_answer_cell"
    ]
   },
   "outputs": [],
   "source": [
    "def kidrsa(message, key):\n",
    "    \n",
    "    ..."
   ]
  },
  {
   "cell_type": "code",
   "execution_count": null,
   "id": "38a20a33-aa50-471b-bcdc-5e1638546a42",
   "metadata": {
    "execution": {
     "iopub.execute_input": "2025-04-30T14:41:36.967019Z",
     "iopub.status.busy": "2025-04-30T14:41:36.966790Z",
     "iopub.status.idle": "2025-04-30T14:41:36.970139Z",
     "shell.execute_reply": "2025-04-30T14:41:36.969392Z"
    },
    "tags": [
     "otter_answer_cell"
    ]
   },
   "outputs": [],
   "source": [
    "# You can test your function here\n"
   ]
  },
  {
   "cell_type": "code",
   "execution_count": null,
   "id": "4ee4dd3e",
   "metadata": {
    "deletable": false,
    "editable": false
   },
   "outputs": [],
   "source": [
    "grader.check(\"q1_b\")"
   ]
  },
  {
   "cell_type": "markdown",
   "id": "08c8863f-92ae-4aa6-bedd-e10d36b94915",
   "metadata": {
    "deletable": false,
    "editable": false
   },
   "source": [
    "### Part C: Cracking Keys\n",
    "\n",
    "KidRSA is not secure because it's fairly easy and fast to determine a private key if you have someone's private key. Write a function `crack_kidrsa` that accepts a public key (as a list) as the input, and returns the private key.\n",
    "\n",
    "`crack_kidrsa` must return an a list that represents the private key formatted as `[d, n]`. `crack_kidrsa` must check to ensure that the provided value of `e` has an inverse in mod `n`. If they aren't the function should return the boolean value `False`\n",
    "\n",
    "**HINT:** You should not brute force this! You should use the `mod_inverse` function to help here. `mod_inverse` returns the boolean value `False` if there is no multiplicative inverse found. \n",
    "\n",
    "**Sample Test Cases**:\n",
    "```python\n",
    ">>> crack_kidrsa( [18221, 347273] )\n",
    "[9377, 347273]\n",
    "\n",
    ">>> crack_kidrsa( [4, 12] )\n",
    "False\n",
    "```"
   ]
  },
  {
   "cell_type": "code",
   "execution_count": null,
   "id": "2e50baff-12b0-4c7b-b2b5-6abe20ad987c",
   "metadata": {
    "execution": {
     "iopub.execute_input": "2025-04-30T14:41:37.044958Z",
     "iopub.status.busy": "2025-04-30T14:41:37.044715Z",
     "iopub.status.idle": "2025-04-30T14:41:37.048461Z",
     "shell.execute_reply": "2025-04-30T14:41:37.047820Z"
    },
    "tags": [
     "otter_answer_cell"
    ]
   },
   "outputs": [],
   "source": [
    "def crack_kidrsa(public_key):\n",
    "    \n",
    "    ..."
   ]
  },
  {
   "cell_type": "markdown",
   "id": "6389850c-4131-48da-8fa9-7be09760ec08",
   "metadata": {
    "deletable": false,
    "editable": false
   },
   "source": [
    "Use the empty cell below to put your function through a few tests of your own, then run the autograder cell."
   ]
  },
  {
   "cell_type": "code",
   "execution_count": null,
   "id": "50eac01b-811e-43d7-bf5f-e54fe3139df2",
   "metadata": {
    "deletable": false,
    "editable": false,
    "execution": {
     "iopub.execute_input": "2025-04-30T14:41:37.051047Z",
     "iopub.status.busy": "2025-04-30T14:41:37.050814Z",
     "iopub.status.idle": "2025-04-30T14:41:37.054263Z",
     "shell.execute_reply": "2025-04-30T14:41:37.053583Z"
    }
   },
   "outputs": [],
   "source": [
    "# You can test your function here\n"
   ]
  },
  {
   "cell_type": "code",
   "execution_count": null,
   "id": "21e20205",
   "metadata": {
    "deletable": false,
    "editable": false
   },
   "outputs": [],
   "source": [
    "grader.check(\"q1_c\")"
   ]
  },
  {
   "cell_type": "markdown",
   "id": "0a608890-e9a1-48ba-b4cd-96a454d57fdb",
   "metadata": {},
   "source": [
    "## 2. The RSA Cipher\n",
    "*Recommended Reading:* https://www.macs4200.org/chapters/11/3/rsa.html"
   ]
  },
  {
   "cell_type": "markdown",
   "id": "0c8b4e61-74a7-4c10-a690-1806e3c04edc",
   "metadata": {
    "deletable": false,
    "editable": false
   },
   "source": [
    "### Part A: Key Generation\n",
    "\n",
    "Write a function `rsa_keygen` that uses the prime integers `p` and `q`, and the encryption exponent `e` to compute a pair of public and private keys using the RSA key generation algorithm. `e` should take on the default value of `65537`, but should allow for optional custom values of `e` to be provided as an input.\n",
    "\n",
    "The function must return the pair of keys as a list of lists. The first key in the list should be the public key $\\left(e,n\\right)$ and the second key in the list should be the private key $\\left(d,n\\right)$.\n",
    "\n",
    "`rsa_keygen` must check that `e` is a valid encryption exponent. If it's not, `kid_rsa` should return the boolean value `False`\n",
    "\n",
    "**Reminder:**  $e$ and $\\varphi(n)$ need to be relatively prime for $e$ to be valid.\n",
    "\n",
    "**Sample Test Cases**:\n",
    "```python\n",
    ">>> rsa_keygen(3, 11, 3)\n",
    "[(3, 33), (7, 33)]\n",
    "\n",
    ">>> rsa_keygen(1787, 3881)\n",
    "[(65537, 6935347), (5655233, 6935347)]\n",
    "\n",
    ">>> rsa_keygen(1787, 3881, e=36)\n",
    "False\n",
    "```"
   ]
  },
  {
   "cell_type": "code",
   "execution_count": null,
   "id": "dba2fbd2-0e15-480f-a8ea-66f41a5b1d00",
   "metadata": {
    "execution": {
     "iopub.execute_input": "2025-04-30T14:41:37.117073Z",
     "iopub.status.busy": "2025-04-30T14:41:37.116839Z",
     "iopub.status.idle": "2025-04-30T14:41:37.121038Z",
     "shell.execute_reply": "2025-04-30T14:41:37.120360Z"
    },
    "tags": [
     "otter_answer_cell"
    ]
   },
   "outputs": [],
   "source": [
    "def rsa_keygen(p, q, e=65537):\n",
    "    \n",
    "    ..."
   ]
  },
  {
   "cell_type": "markdown",
   "id": "b19a2f23-2da2-43a2-82c0-dcc03c15fefc",
   "metadata": {
    "deletable": false,
    "editable": false
   },
   "source": [
    "Use the empty cell below to put your function through a few tests of your own, then run the autograder cell."
   ]
  },
  {
   "cell_type": "code",
   "execution_count": null,
   "id": "c760ec3b-ebea-4c39-a4c4-bbce80e6cbe1",
   "metadata": {
    "deletable": false,
    "editable": false,
    "execution": {
     "iopub.execute_input": "2025-04-30T14:41:37.124305Z",
     "iopub.status.busy": "2025-04-30T14:41:37.124043Z",
     "iopub.status.idle": "2025-04-30T14:41:37.127427Z",
     "shell.execute_reply": "2025-04-30T14:41:37.126790Z"
    }
   },
   "outputs": [],
   "source": [
    "# You can test your function here\n"
   ]
  },
  {
   "cell_type": "code",
   "execution_count": null,
   "id": "bddb9aab",
   "metadata": {
    "deletable": false,
    "editable": false
   },
   "outputs": [],
   "source": [
    "grader.check(\"q2a\")"
   ]
  },
  {
   "cell_type": "markdown",
   "id": "04038beb-fb00-49d6-a732-a430b8a4435a",
   "metadata": {
    "deletable": false,
    "editable": false
   },
   "source": [
    "### Part B: Encryption / Decryption\n",
    "\n",
    "Write a function `rsa` that takes in a numerical integer message, a list containing either a public or private key, and encrypts or decrypts the message. Since the process for encryption and decryption are identical, you do not need a boolean `encipher` parameter as in earlier homework assignments.\n",
    "\n",
    "`rsa` should output a numerical integer that represents ciphertext when the function is provided numerical plaintext, and vice-versa.\n",
    "\n",
    "**Reminder:** Your message, `message`, must be less than the modulus `n` from the key. Your function must check for this condition and return the boolean value `False` if it does not meet the criteria.\n",
    "\n",
    "**Hint:** You should use the `pow` function instead of the `**` operator so you're using the fast modular exponentiation algorithm. This will drastically reduce the time to encrypt or decrypt a message. The numbers in this example are far too large for Python to efficiently carry out the exponentiation with the `**` operator!\n",
    "\n",
    "**Sample Test Cases**:\n",
    "```\n",
    ">>> rsa( 5, [3,33] )\n",
    "26\n",
    "\n",
    ">>> rsa( 26, (7,33) )\n",
    "5\n",
    "\n",
    ">>> rsa( 234712, [65537, 6935347])\n",
    "2678654\n",
    "\n",
    ">>> rsa( 2678654, [5655233, 6935347])\n",
    "234712\n",
    "\n",
    "m > n case\n",
    ">>> rsa( 26786543243423, [5655233, 6935347])\n",
    "False\n",
    "```"
   ]
  },
  {
   "cell_type": "code",
   "execution_count": null,
   "id": "a0e13b31-54c5-4dee-87a7-959b87955b0e",
   "metadata": {
    "execution": {
     "iopub.execute_input": "2025-04-30T14:41:48.595190Z",
     "iopub.status.busy": "2025-04-30T14:41:48.594947Z",
     "iopub.status.idle": "2025-04-30T14:41:48.605903Z",
     "shell.execute_reply": "2025-04-30T14:41:48.604911Z"
    },
    "tags": [
     "otter_answer_cell"
    ]
   },
   "outputs": [],
   "source": [
    "def rsa(message, key):\n",
    "    \n",
    "    ..."
   ]
  },
  {
   "cell_type": "markdown",
   "id": "15b41941-5eb6-41e5-86ac-84e7418bf374",
   "metadata": {
    "deletable": false,
    "editable": false
   },
   "source": [
    "Use the empty cell below to put your function through a few tests of your own, then run the autograder cell."
   ]
  },
  {
   "cell_type": "code",
   "execution_count": null,
   "id": "0002c945-fa93-4e8f-b411-003b0287ccf2",
   "metadata": {
    "deletable": false,
    "editable": false,
    "execution": {
     "iopub.execute_input": "2025-04-30T14:41:48.609497Z",
     "iopub.status.busy": "2025-04-30T14:41:48.609223Z",
     "iopub.status.idle": "2025-04-30T14:41:48.613104Z",
     "shell.execute_reply": "2025-04-30T14:41:48.612232Z"
    }
   },
   "outputs": [],
   "source": [
    "# You can test your function here\n"
   ]
  },
  {
   "cell_type": "code",
   "execution_count": null,
   "id": "ebb4864a",
   "metadata": {
    "deletable": false,
    "editable": false
   },
   "outputs": [],
   "source": [
    "grader.check(\"q2_b\")"
   ]
  },
  {
   "cell_type": "markdown",
   "id": "5cf57898",
   "metadata": {
    "deletable": false,
    "editable": false
   },
   "source": [
    "## Submission\n",
    "\n",
    "Make sure you have run all cells in your notebook in order before running the cell below, so that all images/graphs appear in the output. The cell below will generate a zip file for you to submit."
   ]
  },
  {
   "cell_type": "code",
   "execution_count": null,
   "id": "45287f9d",
   "metadata": {
    "deletable": false,
    "editable": false
   },
   "outputs": [],
   "source": [
    "grader.export(pdf=False, force_save=True)"
   ]
  },
  {
   "cell_type": "markdown",
   "id": "a6b37ecb",
   "metadata": {},
   "source": [
    " "
   ]
  }
 ],
 "metadata": {
  "kernelspec": {
   "display_name": "Python 3 (ipykernel)",
   "language": "python",
   "name": "python3"
  },
  "language_info": {
   "codemirror_mode": {
    "name": "ipython",
    "version": 3
   },
   "file_extension": ".py",
   "mimetype": "text/x-python",
   "name": "python",
   "nbconvert_exporter": "python",
   "pygments_lexer": "ipython3",
   "version": "3.12.9"
  },
  "otter": {
   "OK_FORMAT": true,
   "tests": {
    "q1_a": {
     "name": "q1_a",
     "points": 2,
     "suites": [
      {
       "cases": [
        {
         "code": ">>> kidrsa_keygen(3, 7, 5, 11) != None\nTrue",
         "failure_message": "Make sure you are using a return statement in your function, not just printing the output",
         "hidden": false,
         "locked": false,
         "points": 0
        },
        {
         "code": ">>> type(kidrsa_keygen(3, 7, 5, 11)[0][1]) != float\nTrue",
         "failure_message": "The value for n should be an integer, not a float. HINT dividing with // returns an integer.",
         "hidden": false,
         "locked": false,
         "points": 0
        },
        {
         "code": ">>> kidrsa_keygen(3, 7, 5, 11)\n[[103, 1169], [227, 1169]]",
         "failure_message": "Your keys are incorrect",
         "hidden": false,
         "locked": false,
         "points": 0.5
        },
        {
         "code": ">>> kidrsa_keygen(2, 324, 100, 8)\n[[64702, 550017], [5500, 550017]]",
         "failure_message": "Your keys are incorrect",
         "hidden": false,
         "locked": false,
         "points": 0.5
        }
       ],
       "scored": true,
       "setup": "",
       "teardown": "",
       "type": "doctest"
      }
     ]
    },
    "q1_b": {
     "name": "q1_b",
     "points": 3,
     "suites": [
      {
       "cases": [
        {
         "code": ">>> kidrsa(348, [18221, 347273]) != None\nTrue",
         "failure_message": "Make sure you are using a return statement in your function, not just printing the output",
         "hidden": false,
         "locked": false,
         "points": 0
        },
        {
         "code": ">>> kidrsa(348, [18221, 347273])\n89994",
         "failure_message": "Sample case not working",
         "hidden": false,
         "locked": false,
         "points": 0.5
        },
        {
         "code": ">>> kidrsa(89994, [9377, 347273])\n348",
         "failure_message": "Sample case not working",
         "hidden": false,
         "locked": false,
         "points": 0.5
        },
        {
         "code": ">>> kidrsa(500000, [18221, 347273])\nFalse",
         "failure_message": "Sample case not working",
         "hidden": false,
         "locked": false,
         "points": 0.5
        },
        {
         "code": ">>> kidrsa(61, [18221, 347273])\nFalse",
         "failure_message": "Sample case not working",
         "hidden": false,
         "locked": false,
         "points": 0.5
        }
       ],
       "scored": true,
       "setup": "",
       "teardown": "",
       "type": "doctest"
      }
     ]
    },
    "q1_c": {
     "name": "q1_c",
     "points": 3,
     "suites": [
      {
       "cases": [
        {
         "code": ">>> crack_kidrsa([18221, 347273]) != None\nTrue",
         "failure_message": "Make sure you are using a return statement in your function, not just printing the output",
         "hidden": false,
         "locked": false,
         "points": 0
        },
        {
         "code": ">>> crack_kidrsa([18221, 347273])\n[9377, 347273]",
         "failure_message": "Sample case not working",
         "hidden": false,
         "locked": false,
         "points": 0.25
        },
        {
         "code": ">>> crack_kidrsa([4, 12])\nFalse",
         "failure_message": "Sample case not working",
         "hidden": false,
         "locked": false,
         "points": 0.25
        }
       ],
       "scored": true,
       "setup": "",
       "teardown": "",
       "type": "doctest"
      }
     ]
    },
    "q2_b": {
     "name": "q2_b",
     "points": 3,
     "suites": [
      {
       "cases": [
        {
         "code": ">>> rsa(5, [3, 33]) != None\nTrue",
         "failure_message": "Make sure you are using a return statement in your function, not just printing the output",
         "hidden": false,
         "locked": false,
         "points": 0
        },
        {
         "code": ">>> rsa(5, [3, 33])\n26",
         "failure_message": "Are you cleaning your message?",
         "hidden": false,
         "locked": false,
         "points": 0.5
        },
        {
         "code": ">>> rsa(234712, (65537, 6935347))\n2678654",
         "failure_message": "Is your deciphered text lowercase?",
         "hidden": false,
         "locked": false,
         "points": 0.5
        },
        {
         "code": ">>> rsa(2678654, (5655233, 6935347))\n234712",
         "failure_message": "Is your ciphertext uppercase?",
         "hidden": false,
         "locked": false,
         "points": 0.5
        },
        {
         "code": ">>> rsa(26786543243423, (5655233, 6935347))\nFalse",
         "failure_message": "Is your ciphertext blocked?",
         "hidden": false,
         "locked": false,
         "points": 0.5
        }
       ],
       "scored": true,
       "setup": "",
       "teardown": "",
       "type": "doctest"
      }
     ]
    },
    "q2a": {
     "name": "q2a",
     "points": 2,
     "suites": [
      {
       "cases": [
        {
         "code": ">>> rsa_keygen(3, 11, 3) != None\nTrue",
         "failure_message": "Make sure you are using a return statement in your function, not just printing the output",
         "hidden": false,
         "locked": false,
         "points": 0
        },
        {
         "code": ">>> rsa_keygen(1787, 3881)\n[[65537, 6935347], [5655233, 6935347]]",
         "failure_message": "Sample case not working",
         "hidden": false,
         "locked": false,
         "points": 0.5
        },
        {
         "code": ">>> rsa_keygen(1787, 3881, e=36)\nFalse",
         "failure_message": "Sample case not working",
         "hidden": false,
         "locked": false,
         "points": 0.5
        }
       ],
       "scored": true,
       "setup": "",
       "teardown": "",
       "type": "doctest"
      }
     ]
    }
   }
  }
 },
 "nbformat": 4,
 "nbformat_minor": 5
}
