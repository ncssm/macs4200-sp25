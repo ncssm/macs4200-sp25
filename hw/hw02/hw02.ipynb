{
 "cells": [
  {
   "cell_type": "code",
   "execution_count": null,
   "id": "8cea22b5",
   "metadata": {
    "deletable": false,
    "editable": false
   },
   "outputs": [],
   "source": [
    "# Initialize Otter\n",
    "import otter\n",
    "grader = otter.Notebook(\"hw02.ipynb\")"
   ]
  },
  {
   "cell_type": "markdown",
   "id": "cd10cd62-bb23-4cb8-a845-a321bf75fa57",
   "metadata": {},
   "source": [
    "# Homework 02: Polyalphabetic Ciphers and Cryptanalysis\n",
    "\n",
    "At this point, we know enough about polyalphabetic substitution ciphers and how to analyze them to complete a homework that covers the Vigenere cipher, Autokey cipher, and some concepts from the One Time Pad (OTP)."
   ]
  },
  {
   "cell_type": "markdown",
   "id": "57a896c6-f80c-49b4-9d6d-9f14facdbba6",
   "metadata": {},
   "source": [
    "## Imports\n",
    "\n",
    "To get you started, run the cell below to load functions that have been written in earlier homework assignments. Functions that are included:\n",
    "* `text_clean`\n",
    "* `text_block`\n",
    "\n",
    "You can use these functions in any of your code below after you've imported them."
   ]
  },
  {
   "cell_type": "code",
   "execution_count": null,
   "id": "041fdd3f-533a-4568-8fe4-00c0dbe9d051",
   "metadata": {
    "execution": {
     "iopub.execute_input": "2025-04-28T15:58:35.135913Z",
     "iopub.status.busy": "2025-04-28T15:58:35.135407Z",
     "iopub.status.idle": "2025-04-28T15:58:35.143739Z",
     "shell.execute_reply": "2025-04-28T15:58:35.142855Z"
    }
   },
   "outputs": [],
   "source": [
    "def text_clean(text, LETTERS='ABCDEFGHIJKLMNOPQRSTUVWXYZ'):\n",
    "    upper_case_text = text.upper()\n",
    "    cleaned_text = ''\n",
    "    \n",
    "    for char in upper_case_text:\n",
    "        if char in LETTERS:\n",
    "            cleaned_text += char\n",
    "\n",
    "    return cleaned_text\n",
    "\n",
    "def text_block(text, n=5):\n",
    "    blocked_text = ''\n",
    "    counter = 0\n",
    "    \n",
    "    for char in text:\n",
    "        blocked_text += char\n",
    "        counter += 1\n",
    "        if counter % 5 == 0:\n",
    "            blocked_text += ' '\n",
    "    \n",
    "    return blocked_text.strip()"
   ]
  },
  {
   "cell_type": "markdown",
   "id": "a58a90a6-20c2-41da-ba0b-64b7ed63576f",
   "metadata": {
    "deletable": false,
    "editable": false,
    "tags": []
   },
   "source": [
    "## Question 1: Vigenère Cipher Function\n",
    "\n",
    "Write a function that implements the Vigenère Cipher. The function should be able to encipher and decipher messages depending on the values of `encipher` parameter. Your function should clean the provided message based on the provided `LETTERS` string using the `text_clean` function. Ciphertext output should be blocked into groups of 5 uppercase characters and plaintext output should be returned as lowercase characters with no spaces.\n",
    "\n",
    "**Examples**:\n",
    "```python\n",
    ">>> print( vigenere('hospital', 'onaplaneaplaneisdue') )\n",
    "VBSET TNPHD DPVXI DKIW\n",
    "\n",
    ">>> print( vigenere('hospital', 'VBSET TNPHD DPVXI DKIW', encipher=False) )\n",
    "onaplaneaplaneisdue\n",
    "```"
   ]
  },
  {
   "cell_type": "code",
   "execution_count": null,
   "id": "0c96755d-aa1a-4233-882e-e998cebd55ca",
   "metadata": {
    "execution": {
     "iopub.execute_input": "2025-04-28T15:58:35.146793Z",
     "iopub.status.busy": "2025-04-28T15:58:35.146505Z",
     "iopub.status.idle": "2025-04-28T15:58:35.152637Z",
     "shell.execute_reply": "2025-04-28T15:58:35.152004Z"
    },
    "tags": [
     "otter_answer_cell"
    ]
   },
   "outputs": [],
   "source": [
    "def vigenere(text, keyword, decrypt=False, LETTERS = 'ABCDEFGHIJKLMNOPQRSTUVWXYZ'):\n",
    "    \"\"\"\n",
    "    Arguments:\n",
    "        text (str): either the plaintext or ciphertext to work with\n",
    "        keyword (str): the primer / keyword that will be used to create the entire keystream\n",
    "        decrypt (bool, optional): True --> decrypt the message, False --> encrypt the message\n",
    "        LETTERS (str, optional): defines the alphabet of allowable characters\n",
    "    Returns:\n",
    "        (str): encrypted / decrypted version of message formatting to specifications\n",
    "    \"\"\"\n",
    "\n",
    "print( vigenere('onaplaneaplaneisdue', 'hospital') )\n",
    "print( vigenere('VBSET TNPHD DPVXI DKIW', 'hospital', decrypt=True) )"
   ]
  },
  {
   "cell_type": "code",
   "execution_count": null,
   "id": "c82289e0",
   "metadata": {
    "deletable": false,
    "editable": false
   },
   "outputs": [],
   "source": [
    "grader.check(\"q1\")"
   ]
  },
  {
   "cell_type": "markdown",
   "id": "08c8863f-92ae-4aa6-bedd-e10d36b94915",
   "metadata": {
    "deletable": false,
    "editable": false
   },
   "source": [
    "## Question 2: Autokey Cipher\n",
    "\n",
    "The autokey cipher does not allow you to compute the entire keystream from the start when deciphering messages, since you need to recover some of the plaintext before can continue constructing the keystream. As a result the function for completing the autokey cipher will need to be a bit different than the others you've already written for the caesar, affine, and now Vigenère ciphers. You will need to think carefully about how to modify the keystream after each letter you encipher or decipher to ensure that it has sufficient characters to finish creating the message.\n",
    "\n",
    "**Examples**\n",
    "```python\n",
    ">>> print( autokey('UNICORN', 'acceptthegreaterchallenge' ) )\n",
    "UPKGD KGHGI VTTML VIYEL EIEIL\n",
    "\n",
    ">>> print( autokey('unicorn', 'UPKGD KGHGI VTTML VIYEL EIEIL', False) )\n",
    "acceptthegreaterchallenge\n",
    "```"
   ]
  },
  {
   "cell_type": "code",
   "execution_count": null,
   "id": "2e50baff-12b0-4c7b-b2b5-6abe20ad987c",
   "metadata": {
    "execution": {
     "iopub.execute_input": "2025-04-28T15:58:35.241694Z",
     "iopub.status.busy": "2025-04-28T15:58:35.241400Z",
     "iopub.status.idle": "2025-04-28T15:58:35.247653Z",
     "shell.execute_reply": "2025-04-28T15:58:35.247003Z"
    },
    "tags": [
     "otter_answer_cell"
    ]
   },
   "outputs": [],
   "source": [
    "def autokey(text, keyword, decrypt=False, LETTERS = 'ABCDEFGHIJKLMNOPQRSTUVWXYZ'):\n",
    "    \"\"\"\n",
    "    Arguments:\n",
    "        text (str): either the plaintext or ciphertext to work with\n",
    "        keyword (str): the primer / keyword that will be used to create the entire keystream\n",
    "        decrypt (bool, optional): True --> decrypt the message, False --> encrypt the message\n",
    "        LETTERS (str, optional): defines the alphabet of allowable characters\n",
    "    Returns:\n",
    "        (str): encrypted / decrypted version of message formatting to specifications\n",
    "    \"\"\"\n",
    "    \n",
    "print(autokey('acceptthegreaterchallenge', 'UNICORN'))\n",
    "print(autokey('UPKGD KGHGI VTTML VIYEL EIEIL', 'unicorn', decrypt=True))"
   ]
  },
  {
   "cell_type": "code",
   "execution_count": null,
   "id": "f0650f42",
   "metadata": {
    "deletable": false,
    "editable": false
   },
   "outputs": [],
   "source": [
    "grader.check(\"q2\")"
   ]
  },
  {
   "cell_type": "markdown",
   "id": "b8008d9a-5d2b-4bdd-b8bb-d83c89021406",
   "metadata": {},
   "source": [
    "## `random`\n",
    "\n",
    "In order to use a One Time Pad with the Vigenère cipher, we need a way to generate random letters for the keystream. You can create \"random\" values using the `random` module in Python. We say \"random\" in quotes, because it's very very difficult to create truly random numbers but Python can do a fairly good job creating *pseudorandom* values, sometimes abbreviated as PR.\n",
    "\n",
    "Run the cell below to import the `random` module."
   ]
  },
  {
   "cell_type": "code",
   "execution_count": null,
   "id": "fa9a5f04-55c5-4920-944f-20f4b663c219",
   "metadata": {
    "execution": {
     "iopub.execute_input": "2025-04-28T15:58:35.354082Z",
     "iopub.status.busy": "2025-04-28T15:58:35.353590Z",
     "iopub.status.idle": "2025-04-28T15:58:35.358450Z",
     "shell.execute_reply": "2025-04-28T15:58:35.357467Z"
    }
   },
   "outputs": [],
   "source": [
    "import random"
   ]
  },
  {
   "cell_type": "markdown",
   "id": "a2d224ea-be1f-4118-b6c3-d26eadefbe91",
   "metadata": {},
   "source": [
    "The `randint` function in the `random` module will output a random integer between the two provided arguments (inclusive of those values). You can call this function by first specifying the module the function is a part of (`random`), then a `.`, and then the function name (`randint`) with any required arguments. For example, running the cell below will create a value between 0 and 9. Run it a few times to confirm that it does in fact produce pseudorandom outputs."
   ]
  },
  {
   "cell_type": "code",
   "execution_count": null,
   "id": "d2621aee-8efb-48c0-a63b-f411cca927cd",
   "metadata": {
    "execution": {
     "iopub.execute_input": "2025-04-28T15:58:35.361377Z",
     "iopub.status.busy": "2025-04-28T15:58:35.361121Z",
     "iopub.status.idle": "2025-04-28T15:58:35.366084Z",
     "shell.execute_reply": "2025-04-28T15:58:35.365262Z"
    }
   },
   "outputs": [],
   "source": [
    "random.randint(0, 9)"
   ]
  },
  {
   "cell_type": "markdown",
   "id": "7f0f67f9-03b5-4b15-bf8c-07041925cde8",
   "metadata": {},
   "source": [
    "We can combine this ability to produce random integers with our existing ability to convert an integer to a character to produce random letters. For example:"
   ]
  },
  {
   "cell_type": "code",
   "execution_count": null,
   "id": "3c927786-e9fd-4839-a99d-2b22be58932d",
   "metadata": {
    "execution": {
     "iopub.execute_input": "2025-04-28T15:58:35.368820Z",
     "iopub.status.busy": "2025-04-28T15:58:35.368554Z",
     "iopub.status.idle": "2025-04-28T15:58:35.402290Z",
     "shell.execute_reply": "2025-04-28T15:58:35.371953Z"
    }
   },
   "outputs": [],
   "source": [
    "LETTERS = 'ABCDEFGHIJKLMNOPQRSTUVWXYZ'\n",
    "print( LETTERS[ random.randint(0, 25) ] )"
   ]
  },
  {
   "cell_type": "markdown",
   "id": "4e4bcf2b-9851-4fef-86ce-31d437962ec8",
   "metadata": {},
   "source": [
    "And combined with a loop, you can create a pseudorandom keystream of characters:"
   ]
  },
  {
   "cell_type": "code",
   "execution_count": null,
   "id": "480224a4-615f-49a6-908d-aa516995768e",
   "metadata": {
    "execution": {
     "iopub.execute_input": "2025-04-28T15:58:35.405203Z",
     "iopub.status.busy": "2025-04-28T15:58:35.404911Z",
     "iopub.status.idle": "2025-04-28T15:58:35.409633Z",
     "shell.execute_reply": "2025-04-28T15:58:35.408636Z"
    }
   },
   "outputs": [],
   "source": [
    "LETTERS = 'ABCDEFGHIJKLMNOPQRSTUVWXYZ'\n",
    "keystream = ''\n",
    "for i in range(100):\n",
    "    keystream += LETTERS[ random.randint(0, 25) ]\n",
    "\n",
    "print(keystream)"
   ]
  },
  {
   "cell_type": "markdown",
   "id": "991c96fd-d878-4db0-bf91-502853b3158f",
   "metadata": {},
   "source": [
    "But one important thing we need to consider with OTP is that both the enciphering and deciphering individuals need the **same** pseudorandom keystream. Luckily, there is a way to control the randomness in the `random` library using what's called a \"seed\". The seed value syncs up the random number generator to a certain point and can be set before creating the keystream. The ability to set a seed value is how we know `random.randint` is not *truly* random.\n",
    "\n",
    "Notice when you run the code below that includes `random.seed(n)` where `n` is an integer value you always get the same output. Changing the value of `n` can produce a different pseudorandom keystream. In that sense, `n` is the *actual* key, since it will determine the pseudorandom keystream that's generated."
   ]
  },
  {
   "cell_type": "code",
   "execution_count": null,
   "id": "12294dab-2efd-4532-83e9-043ca0fc001f",
   "metadata": {
    "execution": {
     "iopub.execute_input": "2025-04-28T15:58:35.413026Z",
     "iopub.status.busy": "2025-04-28T15:58:35.412706Z",
     "iopub.status.idle": "2025-04-28T15:58:35.418705Z",
     "shell.execute_reply": "2025-04-28T15:58:35.417158Z"
    }
   },
   "outputs": [],
   "source": [
    "LETTERS = 'ABCDEFGHIJKLMNOPQRSTUVWXYZ'\n",
    "keystream = ''\n",
    "\n",
    "random.seed(5)\n",
    "\n",
    "for i in range(100):\n",
    "    keystream += LETTERS[ random.randint(0, 25) ]\n",
    "\n",
    "print(keystream)"
   ]
  },
  {
   "cell_type": "markdown",
   "id": "0a608890-e9a1-48ba-b4cd-96a454d57fdb",
   "metadata": {
    "deletable": false,
    "editable": false
   },
   "source": [
    "## Question 3: OTP Key Generation\n",
    "\n",
    "Write a function `otp_keygen` that takes as it's arguments an integer that represents the length of a cleaned message, an integer that is used as the seed value, and a string that represents the alphabet it should use to create a one time pad key of equal length of the message.\n",
    "\n",
    "**Example:**\n",
    "\n",
    "```python\n",
    ">>> print( otp_keygen(1000, 17354763458) )\n",
    "HAVETKTBPNZAIQLUZMNUTBDXEETQUJHLXQLRTXVFXQYEUPLEUAYUGBZEVDFXVIJIGLOVTIYBIQYYPIGEKGRDTBSYZXXAXFPXIYUO\n",
    "```"
   ]
  },
  {
   "cell_type": "code",
   "execution_count": null,
   "id": "dba2fbd2-0e15-480f-a8ea-66f41a5b1d00",
   "metadata": {
    "execution": {
     "iopub.execute_input": "2025-04-28T15:58:35.422606Z",
     "iopub.status.busy": "2025-04-28T15:58:35.422250Z",
     "iopub.status.idle": "2025-04-28T15:58:35.429128Z",
     "shell.execute_reply": "2025-04-28T15:58:35.427883Z"
    },
    "tags": [
     "otter_answer_cell"
    ]
   },
   "outputs": [],
   "source": [
    "def otp_keygen(message_length, seed_value, LETTERS = 'ABCDEFGHIJKLMNOPQRSTUVWXYZ'):\n",
    "    \"\"\"\n",
    "    Arguments:\n",
    "        message_length (int): the length of the cleaned message that needs an OTP key\n",
    "        seed_value (int): a number to set the seed for the random module\n",
    "        LETTERS (str, optional): defines the alphabet of allowable characters\n",
    "    Returns:\n",
    "        (str): a pseudorandom one time pad keystream that contains only the characters in LETTERS\n",
    "    \"\"\"\n",
    "\n",
    "    import random\n",
    "    \n",
    "    # Your code below this comment\n",
    "    \n",
    "\n",
    "print( otp_keygen(100, 17354763458) )"
   ]
  },
  {
   "cell_type": "code",
   "execution_count": null,
   "id": "8c171cb0",
   "metadata": {
    "deletable": false,
    "editable": false
   },
   "outputs": [],
   "source": [
    "grader.check(\"q3\")"
   ]
  },
  {
   "cell_type": "markdown",
   "id": "04038beb-fb00-49d6-a732-a430b8a4435a",
   "metadata": {
    "deletable": false,
    "editable": false
   },
   "source": [
    "## Question 4: The OTP Vigenère Cipher\n",
    "\n",
    "Write a function, `otp_vigenere`, that takes in an integer `seed_value` that represents the seed value to be used when creating random characters, a string `message` that represents the message to be enciphered or deciphered, a boolean `encipher`, and a string `LETTERS`.\n",
    "\n",
    "**Hint:** Use the functions you've already written in this homework! It should make this a very straightforward problem to solve.\n",
    "\n",
    "**Examples:**\n",
    "```python\n",
    ">>> print( otp_vigenere(42, 'I have no special talent. I am only passionately curious. Albert Einstein') )\n",
    "RQSZM UNHDO DHCGY EXFUN HAZNK QCYTM RDSDT KDDZV MURXM WISAT FDFHP NYIUO\n",
    "\n",
    ">>> print( otp_vigenere(42, 'CKASM UVWMH XFRNL NMEPZ PQFOE RUJWJ FPCFI SEJXH QESWY YYVEG DWPTG ASFFB', False) )\n",
    "ihavenospecialtalentiamonlypassionatelycuriousalberteinstein\n",
    "```"
   ]
  },
  {
   "cell_type": "code",
   "execution_count": null,
   "id": "a0e13b31-54c5-4dee-87a7-959b87955b0e",
   "metadata": {
    "execution": {
     "iopub.execute_input": "2025-04-28T15:58:35.519049Z",
     "iopub.status.busy": "2025-04-28T15:58:35.518751Z",
     "iopub.status.idle": "2025-04-28T15:58:35.524344Z",
     "shell.execute_reply": "2025-04-28T15:58:35.523591Z"
    },
    "tags": [
     "otter_answer_cell"
    ]
   },
   "outputs": [],
   "source": [
    "def otp_vigenere(seed_value, message, encipher=True, LETTERS = 'ABCDEFGHIJKLMNOPQRSTUVWXYZ'):\n",
    "    \"\"\"\n",
    "    Arguments:\n",
    "        seed_value (int): the seed value for the random module\n",
    "        message (str): either the plaintext or ciphertext to work with\n",
    "        encipher (bool, optional): True --> encipher the message, False --> decipher\n",
    "        LETTERS (str, optional): defines the alphabet of allowable characters\n",
    "    Returns:\n",
    "        (str): encrypted / decrypted version of message formatting to specifications\n",
    "    \"\"\"\n",
    "    cleaned_message = ...\n",
    "    keystream = ...\n",
    "    output = '' \n",
    "    \n",
    "    # Your code below this comment\n",
    "    \n",
    "\n",
    "print( otp_vigenere(42, 'I have no special talent. I am only passionately curious. Albert Einstein') )\n",
    "print( otp_vigenere(42, 'CKASM UVWMH XFRNL NMEPZ PQFOE RUJWJ FPCFI SEJXH QESWY YYVEG DWPTG ASFFB', False) )"
   ]
  },
  {
   "cell_type": "code",
   "execution_count": null,
   "id": "0d2af642",
   "metadata": {
    "deletable": false,
    "editable": false
   },
   "outputs": [],
   "source": [
    "grader.check(\"q4\")"
   ]
  },
  {
   "cell_type": "markdown",
   "id": "229fd447-30ee-4d2a-94f7-ace04df9ef9a",
   "metadata": {
    "deletable": false,
    "editable": false
   },
   "source": [
    "<!-- BEGIN QUESTION -->\n",
    "\n",
    "## Question 5: Character Frequency\n",
    "\n",
    "One goal of the one time pad is to help disguise character frequencies, hopefully creating an almost uniform distribution of each letter in the alphabet making it impossible for an attacker to use frequency analysis to help crack the message. Let's see how well your OTP function will disguise a message.\n",
    "\n",
    "Run the code cell below to load the sample plaintext found in `hw02plaintext.txt` to the variable `plaintext`. The file contains the entire book, *The Scarlet Letter*."
   ]
  },
  {
   "cell_type": "code",
   "execution_count": null,
   "id": "0880f55b-c163-4007-98f3-62d35c1e88f9",
   "metadata": {
    "deletable": false,
    "editable": false,
    "execution": {
     "iopub.execute_input": "2025-04-28T15:58:35.633291Z",
     "iopub.status.busy": "2025-04-28T15:58:35.633048Z",
     "iopub.status.idle": "2025-04-28T15:58:35.638224Z",
     "shell.execute_reply": "2025-04-28T15:58:35.637667Z"
    }
   },
   "outputs": [],
   "source": [
    "with open('hw02plaintext.txt') as f: \n",
    "    plaintext = f.read() "
   ]
  },
  {
   "cell_type": "markdown",
   "id": "c73b2ebc-1238-4405-be03-4e7690486d0b",
   "metadata": {
    "deletable": false,
    "editable": false
   },
   "source": [
    "In the code cell below, encipher this message using the `otp_vigenere` function with a seed of your choosing. Save this result to the variable `ciphertext`.\n",
    "\n",
    "**Note:** This may take a few seconds of computational time as the computer will need to generate a very long OTP keystream and then use it to encipher the entire book."
   ]
  },
  {
   "cell_type": "markdown",
   "id": "a7686cec",
   "metadata": {
    "tags": [
     "otter_answer_cell"
    ]
   },
   "source": [
    "_Type your answer here, replacing this text._"
   ]
  },
  {
   "cell_type": "code",
   "execution_count": null,
   "id": "45f30bdd-9e63-445a-8098-dc88eaef872c",
   "metadata": {
    "execution": {
     "iopub.execute_input": "2025-04-28T15:58:35.640873Z",
     "iopub.status.busy": "2025-04-28T15:58:35.640394Z",
     "iopub.status.idle": "2025-04-28T15:58:36.265461Z",
     "shell.execute_reply": "2025-04-28T15:58:36.264692Z"
    },
    "tags": [
     "otter_answer_cell"
    ]
   },
   "outputs": [],
   "source": [
    "ciphertext = ..."
   ]
  },
  {
   "cell_type": "code",
   "execution_count": null,
   "id": "f8725d18-7a43-4736-8854-a618814c91c1",
   "metadata": {
    "execution": {
     "iopub.execute_input": "2025-04-28T15:58:36.268642Z",
     "iopub.status.busy": "2025-04-28T15:58:36.268356Z",
     "iopub.status.idle": "2025-04-28T15:58:37.284819Z",
     "shell.execute_reply": "2025-04-28T15:58:37.283842Z"
    },
    "tags": [
     "otter_answer_cell"
    ]
   },
   "outputs": [],
   "source": [
    "# Your bar chart code should go in this cell\n"
   ]
  },
  {
   "cell_type": "markdown",
   "id": "07fdeee7-3cde-41f5-bdcc-1a55ad267e48",
   "metadata": {
    "deletable": false,
    "editable": false
   },
   "source": [
    "<!-- END QUESTION -->\n",
    "\n",
    "<!-- BEGIN QUESTION -->\n",
    "\n",
    "## Question 6\n",
    "\n",
    "Does it appear that your OTP cipher has done a good job disguising character frequencies? Why or why not? Point to specific evidence from your bar chart in your response."
   ]
  },
  {
   "cell_type": "markdown",
   "id": "529e99c6",
   "metadata": {
    "tags": [
     "otter_answer_cell"
    ]
   },
   "source": [
    "_Type your answer here, replacing this text._"
   ]
  },
  {
   "cell_type": "markdown",
   "id": "f10100bd-8b82-45f3-8ea6-0592b014ffc9",
   "metadata": {
    "deletable": false,
    "editable": false
   },
   "source": [
    "<!-- END QUESTION -->\n",
    "\n",
    "<!-- BEGIN QUESTION -->\n",
    "\n",
    "## Question 7: Index of Coincidence\n",
    "\n",
    "Write a function named `ioc` that computes the index of coincidence for a given input. Then, use it to calculate the index of coincidence for the ciphertext you generated. Store the result to the variable `index_of_coincidence`. There are no tests for this question, as it will be manually graded. Make sure you feel good about it!"
   ]
  },
  {
   "cell_type": "code",
   "execution_count": null,
   "id": "7a8e789a-21ff-4220-86b5-d864444dddab",
   "metadata": {
    "execution": {
     "iopub.execute_input": "2025-04-28T15:58:37.288499Z",
     "iopub.status.busy": "2025-04-28T15:58:37.288121Z",
     "iopub.status.idle": "2025-04-28T15:58:37.293571Z",
     "shell.execute_reply": "2025-04-28T15:58:37.292758Z"
    },
    "tags": [
     "otter_answer_cell"
    ]
   },
   "outputs": [],
   "source": [
    "def ioc(text, LETTERS='ABCDEFGHIJKLMNOPQRSTUVWXYZ'):"
   ]
  },
  {
   "cell_type": "code",
   "execution_count": null,
   "id": "46a1aea3-b972-461c-9d03-aa6e94134baf",
   "metadata": {
    "deletable": false,
    "editable": false,
    "execution": {
     "iopub.execute_input": "2025-04-28T15:58:37.296247Z",
     "iopub.status.busy": "2025-04-28T15:58:37.295980Z",
     "iopub.status.idle": "2025-04-28T15:58:37.361024Z",
     "shell.execute_reply": "2025-04-28T15:58:37.360299Z"
    }
   },
   "outputs": [],
   "source": [
    "ioc(ciphertext)"
   ]
  },
  {
   "cell_type": "markdown",
   "id": "d145c9d6",
   "metadata": {
    "deletable": false,
    "editable": false
   },
   "source": [
    "<!-- END QUESTION -->\n",
    "\n"
   ]
  },
  {
   "cell_type": "markdown",
   "id": "d3b94812",
   "metadata": {
    "deletable": false,
    "editable": false
   },
   "source": [
    "## Submission\n",
    "\n",
    "Make sure you have run all cells in your notebook in order before running the cell below, so that all images/graphs appear in the output. The cell below will generate a zip file for you to submit."
   ]
  },
  {
   "cell_type": "code",
   "execution_count": null,
   "id": "2b29d245",
   "metadata": {
    "deletable": false,
    "editable": false
   },
   "outputs": [],
   "source": [
    "grader.export(pdf=False, force_save=True)"
   ]
  },
  {
   "cell_type": "markdown",
   "id": "08645e3b",
   "metadata": {},
   "source": [
    " "
   ]
  }
 ],
 "metadata": {
  "kernelspec": {
   "display_name": "Python 3 (ipykernel)",
   "language": "python",
   "name": "python3"
  },
  "language_info": {
   "codemirror_mode": {
    "name": "ipython",
    "version": 3
   },
   "file_extension": ".py",
   "mimetype": "text/x-python",
   "name": "python",
   "nbconvert_exporter": "python",
   "pygments_lexer": "ipython3",
   "version": "3.12.9"
  },
  "otter": {
   "OK_FORMAT": true,
   "tests": {
    "q1": {
     "name": "q1",
     "points": 2,
     "suites": [
      {
       "cases": [
        {
         "code": ">>> vigenere('onaplaneaplaneisdue', 'hospital') != None\nTrue",
         "failure_message": "Make sure you are using a return statement in your function, not just printing the output",
         "hidden": false,
         "locked": false,
         "points": 0
        },
        {
         "code": ">>> vigenere('test_message', 'test_key') == vigenere('TESTMESSAGE', 'TESTKEY')\nTrue",
         "failure_message": "Are you cleaning your message?",
         "hidden": false,
         "locked": false,
         "points": 0.2
        },
        {
         "code": ">>> vigenere('VBSET TNPHD DPVXI DKIW', 'hospital', decrypt=True).islower()\nTrue",
         "failure_message": "Is your deciphered text lowercase?",
         "hidden": false,
         "locked": false,
         "points": 0.2
        },
        {
         "code": ">>> vigenere('onaplaneaplaneisdue', 'hospital').isupper()\nTrue",
         "failure_message": "Is your ciphertext uppercase?",
         "hidden": false,
         "locked": false,
         "points": 0.2
        },
        {
         "code": ">>> vigenere('onaplaneaplaneisdue', 'hospital') == text_block(vigenere('onaplaneaplaneisdue', 'hospital').replace(' ', ''), 5)\nTrue",
         "failure_message": "Is your ciphertext blocked?",
         "hidden": false,
         "locked": false,
         "points": 0.2
        },
        {
         "code": ">>> vigenere('onaplaneaplaneisdue', 'hospital')\n'VBSET TNPHD DPVXI DKIW'",
         "hidden": false,
         "locked": false,
         "points": 0,
         "success_message": "Encryption is correct!"
        },
        {
         "code": ">>> vigenere('VBSET TNPHD DPVXI DKIW', 'hospital', decrypt=True)\n'onaplaneaplaneisdue'",
         "hidden": false,
         "locked": false,
         "points": 0,
         "success_message": "Decryption is correct!"
        },
        {
         "code": ">>> vigenere('no kangaroos or koalas in this message', 'a', LETTERS='ABCDEFGHIJLMNOPQRSTUVWXYZ')\n'NOANG AROOS OROAL ASINT HISME SSAGE'",
         "failure_message": "Are you using LETTERS in all your steps?",
         "hidden": false,
         "locked": false,
         "points": 0.2
        }
       ],
       "scored": true,
       "setup": "",
       "teardown": "",
       "type": "doctest"
      }
     ]
    },
    "q2": {
     "name": "q2",
     "points": 3,
     "suites": [
      {
       "cases": [
        {
         "code": ">>> autokey('acceptthegreaterchallenge', 'UNICORN') != None\nTrue",
         "failure_message": "Make sure you are using a return statement in your function, not just printing the output",
         "hidden": false,
         "locked": false,
         "points": 0
        },
        {
         "code": ">>> autokey('acceptthegreater2challenge', 'UNICORN') == autokey('ACCEPTTHEGREATERCHALLENGE', 'UNICORN')\nTrue",
         "failure_message": "Are you cleaning your message?",
         "hidden": false,
         "locked": false,
         "points": 0.2
        },
        {
         "code": ">>> autokey('UPKGD KGHGI VTTML VIYEL EIEIL', 'unicorn', decrypt=True).islower()\nTrue",
         "failure_message": "Is your deciphered text lowercase?",
         "hidden": false,
         "locked": false,
         "points": 0.2
        },
        {
         "code": ">>> autokey('acceptthegreaterchallenge', 'UNICORN').isupper()\nTrue",
         "failure_message": "Is your ciphertext uppercase?",
         "hidden": false,
         "locked": false,
         "points": 0.2
        },
        {
         "code": ">>> autokey('acceptthegreaterchallenge', 'UNICORN') == text_block(autokey('acceptthegreaterchallenge', 'UNICORN').replace(' ', ''), 5)\nTrue",
         "failure_message": "Is your ciphertext blocked?",
         "hidden": false,
         "locked": false,
         "points": 0.2
        },
        {
         "code": ">>> autokey('acceptthegreaterchallenge', 'UNICORN')\n'UPKGD KGHGI VTTML VIYEL EIEIL'",
         "hidden": false,
         "locked": false,
         "points": 0,
         "success_message": "Encryption is correct!"
        },
        {
         "code": ">>> autokey('UPKGD KGHGI VTTML VIYEL EIEIL', 'unicorn', decrypt=True)\n'acceptthegreaterchallenge'",
         "hidden": false,
         "locked": false,
         "points": 0,
         "success_message": "Decryption is correct!"
        },
        {
         "code": ">>> autokey('acceptthegreaterchallenge', 'UNICORN', LETTERS='ABCDHJLOPQTUVWZ')\n'UHQPV VVTJL HTPT'",
         "failure_message": "Are you using LETTERS in all your steps?",
         "hidden": false,
         "locked": false,
         "points": 0.2
        }
       ],
       "scored": true,
       "setup": "",
       "teardown": "",
       "type": "doctest"
      }
     ]
    },
    "q3": {
     "name": "q3",
     "points": 2,
     "suites": [
      {
       "cases": [
        {
         "code": ">>> otp_keygen(100, 17354763458) != None\nTrue",
         "failure_message": "Make sure you are using a return statement in your function, not just printing the output",
         "hidden": false,
         "locked": false,
         "points": 0
        },
        {
         "code": ">>> otp_keygen(50, 9194162735, LETTERS='01')\n'10010010001010110110011000011100010010000010010111'",
         "failure_message": "Make sure you are using LETTERS in your process so your code still works for different alphabets",
         "hidden": false,
         "locked": false,
         "points": 1
        },
        {
         "code": ">>> otp_keygen(100, 17354763458)\n'HAVETKTBPNZAIQLUZMNUTBDXEETQUJHLXQLRTXVFXQYEUPLEUAYUGBZEVDFXVIJIGLOVTIYBIQYYPIGEKGRDTBSYZXXAXFPXIYUO'",
         "failure_message": "Make sure you are using LETTERS in your process so your code still works for different alphabets",
         "hidden": false,
         "locked": false,
         "points": 0
        }
       ],
       "scored": true,
       "setup": "",
       "teardown": "",
       "type": "doctest"
      }
     ]
    },
    "q4": {
     "name": "q4",
     "points": 3,
     "suites": [
      {
       "cases": [
        {
         "code": ">>> otp_vigenere(42, 'I have no special talent. I am only passionately curious. Albert Einstein') != False\nTrue",
         "failure_message": "Make sure you are using a return statement in your function, not just printing the output",
         "hidden": false,
         "locked": false,
         "points": 0
        },
        {
         "code": ">>> otp_vigenere(42, 'he llo!') == otp_vigenere(42, 'HELLO')\nTrue",
         "failure_message": "Are you cleaning your message?",
         "hidden": false,
         "locked": false,
         "points": 0.25
        },
        {
         "code": ">>> otp_vigenere(42, 'HELLO', False).islower()\nTrue",
         "failure_message": "Is your deciphered text lowercase?",
         "hidden": false,
         "locked": false,
         "points": 0.25
        },
        {
         "code": ">>> otp_vigenere(42, 'HELLOFRIEND').isupper()\nTrue",
         "failure_message": "Is your ciphertext uppercase?",
         "hidden": false,
         "locked": false,
         "points": 0.25
        },
        {
         "code": ">>> otp_vigenere(42, 'HELLOFRIEND') == text_block(otp_vigenere(42, 'HELLOFRIEND').replace(' ', ''), 5)\nTrue",
         "failure_message": "Is your ciphertext blocked?",
         "hidden": false,
         "locked": false,
         "points": 0.25
        },
        {
         "code": ">>> otp_vigenere(42, 'I have no special talent. I am only passionately curious. Albert Einstein')\n'CKASM UVWMH XFRNL NMEPZ PQFOE RUJWJ FPCFI SEJXH QESWY YYVEG DWPTG ASFFB'",
         "hidden": false,
         "locked": false,
         "points": 0,
         "success_message": "Encryption is correct!"
        },
        {
         "code": ">>> otp_vigenere(42, 'CKASM UVWMH XFRNL NMEPZ PQFOE RUJWJ FPCFI SEJXH QESWY YYVEG DWPTG ASFFB', False)\n'ihavenospecialtalentiamonlypassionatelycuriousalberteinstein'",
         "hidden": false,
         "locked": false,
         "points": 0,
         "success_message": "Decryption is correct!"
        }
       ],
       "scored": true,
       "setup": "",
       "teardown": "",
       "type": "doctest"
      }
     ]
    }
   }
  }
 },
 "nbformat": 4,
 "nbformat_minor": 5
}
